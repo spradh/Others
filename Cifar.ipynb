{
 "cells": [
  {
   "cell_type": "code",
   "execution_count": 2,
   "metadata": {},
   "outputs": [
    {
     "name": "stderr",
     "output_type": "stream",
     "text": [
      "/Users/spradhan/anaconda3/lib/python3.6/site-packages/h5py/__init__.py:36: FutureWarning: Conversion of the second argument of issubdtype from `float` to `np.floating` is deprecated. In future, it will be treated as `np.float64 == np.dtype(float).type`.\n",
      "  from ._conv import register_converters as _register_converters\n",
      "Using TensorFlow backend.\n"
     ]
    }
   ],
   "source": [
    "from keras.models import Model\n",
    "from keras.datasets import cifar10\n",
    "from keras.utils import to_categorical\n",
    "from keras.callbacks import LearningRateScheduler, History\n",
    "from keras.layers import Input, Flatten, Dense, Dropout, Activation\n",
    "from keras.layers import Conv2D,MaxPooling2D,AveragePooling2D, GlobalAveragePooling2D\n",
    "from keras.layers import BatchNormalization\n",
    "from keras.initializers import VarianceScaling\n",
    "from keras.optimizers import SGD\n",
    "\n",
    "import numpy as np\n",
    "import matplotlib.pyplot as plt"
   ]
  },
  {
   "cell_type": "code",
   "execution_count": 3,
   "metadata": {},
   "outputs": [
    {
     "name": "stdout",
     "output_type": "stream",
     "text": [
      "(50000, 32, 32, 3)\n"
     ]
    }
   ],
   "source": [
    "# Hide TensorFlow's Gripes\n",
    "\n",
    "import os\n",
    "os.environ['TF_CPP_MIN_LOG_LEVEL'] = '2'\n",
    "\n",
    "# Import Data\n",
    "\n",
    "(x_train, y_train), (x_test, y_test) = cifar10.load_data()\n",
    "print (x_train.shape)"
   ]
  },
  {
   "cell_type": "code",
   "execution_count": null,
   "metadata": {},
   "outputs": [
    {
     "name": "stdout",
     "output_type": "stream",
     "text": [
      "Parameters: 1174826\n",
      "Train on 50000 samples, validate on 10000 samples\n",
      "Epoch 1/15\n",
      "50000/50000 [==============================] - 659s 13ms/step - loss: 2.0164 - acc: 0.2408 - val_loss: 1.8083 - val_acc: 0.3482\n",
      "Epoch 2/15\n",
      "23870/50000 [=============>................] - ETA: 23:02 - loss: 1.7265 - acc: 0.3580"
     ]
    }
   ],
   "source": [
    "\n",
    "\n",
    "# Scale Image Data\n",
    "\n",
    "x_train = x_train/255.\n",
    "x_test = x_test/255.\n",
    "\n",
    "# Make One-Hot Targets\n",
    "\n",
    "y_train = to_categorical(y_train)\n",
    "y_test = to_categorical(y_test)\n",
    "\n",
    "# Optimization Parameters\n",
    "\n",
    "epochs  = 15      # Epochs to train for\n",
    "batch   = 35       # Batch size\n",
    "lr      = 0.01     # Learning rate\n",
    "dec     = 0.4      # Learning rate decrease factor\n",
    "mom     = 0.9      # Momentum\n",
    "\n",
    "# Build Optimizer\n",
    "\n",
    "opt = SGD(lr=lr, momentum=mom)\n",
    "\n",
    "def schedule(ep):\n",
    "\tif   ep < int(.50*epochs): return lr*dec**0\n",
    "\telif ep < int(.70*epochs): return lr*dec**1\n",
    "\telif ep < int(.85*epochs): return lr*dec**2\n",
    "\telse:                      return lr*dec**3\n",
    "\n",
    "lr_schedule = LearningRateScheduler(schedule)\n",
    "\n",
    "# Name Your Model!\n",
    "\n",
    "model_name = 'cifar'\n",
    "\n",
    "# Track Loss History\n",
    "\n",
    "history = History()\n",
    "\n",
    "# Build Network\n",
    "\n",
    "inp = Input(shape=x_train.shape[1:])\n",
    "x = inp\n",
    "x = Conv2D(32,3,activation='relu',padding='same')(x)\n",
    "#x = Dropout(0.2)(x)\n",
    "x = Conv2D(32,3,activation='relu',padding='same')(x)\n",
    "x = MaxPooling2D()(x)\n",
    "x = Conv2D(64,3,activation='relu',padding='same')(x)\n",
    "#x = Dropout(0.2)(x)\n",
    "x = Conv2D(64,3,activation='relu',padding='same')(x)\n",
    "#x = MaxPooling2D()(x)\n",
    "x = Conv2D(128,3,activation='relu',padding='same')(x)\n",
    "#x = Dropout(0.2)(x)\n",
    "x = Conv2D(128,3,activation='relu',padding='same')(x)\n",
    "x = MaxPooling2D()(x)\n",
    "x = Conv2D(256,3,activation='relu',padding='same')(x)\n",
    "#x = Dropout(0.2)(x)\n",
    "x = Conv2D(256,3,activation='relu',padding='same')(x)\n",
    "x = GlobalAveragePooling2D()(x)\n",
    "x = Dense(10)(x)\n",
    "x = Activation('softmax')(x)\n",
    "\n",
    "out = x\n",
    "model = Model(inp, out)\n",
    "print ('Parameters:',model.count_params())\n",
    "\n",
    "model.compile(loss='categorical_crossentropy',\n",
    "              optimizer=opt,\n",
    "              metrics=['accuracy'])\n",
    "\n",
    "# Train Network\n",
    "\n",
    "model.fit(x_train, y_train,\n",
    "          validation_data=(x_test, y_test),\n",
    "          epochs=epochs,\n",
    "          batch_size=batch,\n",
    "          callbacks=[history, lr_schedule],\n",
    "          verbose=1)\n",
    "\n",
    "# Save Loss History\n",
    "\n",
    "np.savez(model_name + '.npz',\n",
    "\t\t loss=history.history['loss'],\n",
    "\t\t val_loss=history.history['val_loss'],\n",
    "\t\t acc=history.history['acc'],\n",
    "\t\t val_acc=history.history['val_acc'])\n"
   ]
  },
  {
   "cell_type": "code",
   "execution_count": 4,
   "metadata": {},
   "outputs": [
    {
     "data": {
      "image/png": "[encoded data removed]",
      "text/plain": [
       "<matplotlib.figure.Figure at 0x1822e00978>"
      ]
     },
     "metadata": {},
     "output_type": "display_data"
    }
   ],
   "source": [
    "# Plot Loss History\n",
    "\n",
    "plt.plot(history.history['val_acc'], label='val')\n",
    "plt.plot(history.history['acc'], label='train')\n",
    "plt.legend(loc='lower right')\n",
    "plt.ylim([0,1])\n",
    "plt.xticks(fontsize=14)\n",
    "plt.yticks(np.linspace(0., 1., 11), fontsize=14)\n",
    "plt.grid(True, 'major', 'y', ls='--', lw=.5, c='k', alpha=.3)\n",
    "filetype='.png'\n",
    "plt.savefig(model_name + filetype)\n",
    "plt.title(\"Cifar \\n epochs=25; batch=32; lr= 0.01; dec=0.4; mom=0.9\")\n",
    "plt.show()\n"
   ]
  },
  {
   "cell_type": "markdown",
   "metadata": {},
   "source": [
    "### Default\n",
    "Epoch 23/25\n",
    "\n",
    "50000/50000 [==============================] - 268s 5ms/step - loss: 0.7606 - acc: 0.7327 - val_loss: 1.1254 - val_acc: 0.6184\n",
    "\n",
    "Epoch 24/25\n",
    "\n",
    "50000/50000 [==============================] - 72s 1ms/step - loss: 0.7531 - acc: 0.7345 - val_loss: 1.1287 - val_acc: 0.6176\n",
    "\n",
    "Epoch 25/25\n",
    "\n",
    "50000/50000 [==============================] - 67s 1ms/step - loss: 0.7457 - acc: 0.7376 - val_loss: 1.1273 - val_acc: 0.6200"
   ]
  },
  {
   "cell_type": "markdown",
   "metadata": {},
   "source": [
    "# 32-32-64-64-128-128 without drop out"
   ]
  },
  {
   "cell_type": "markdown",
   "metadata": {},
   "source": [
    "Parameters: 288298\n",
    "Train on 50000 samples, validate on 10000 samples\n",
    "\n",
    "Epoch 1/15\n",
    "\n",
    "50000/50000 [==============================] - 239s 5ms/step - loss: 1.9228 - acc: 0.2759 - val_loss: 1.6525 - val_acc: 0.3841\n",
    "\n",
    "Epoch 2/15\n",
    "\n",
    "50000/50000 [==============================] - 240s 5ms/step - loss: 1.4965 - acc: 0.4462 - val_loss: 1.2977 - val_acc: 0.5288\n",
    "\n",
    "Epoch 3/15\n",
    "\n",
    "50000/50000 [==============================] - 238s 5ms/step - loss: 1.2386 - acc: 0.5509 - val_loss: 1.0706 - val_acc: 0.6227\n",
    "\n",
    "Epoch 4/15\n",
    "\n",
    "50000/50000 [==============================] - 238s 5ms/step - loss: 1.0387 - acc: 0.6278 - val_loss: 1.0043 - val_acc: 0.6510\n",
    "\n",
    "Epoch 5/15\n",
    "\n",
    "50000/50000 [==============================] - 247s 5ms/step - loss: 0.9047 - acc: 0.6812 - val_loss: 0.8548 - val_acc: 0.7018\n",
    "\n",
    "Epoch 6/15\n",
    "\n",
    "50000/50000 [==============================] - 241s 5ms/step - loss: 0.7903 - acc: 0.7213 - val_loss: 0.7895 - val_acc: 0.7299\n",
    "\n",
    "Epoch 7/15\n",
    "\n",
    "50000/50000 [==============================] - 243s 5ms/step - loss: 0.7019 - acc: 0.7542 - val_loss: 0.7251 - val_acc: 0.7465\n",
    "\n",
    "Epoch 8/15\n",
    "\n",
    "50000/50000 [==============================] - 338s 7ms/step - loss: 0.5358 - acc: 0.8124 - val_loss: 0.6822 - val_acc: 0.7670\n",
    "\n",
    "Epoch 9/15\n",
    "\n",
    "50000/50000 [==============================] - 249s 5ms/step - loss: 0.4869 - acc: 0.8295 - val_loss: 0.6395 - val_acc: 0.7831\n",
    "\n",
    "Epoch 10/15\n",
    "\n",
    "50000/50000 [==============================] - 250s 5ms/step - loss: 0.4520 - acc: 0.8422 - val_loss: 0.6524 - val_acc: 0.7797\n",
    "\n",
    "Epoch 11/15\n",
    "\n",
    "50000/50000 [==============================] - 249s 5ms/step - loss: 0.3631 - acc: 0.8737 - val_loss: 0.6109 - val_acc: 0.7955\n",
    "\n",
    "Epoch 12/15\n",
    "\n",
    "50000/50000 [==============================] - 250s 5ms/step - loss: 0.3402 - acc: 0.8815 - val_loss: 0.6111 - val_acc: 0.8012\n",
    "\n",
    "Epoch 13/15\n",
    "\n",
    "50000/50000 [==============================] - 251s 5ms/step - loss: 0.2942 - acc: 0.8990 - val_loss: 0.6170 - val_acc: 0.8036\n",
    "\n",
    "Epoch 14/15\n",
    "\n",
    "50000/50000 [==============================] - 255s 5ms/step - loss: 0.2819 - acc: 0.9044 - val_loss: 0.6325 - val_acc: 0.8035\n",
    "\n",
    "Epoch 15/15\n",
    "\n",
    "50000/50000 [==============================] - 250s 5ms/step - loss: 0.2713 - acc: 0.9087 - val_loss: 0.6265 - val_acc: 0.8048"
   ]
  },
  {
   "cell_type": "code",
   "execution_count": null,
   "metadata": {},
   "outputs": [],
   "source": []
  }
 ],
 "metadata": {
  "kernelspec": {
   "display_name": "Python 3",
   "language": "python",
   "name": "python3"
  },
  "language_info": {
   "codemirror_mode": {
    "name": "ipython",
    "version": 3
   },
   "file_extension": ".py",
   "mimetype": "text/x-python",
   "name": "python",
   "nbconvert_exporter": "python",
   "pygments_lexer": "ipython3",
   "version": "3.6.4"
  }
 },
 "nbformat": 4,
 "nbformat_minor": 2
}
