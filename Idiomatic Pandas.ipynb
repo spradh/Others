{
  "cells": [
    {
      "cell_type": "markdown",
      "metadata": {
        "id": "view-in-github",
        "colab_type": "text"
      },
      "source": [
        "<a href=\"https://colab.research.google.com/github/spradh/Others/blob/master/Idiomatic%20Pandas.ipynb\" target=\"_parent\"><img src=\"https://colab.research.google.com/assets/colab-badge.svg\" alt=\"Open In Colab\"/></a>"
      ]
    },
    {
      "cell_type": "markdown",
      "metadata": {
        "pycharm": {
          "name": "#%% md\n"
        },
        "id": "1ALXns5zHN6O"
      },
      "source": [
        "# Idiomatic Pandas\n",
        "## 5 Tips for Better Pandas Code"
      ]
    },
    {
      "cell_type": "markdown",
      "metadata": {
        "pycharm": {
          "name": "#%% md\n"
        },
        "id": "WmEWloM8HN6W"
      },
      "source": [
        "## About Matt  Harrison @\\_\\_mharrison\\_\\_\n",
        "\n",
        "* Author of Effective Pandas, Machine Learning Pocket Reference, and Illustrated Guide to Python 3.\n",
        "* Advisor at Ponder (creators of Modin)\n",
        "* Corporate trainer at MetaSnake. Taught Pandas to 1000's of students.\n",
        "* Upcoming Live Course https://maven.com/matt-harrison/data-analysis-using-pandas"
      ]
    },
    {
      "cell_type": "code",
      "execution_count": null,
      "metadata": {
        "pycharm": {
          "name": "#%%\n"
        },
        "id": "UMYVEKwRHN6Y"
      },
      "outputs": [],
      "source": []
    },
    {
      "cell_type": "code",
      "execution_count": null,
      "metadata": {
        "pycharm": {
          "name": "#%%\n"
        },
        "id": "rvC-jVmTHN6Z"
      },
      "outputs": [],
      "source": []
    },
    {
      "cell_type": "code",
      "execution_count": null,
      "metadata": {
        "pycharm": {
          "name": "#%%\n"
        },
        "id": "LecqQZQ5HN6Z"
      },
      "outputs": [],
      "source": []
    },
    {
      "cell_type": "code",
      "execution_count": null,
      "metadata": {
        "pycharm": {
          "name": "#%%\n"
        },
        "id": "C0aWXkHCHN6a"
      },
      "outputs": [],
      "source": []
    },
    {
      "cell_type": "code",
      "execution_count": null,
      "metadata": {
        "pycharm": {
          "name": "#%%\n"
        },
        "id": "Ey4onTzMHN6b"
      },
      "outputs": [],
      "source": []
    },
    {
      "cell_type": "code",
      "execution_count": null,
      "metadata": {
        "pycharm": {
          "name": "#%%\n"
        },
        "id": "snz9oEk6HN6b"
      },
      "outputs": [],
      "source": []
    },
    {
      "cell_type": "markdown",
      "metadata": {
        "pycharm": {
          "name": "#%% md\n"
        },
        "id": "WVTB5xCOHN6c"
      },
      "source": [
        "## Practice this on your data with your team!\n",
        "* https://maven.com/matt-harrison/data-analysis-using-pandas\n",
        "* Contact me matt@metasnake.com\n",
        "* Follow on Twitter @\\_\\_mharrison\\_\\_"
      ]
    },
    {
      "cell_type": "code",
      "execution_count": null,
      "metadata": {
        "pycharm": {
          "name": "#%%\n"
        },
        "id": "tWYBwxiiHN6g"
      },
      "outputs": [],
      "source": []
    },
    {
      "cell_type": "code",
      "execution_count": null,
      "metadata": {
        "pycharm": {
          "name": "#%%\n"
        },
        "id": "jMJtSHzCHN6h"
      },
      "outputs": [],
      "source": []
    },
    {
      "cell_type": "markdown",
      "metadata": {
        "pycharm": {
          "name": "#%% md\n"
        },
        "id": "B2IQQVxIHN6h"
      },
      "source": [
        "## Outline\n",
        "\n",
        "* Load Data\n",
        "* Types\n",
        "* Chaining\n",
        "* Mutation\n",
        "* Apply\n",
        "* Aggregation"
      ]
    },
    {
      "cell_type": "markdown",
      "metadata": {
        "pycharm": {
          "name": "#%% md\n"
        },
        "id": "gMgxDy7EHN6i"
      },
      "source": [
        "## Data"
      ]
    },
    {
      "cell_type": "code",
      "execution_count": null,
      "metadata": {
        "lines_to_next_cell": 2,
        "pycharm": {
          "name": "#%%\n"
        },
        "id": "ahbFm1-HHN6j"
      },
      "outputs": [],
      "source": [
        "from IPython.display import display\n",
        "import numpy as np\n",
        "import pandas as pd\n",
        "#import modin.pandas as pd"
      ]
    },
    {
      "cell_type": "code",
      "execution_count": null,
      "metadata": {
        "pycharm": {
          "name": "#%%\n"
        },
        "id": "H_0HA7JRHN6k",
        "outputId": "7cc90b38-29a8-46d6-edfa-831020ffb433"
      },
      "outputs": [
        {
          "data": {
            "text/plain": "'1.4.2'"
          },
          "execution_count": 3,
          "metadata": {},
          "output_type": "execute_result"
        }
      ],
      "source": [
        "pd.__version__"
      ]
    },
    {
      "cell_type": "code",
      "execution_count": null,
      "metadata": {
        "pycharm": {
          "name": "#%%\n"
        },
        "id": "Wrzqu5u3HN6l"
      },
      "outputs": [],
      "source": [
        "pd.options.display.min_rows = 20"
      ]
    },
    {
      "cell_type": "code",
      "execution_count": null,
      "outputs": [],
      "source": [
        "import ray\n",
        "ray.init()"
      ],
      "metadata": {
        "pycharm": {
          "name": "#%%\n"
        },
        "id": "BJsKTo5AHN6m"
      }
    },
    {
      "cell_type": "code",
      "execution_count": null,
      "metadata": {
        "pycharm": {
          "name": "#%%\n"
        },
        "id": "4s-RYkyHHN6m",
        "outputId": "1e4d6b13-c17f-488b-fe8e-ac0fe039efdb"
      },
      "outputs": [
        {
          "name": "stderr",
          "output_type": "stream",
          "text": [
            "C:\\Users\\matt\\AppData\\Local\\Temp\\ipykernel_16404\\373335790.py:1: DtypeWarning: Columns (68,70,71,72,73,74,76,79) have mixed types. Specify dtype option on import or set low_memory=False.\n",
            "  autos = pd.read_csv('https://github.com/mattharrison/datasets/raw/master/data/vehicles.csv.zip')\n"
          ]
        }
      ],
      "source": [
        "autos = pd.read_csv('https://github.com/mattharrison/datasets/raw/master/data/vehicles.csv.zip')"
      ]
    },
    {
      "cell_type": "code",
      "execution_count": null,
      "metadata": {
        "scrolled": true,
        "pycharm": {
          "name": "#%%\n"
        },
        "id": "2WPenleTHN6n",
        "outputId": "1a8186b4-e288-470c-9bf6-8ba9e422b56d"
      },
      "outputs": [
        {
          "data": {
            "text/plain": "       barrels08  barrelsA08  charge120  charge240  city08  city08U  cityA08  \\\n0      15.695714         0.0        0.0        0.0      19      0.0        0   \n1      29.964545         0.0        0.0        0.0       9      0.0        0   \n2      12.207778         0.0        0.0        0.0      23      0.0        0   \n3      29.964545         0.0        0.0        0.0      10      0.0        0   \n4      17.347895         0.0        0.0        0.0      17      0.0        0   \n5      14.982273         0.0        0.0        0.0      21      0.0        0   \n6      13.184400         0.0        0.0        0.0      22      0.0        0   \n7      13.733750         0.0        0.0        0.0      23      0.0        0   \n8      12.677308         0.0        0.0        0.0      23      0.0        0   \n9      13.184400         0.0        0.0        0.0      23      0.0        0   \n...          ...         ...        ...        ...     ...      ...      ...   \n41134  16.480500         0.0        0.0        0.0      18      0.0        0   \n41135  12.677308         0.0        0.0        0.0      23      0.0        0   \n41136  13.733750         0.0        0.0        0.0      21      0.0        0   \n41137  11.771786         0.0        0.0        0.0      24      0.0        0   \n41138  13.184400         0.0        0.0        0.0      21      0.0        0   \n41139  14.982273         0.0        0.0        0.0      19      0.0        0   \n41140  14.330870         0.0        0.0        0.0      20      0.0        0   \n41141  15.695714         0.0        0.0        0.0      18      0.0        0   \n41142  15.695714         0.0        0.0        0.0      18      0.0        0   \n41143  18.311667         0.0        0.0        0.0      16      0.0        0   \n\n       cityA08U  cityCD  cityE  ...  mfrCode  c240Dscr  charge240b  c240bDscr  \\\n0           0.0     0.0    0.0  ...      NaN       NaN         0.0        NaN   \n1           0.0     0.0    0.0  ...      NaN       NaN         0.0        NaN   \n2           0.0     0.0    0.0  ...      NaN       NaN         0.0        NaN   \n3           0.0     0.0    0.0  ...      NaN       NaN         0.0        NaN   \n4           0.0     0.0    0.0  ...      NaN       NaN         0.0        NaN   \n5           0.0     0.0    0.0  ...      NaN       NaN         0.0        NaN   \n6           0.0     0.0    0.0  ...      NaN       NaN         0.0        NaN   \n7           0.0     0.0    0.0  ...      NaN       NaN         0.0        NaN   \n8           0.0     0.0    0.0  ...      NaN       NaN         0.0        NaN   \n9           0.0     0.0    0.0  ...      NaN       NaN         0.0        NaN   \n...         ...     ...    ...  ...      ...       ...         ...        ...   \n41134       0.0     0.0    0.0  ...      NaN       NaN         0.0        NaN   \n41135       0.0     0.0    0.0  ...      NaN       NaN         0.0        NaN   \n41136       0.0     0.0    0.0  ...      NaN       NaN         0.0        NaN   \n41137       0.0     0.0    0.0  ...      NaN       NaN         0.0        NaN   \n41138       0.0     0.0    0.0  ...      NaN       NaN         0.0        NaN   \n41139       0.0     0.0    0.0  ...      NaN       NaN         0.0        NaN   \n41140       0.0     0.0    0.0  ...      NaN       NaN         0.0        NaN   \n41141       0.0     0.0    0.0  ...      NaN       NaN         0.0        NaN   \n41142       0.0     0.0    0.0  ...      NaN       NaN         0.0        NaN   \n41143       0.0     0.0    0.0  ...      NaN       NaN         0.0        NaN   \n\n                          createdOn                    modifiedOn  startStop  \\\n0      Tue Jan 01 00:00:00 EST 2013  Tue Jan 01 00:00:00 EST 2013        NaN   \n1      Tue Jan 01 00:00:00 EST 2013  Tue Jan 01 00:00:00 EST 2013        NaN   \n2      Tue Jan 01 00:00:00 EST 2013  Tue Jan 01 00:00:00 EST 2013        NaN   \n3      Tue Jan 01 00:00:00 EST 2013  Tue Jan 01 00:00:00 EST 2013        NaN   \n4      Tue Jan 01 00:00:00 EST 2013  Tue Jan 01 00:00:00 EST 2013        NaN   \n5      Tue Jan 01 00:00:00 EST 2013  Tue Jan 01 00:00:00 EST 2013        NaN   \n6      Tue Jan 01 00:00:00 EST 2013  Tue Jan 01 00:00:00 EST 2013        NaN   \n7      Tue Jan 01 00:00:00 EST 2013  Tue Jan 01 00:00:00 EST 2013        NaN   \n8      Tue Jan 01 00:00:00 EST 2013  Tue Jan 01 00:00:00 EST 2013        NaN   \n9      Tue Jan 01 00:00:00 EST 2013  Tue Jan 01 00:00:00 EST 2013        NaN   \n...                             ...                           ...        ...   \n41134  Tue Jan 01 00:00:00 EST 2013  Tue Jan 01 00:00:00 EST 2013        NaN   \n41135  Tue Jan 01 00:00:00 EST 2013  Tue Jan 01 00:00:00 EST 2013        NaN   \n41136  Tue Jan 01 00:00:00 EST 2013  Tue Jan 01 00:00:00 EST 2013        NaN   \n41137  Tue Jan 01 00:00:00 EST 2013  Tue Jan 01 00:00:00 EST 2013        NaN   \n41138  Tue Jan 01 00:00:00 EST 2013  Tue Jan 01 00:00:00 EST 2013        NaN   \n41139  Tue Jan 01 00:00:00 EST 2013  Tue Jan 01 00:00:00 EST 2013        NaN   \n41140  Tue Jan 01 00:00:00 EST 2013  Tue Jan 01 00:00:00 EST 2013        NaN   \n41141  Tue Jan 01 00:00:00 EST 2013  Tue Jan 01 00:00:00 EST 2013        NaN   \n41142  Tue Jan 01 00:00:00 EST 2013  Tue Jan 01 00:00:00 EST 2013        NaN   \n41143  Tue Jan 01 00:00:00 EST 2013  Tue Jan 01 00:00:00 EST 2013        NaN   \n\n       phevCity  phevHwy  phevComb  \n0             0        0         0  \n1             0        0         0  \n2             0        0         0  \n3             0        0         0  \n4             0        0         0  \n5             0        0         0  \n6             0        0         0  \n7             0        0         0  \n8             0        0         0  \n9             0        0         0  \n...         ...      ...       ...  \n41134         0        0         0  \n41135         0        0         0  \n41136         0        0         0  \n41137         0        0         0  \n41138         0        0         0  \n41139         0        0         0  \n41140         0        0         0  \n41141         0        0         0  \n41142         0        0         0  \n41143         0        0         0  \n\n[41144 rows x 83 columns]",
            "text/html": "<div>\n<style scoped>\n    .dataframe tbody tr th:only-of-type {\n        vertical-align: middle;\n    }\n\n    .dataframe tbody tr th {\n        vertical-align: top;\n    }\n\n    .dataframe thead th {\n        text-align: right;\n    }\n</style>\n<table border=\"1\" class=\"dataframe\">\n  <thead>\n    <tr style=\"text-align: right;\">\n      <th></th>\n      <th>barrels08</th>\n      <th>barrelsA08</th>\n      <th>charge120</th>\n      <th>charge240</th>\n      <th>city08</th>\n      <th>city08U</th>\n      <th>cityA08</th>\n      <th>cityA08U</th>\n      <th>cityCD</th>\n      <th>cityE</th>\n      <th>...</th>\n      <th>mfrCode</th>\n      <th>c240Dscr</th>\n      <th>charge240b</th>\n      <th>c240bDscr</th>\n      <th>createdOn</th>\n      <th>modifiedOn</th>\n      <th>startStop</th>\n      <th>phevCity</th>\n      <th>phevHwy</th>\n      <th>phevComb</th>\n    </tr>\n  </thead>\n  <tbody>\n    <tr>\n      <th>0</th>\n      <td>15.695714</td>\n      <td>0.0</td>\n      <td>0.0</td>\n      <td>0.0</td>\n      <td>19</td>\n      <td>0.0</td>\n      <td>0</td>\n      <td>0.0</td>\n      <td>0.0</td>\n      <td>0.0</td>\n      <td>...</td>\n      <td>NaN</td>\n      <td>NaN</td>\n      <td>0.0</td>\n      <td>NaN</td>\n      <td>Tue Jan 01 00:00:00 EST 2013</td>\n      <td>Tue Jan 01 00:00:00 EST 2013</td>\n      <td>NaN</td>\n      <td>0</td>\n      <td>0</td>\n      <td>0</td>\n    </tr>\n    <tr>\n      <th>1</th>\n      <td>29.964545</td>\n      <td>0.0</td>\n      <td>0.0</td>\n      <td>0.0</td>\n      <td>9</td>\n      <td>0.0</td>\n      <td>0</td>\n      <td>0.0</td>\n      <td>0.0</td>\n      <td>0.0</td>\n      <td>...</td>\n      <td>NaN</td>\n      <td>NaN</td>\n      <td>0.0</td>\n      <td>NaN</td>\n      <td>Tue Jan 01 00:00:00 EST 2013</td>\n      <td>Tue Jan 01 00:00:00 EST 2013</td>\n      <td>NaN</td>\n      <td>0</td>\n      <td>0</td>\n      <td>0</td>\n    </tr>\n    <tr>\n      <th>2</th>\n      <td>12.207778</td>\n      <td>0.0</td>\n      <td>0.0</td>\n      <td>0.0</td>\n      <td>23</td>\n      <td>0.0</td>\n      <td>0</td>\n      <td>0.0</td>\n      <td>0.0</td>\n      <td>0.0</td>\n      <td>...</td>\n      <td>NaN</td>\n      <td>NaN</td>\n      <td>0.0</td>\n      <td>NaN</td>\n      <td>Tue Jan 01 00:00:00 EST 2013</td>\n      <td>Tue Jan 01 00:00:00 EST 2013</td>\n      <td>NaN</td>\n      <td>0</td>\n      <td>0</td>\n      <td>0</td>\n    </tr>\n    <tr>\n      <th>3</th>\n      <td>29.964545</td>\n      <td>0.0</td>\n      <td>0.0</td>\n      <td>0.0</td>\n      <td>10</td>\n      <td>0.0</td>\n      <td>0</td>\n      <td>0.0</td>\n      <td>0.0</td>\n      <td>0.0</td>\n      <td>...</td>\n      <td>NaN</td>\n      <td>NaN</td>\n      <td>0.0</td>\n      <td>NaN</td>\n      <td>Tue Jan 01 00:00:00 EST 2013</td>\n      <td>Tue Jan 01 00:00:00 EST 2013</td>\n      <td>NaN</td>\n      <td>0</td>\n      <td>0</td>\n      <td>0</td>\n    </tr>\n    <tr>\n      <th>4</th>\n      <td>17.347895</td>\n      <td>0.0</td>\n      <td>0.0</td>\n      <td>0.0</td>\n      <td>17</td>\n      <td>0.0</td>\n      <td>0</td>\n      <td>0.0</td>\n      <td>0.0</td>\n      <td>0.0</td>\n      <td>...</td>\n      <td>NaN</td>\n      <td>NaN</td>\n      <td>0.0</td>\n      <td>NaN</td>\n      <td>Tue Jan 01 00:00:00 EST 2013</td>\n      <td>Tue Jan 01 00:00:00 EST 2013</td>\n      <td>NaN</td>\n      <td>0</td>\n      <td>0</td>\n      <td>0</td>\n    </tr>\n    <tr>\n      <th>5</th>\n      <td>14.982273</td>\n      <td>0.0</td>\n      <td>0.0</td>\n      <td>0.0</td>\n      <td>21</td>\n      <td>0.0</td>\n      <td>0</td>\n      <td>0.0</td>\n      <td>0.0</td>\n      <td>0.0</td>\n      <td>...</td>\n      <td>NaN</td>\n      <td>NaN</td>\n      <td>0.0</td>\n      <td>NaN</td>\n      <td>Tue Jan 01 00:00:00 EST 2013</td>\n      <td>Tue Jan 01 00:00:00 EST 2013</td>\n      <td>NaN</td>\n      <td>0</td>\n      <td>0</td>\n      <td>0</td>\n    </tr>\n    <tr>\n      <th>6</th>\n      <td>13.184400</td>\n      <td>0.0</td>\n      <td>0.0</td>\n      <td>0.0</td>\n      <td>22</td>\n      <td>0.0</td>\n      <td>0</td>\n      <td>0.0</td>\n      <td>0.0</td>\n      <td>0.0</td>\n      <td>...</td>\n      <td>NaN</td>\n      <td>NaN</td>\n      <td>0.0</td>\n      <td>NaN</td>\n      <td>Tue Jan 01 00:00:00 EST 2013</td>\n      <td>Tue Jan 01 00:00:00 EST 2013</td>\n      <td>NaN</td>\n      <td>0</td>\n      <td>0</td>\n      <td>0</td>\n    </tr>\n    <tr>\n      <th>7</th>\n      <td>13.733750</td>\n      <td>0.0</td>\n      <td>0.0</td>\n      <td>0.0</td>\n      <td>23</td>\n      <td>0.0</td>\n      <td>0</td>\n      <td>0.0</td>\n      <td>0.0</td>\n      <td>0.0</td>\n      <td>...</td>\n      <td>NaN</td>\n      <td>NaN</td>\n      <td>0.0</td>\n      <td>NaN</td>\n      <td>Tue Jan 01 00:00:00 EST 2013</td>\n      <td>Tue Jan 01 00:00:00 EST 2013</td>\n      <td>NaN</td>\n      <td>0</td>\n      <td>0</td>\n      <td>0</td>\n    </tr>\n    <tr>\n      <th>8</th>\n      <td>12.677308</td>\n      <td>0.0</td>\n      <td>0.0</td>\n      <td>0.0</td>\n      <td>23</td>\n      <td>0.0</td>\n      <td>0</td>\n      <td>0.0</td>\n      <td>0.0</td>\n      <td>0.0</td>\n      <td>...</td>\n      <td>NaN</td>\n      <td>NaN</td>\n      <td>0.0</td>\n      <td>NaN</td>\n      <td>Tue Jan 01 00:00:00 EST 2013</td>\n      <td>Tue Jan 01 00:00:00 EST 2013</td>\n      <td>NaN</td>\n      <td>0</td>\n      <td>0</td>\n      <td>0</td>\n    </tr>\n    <tr>\n      <th>9</th>\n      <td>13.184400</td>\n      <td>0.0</td>\n      <td>0.0</td>\n      <td>0.0</td>\n      <td>23</td>\n      <td>0.0</td>\n      <td>0</td>\n      <td>0.0</td>\n      <td>0.0</td>\n      <td>0.0</td>\n      <td>...</td>\n      <td>NaN</td>\n      <td>NaN</td>\n      <td>0.0</td>\n      <td>NaN</td>\n      <td>Tue Jan 01 00:00:00 EST 2013</td>\n      <td>Tue Jan 01 00:00:00 EST 2013</td>\n      <td>NaN</td>\n      <td>0</td>\n      <td>0</td>\n      <td>0</td>\n    </tr>\n    <tr>\n      <th>...</th>\n      <td>...</td>\n      <td>...</td>\n      <td>...</td>\n      <td>...</td>\n      <td>...</td>\n      <td>...</td>\n      <td>...</td>\n      <td>...</td>\n      <td>...</td>\n      <td>...</td>\n      <td>...</td>\n      <td>...</td>\n      <td>...</td>\n      <td>...</td>\n      <td>...</td>\n      <td>...</td>\n      <td>...</td>\n      <td>...</td>\n      <td>...</td>\n      <td>...</td>\n      <td>...</td>\n    </tr>\n    <tr>\n      <th>41134</th>\n      <td>16.480500</td>\n      <td>0.0</td>\n      <td>0.0</td>\n      <td>0.0</td>\n      <td>18</td>\n      <td>0.0</td>\n      <td>0</td>\n      <td>0.0</td>\n      <td>0.0</td>\n      <td>0.0</td>\n      <td>...</td>\n      <td>NaN</td>\n      <td>NaN</td>\n      <td>0.0</td>\n      <td>NaN</td>\n      <td>Tue Jan 01 00:00:00 EST 2013</td>\n      <td>Tue Jan 01 00:00:00 EST 2013</td>\n      <td>NaN</td>\n      <td>0</td>\n      <td>0</td>\n      <td>0</td>\n    </tr>\n    <tr>\n      <th>41135</th>\n      <td>12.677308</td>\n      <td>0.0</td>\n      <td>0.0</td>\n      <td>0.0</td>\n      <td>23</td>\n      <td>0.0</td>\n      <td>0</td>\n      <td>0.0</td>\n      <td>0.0</td>\n      <td>0.0</td>\n      <td>...</td>\n      <td>NaN</td>\n      <td>NaN</td>\n      <td>0.0</td>\n      <td>NaN</td>\n      <td>Tue Jan 01 00:00:00 EST 2013</td>\n      <td>Tue Jan 01 00:00:00 EST 2013</td>\n      <td>NaN</td>\n      <td>0</td>\n      <td>0</td>\n      <td>0</td>\n    </tr>\n    <tr>\n      <th>41136</th>\n      <td>13.733750</td>\n      <td>0.0</td>\n      <td>0.0</td>\n      <td>0.0</td>\n      <td>21</td>\n      <td>0.0</td>\n      <td>0</td>\n      <td>0.0</td>\n      <td>0.0</td>\n      <td>0.0</td>\n      <td>...</td>\n      <td>NaN</td>\n      <td>NaN</td>\n      <td>0.0</td>\n      <td>NaN</td>\n      <td>Tue Jan 01 00:00:00 EST 2013</td>\n      <td>Tue Jan 01 00:00:00 EST 2013</td>\n      <td>NaN</td>\n      <td>0</td>\n      <td>0</td>\n      <td>0</td>\n    </tr>\n    <tr>\n      <th>41137</th>\n      <td>11.771786</td>\n      <td>0.0</td>\n      <td>0.0</td>\n      <td>0.0</td>\n      <td>24</td>\n      <td>0.0</td>\n      <td>0</td>\n      <td>0.0</td>\n      <td>0.0</td>\n      <td>0.0</td>\n      <td>...</td>\n      <td>NaN</td>\n      <td>NaN</td>\n      <td>0.0</td>\n      <td>NaN</td>\n      <td>Tue Jan 01 00:00:00 EST 2013</td>\n      <td>Tue Jan 01 00:00:00 EST 2013</td>\n      <td>NaN</td>\n      <td>0</td>\n      <td>0</td>\n      <td>0</td>\n    </tr>\n    <tr>\n      <th>41138</th>\n      <td>13.184400</td>\n      <td>0.0</td>\n      <td>0.0</td>\n      <td>0.0</td>\n      <td>21</td>\n      <td>0.0</td>\n      <td>0</td>\n      <td>0.0</td>\n      <td>0.0</td>\n      <td>0.0</td>\n      <td>...</td>\n      <td>NaN</td>\n      <td>NaN</td>\n      <td>0.0</td>\n      <td>NaN</td>\n      <td>Tue Jan 01 00:00:00 EST 2013</td>\n      <td>Tue Jan 01 00:00:00 EST 2013</td>\n      <td>NaN</td>\n      <td>0</td>\n      <td>0</td>\n      <td>0</td>\n    </tr>\n    <tr>\n      <th>41139</th>\n      <td>14.982273</td>\n      <td>0.0</td>\n      <td>0.0</td>\n      <td>0.0</td>\n      <td>19</td>\n      <td>0.0</td>\n      <td>0</td>\n      <td>0.0</td>\n      <td>0.0</td>\n      <td>0.0</td>\n      <td>...</td>\n      <td>NaN</td>\n      <td>NaN</td>\n      <td>0.0</td>\n      <td>NaN</td>\n      <td>Tue Jan 01 00:00:00 EST 2013</td>\n      <td>Tue Jan 01 00:00:00 EST 2013</td>\n      <td>NaN</td>\n      <td>0</td>\n      <td>0</td>\n      <td>0</td>\n    </tr>\n    <tr>\n      <th>41140</th>\n      <td>14.330870</td>\n      <td>0.0</td>\n      <td>0.0</td>\n      <td>0.0</td>\n      <td>20</td>\n      <td>0.0</td>\n      <td>0</td>\n      <td>0.0</td>\n      <td>0.0</td>\n      <td>0.0</td>\n      <td>...</td>\n      <td>NaN</td>\n      <td>NaN</td>\n      <td>0.0</td>\n      <td>NaN</td>\n      <td>Tue Jan 01 00:00:00 EST 2013</td>\n      <td>Tue Jan 01 00:00:00 EST 2013</td>\n      <td>NaN</td>\n      <td>0</td>\n      <td>0</td>\n      <td>0</td>\n    </tr>\n    <tr>\n      <th>41141</th>\n      <td>15.695714</td>\n      <td>0.0</td>\n      <td>0.0</td>\n      <td>0.0</td>\n      <td>18</td>\n      <td>0.0</td>\n      <td>0</td>\n      <td>0.0</td>\n      <td>0.0</td>\n      <td>0.0</td>\n      <td>...</td>\n      <td>NaN</td>\n      <td>NaN</td>\n      <td>0.0</td>\n      <td>NaN</td>\n      <td>Tue Jan 01 00:00:00 EST 2013</td>\n      <td>Tue Jan 01 00:00:00 EST 2013</td>\n      <td>NaN</td>\n      <td>0</td>\n      <td>0</td>\n      <td>0</td>\n    </tr>\n    <tr>\n      <th>41142</th>\n      <td>15.695714</td>\n      <td>0.0</td>\n      <td>0.0</td>\n      <td>0.0</td>\n      <td>18</td>\n      <td>0.0</td>\n      <td>0</td>\n      <td>0.0</td>\n      <td>0.0</td>\n      <td>0.0</td>\n      <td>...</td>\n      <td>NaN</td>\n      <td>NaN</td>\n      <td>0.0</td>\n      <td>NaN</td>\n      <td>Tue Jan 01 00:00:00 EST 2013</td>\n      <td>Tue Jan 01 00:00:00 EST 2013</td>\n      <td>NaN</td>\n      <td>0</td>\n      <td>0</td>\n      <td>0</td>\n    </tr>\n    <tr>\n      <th>41143</th>\n      <td>18.311667</td>\n      <td>0.0</td>\n      <td>0.0</td>\n      <td>0.0</td>\n      <td>16</td>\n      <td>0.0</td>\n      <td>0</td>\n      <td>0.0</td>\n      <td>0.0</td>\n      <td>0.0</td>\n      <td>...</td>\n      <td>NaN</td>\n      <td>NaN</td>\n      <td>0.0</td>\n      <td>NaN</td>\n      <td>Tue Jan 01 00:00:00 EST 2013</td>\n      <td>Tue Jan 01 00:00:00 EST 2013</td>\n      <td>NaN</td>\n      <td>0</td>\n      <td>0</td>\n      <td>0</td>\n    </tr>\n  </tbody>\n</table>\n<p>41144 rows × 83 columns</p>\n</div>"
          },
          "execution_count": 6,
          "metadata": {},
          "output_type": "execute_result"
        }
      ],
      "source": [
        "autos"
      ]
    },
    {
      "cell_type": "code",
      "execution_count": null,
      "metadata": {
        "pycharm": {
          "name": "#%%\n"
        },
        "id": "5RFRh32nHN6n",
        "outputId": "48ca8003-7bf4-4235-ae93-ebfd0723c3bb"
      },
      "outputs": [
        {
          "data": {
            "text/plain": "Index(['barrels08', 'barrelsA08', 'charge120', 'charge240', 'city08',\n       'city08U', 'cityA08', 'cityA08U', 'cityCD', 'cityE', 'cityUF', 'co2',\n       'co2A', 'co2TailpipeAGpm', 'co2TailpipeGpm', 'comb08', 'comb08U',\n       'combA08', 'combA08U', 'combE', 'combinedCD', 'combinedUF', 'cylinders',\n       'displ', 'drive', 'engId', 'eng_dscr', 'feScore', 'fuelCost08',\n       'fuelCostA08', 'fuelType', 'fuelType1', 'ghgScore', 'ghgScoreA',\n       'highway08', 'highway08U', 'highwayA08', 'highwayA08U', 'highwayCD',\n       'highwayE', 'highwayUF', 'hlv', 'hpv', 'id', 'lv2', 'lv4', 'make',\n       'model', 'mpgData', 'phevBlended', 'pv2', 'pv4', 'range', 'rangeCity',\n       'rangeCityA', 'rangeHwy', 'rangeHwyA', 'trany', 'UCity', 'UCityA',\n       'UHighway', 'UHighwayA', 'VClass', 'year', 'youSaveSpend', 'guzzler',\n       'trans_dscr', 'tCharger', 'sCharger', 'atvType', 'fuelType2', 'rangeA',\n       'evMotor', 'mfrCode', 'c240Dscr', 'charge240b', 'c240bDscr',\n       'createdOn', 'modifiedOn', 'startStop', 'phevCity', 'phevHwy',\n       'phevComb'],\n      dtype='object')"
          },
          "execution_count": 7,
          "metadata": {},
          "output_type": "execute_result"
        }
      ],
      "source": [
        "autos.columns"
      ]
    },
    {
      "cell_type": "code",
      "execution_count": null,
      "metadata": {
        "pycharm": {
          "name": "#%%\n"
        },
        "id": "DhB9s6s1HN6o"
      },
      "outputs": [],
      "source": []
    },
    {
      "cell_type": "code",
      "execution_count": null,
      "metadata": {
        "pycharm": {
          "name": "#%%\n"
        },
        "id": "bTCHqKDoHN6o"
      },
      "outputs": [],
      "source": []
    },
    {
      "cell_type": "code",
      "execution_count": null,
      "metadata": {
        "pycharm": {
          "name": "#%%\n"
        },
        "id": "nUwN1IKtHN6o"
      },
      "outputs": [],
      "source": []
    },
    {
      "cell_type": "markdown",
      "metadata": {
        "pycharm": {
          "name": "#%% md\n"
        },
        "id": "-DhSVAXXHN6o"
      },
      "source": [
        "## Types\n",
        "Getting the right types will enable analysis and correctness."
      ]
    },
    {
      "cell_type": "code",
      "execution_count": null,
      "metadata": {
        "pycharm": {
          "name": "#%%\n"
        },
        "id": "6i59X091HN6p"
      },
      "outputs": [],
      "source": [
        "cols = ['city08', 'comb08', 'highway08', 'cylinders', 'displ', 'drive', 'eng_dscr', \n",
        "        'fuelCost08', 'make', 'model', 'trany', 'range', 'createdOn', 'year']"
      ]
    },
    {
      "cell_type": "code",
      "execution_count": null,
      "metadata": {
        "pycharm": {
          "name": "#%%\n"
        },
        "id": "1rQ2Xs_WHN6p",
        "outputId": "95ed7267-5f89-4d5a-ac44-3f8f709d10aa"
      },
      "outputs": [
        {
          "data": {
            "text/plain": "city08          int64\ncomb08          int64\nhighway08       int64\ncylinders     float64\ndispl         float64\ndrive          object\neng_dscr       object\nfuelCost08      int64\nmake           object\nmodel          object\ntrany          object\nrange           int64\ncreatedOn      object\nyear            int64\ndtype: object"
          },
          "execution_count": 9,
          "metadata": {},
          "output_type": "execute_result"
        }
      ],
      "source": [
        "autos[cols].dtypes \n",
        "#small memory tool , use right types will give you more flexibility\n",
        "#dtypes obj: column name in the index/ type as the values\n",
        "#restriction of int64 will note allow NA - restrictions\n",
        "# float64- supports NA - could be an int64 but has NA\n",
        "#python does not have int/float64 - this is an implementation detail for pandas - \n",
        "#numpy implementation of 8 bytes * 8 bytes int objexrt allows for faster computation \n"
      ]
    },
    {
      "cell_type": "code",
      "execution_count": null,
      "metadata": {
        "pycharm": {
          "name": "#%%\n"
        },
        "id": "emfsixakHN6p",
        "outputId": "4862d68a-f8f4-418d-ff9e-e19715b762eb"
      },
      "outputs": [
        {
          "data": {
            "text/plain": "Index             128\ncity08         329152\ncomb08         329152\nhighway08      329152\ncylinders      329152\ndispl          329152\ndrive         3028369\neng_dscr      2135693\nfuelCost08     329152\nmake          2606267\nmodel         2813134\ntrany         2933276\nrange          329152\ncreatedOn     3497240\nyear           329152\ndtype: int64"
          },
          "execution_count": 10,
          "metadata": {},
          "output_type": "execute_result"
        }
      ],
      "source": [
        "autos[cols].memory_usage(deep=True).\n",
        "#mem usage -> numpy array memory and string pointers memory\n",
        "\n",
        "# deep = true -> includes you string memory"
      ]
    },
    {
      "cell_type": "code",
      "execution_count": null,
      "metadata": {
        "pycharm": {
          "name": "#%%\n"
        },
        "id": "GG7TZCFKHN6q",
        "outputId": "69dc7d4f-fe4f-42f2-99d0-742db5ef1c73"
      },
      "outputs": [
        {
          "data": {
            "text/plain": "19647323"
          },
          "execution_count": 11,
          "metadata": {},
          "output_type": "execute_result"
        }
      ],
      "source": [
        "autos[cols].memory_usage(deep=True).sum()"
      ]
    },
    {
      "cell_type": "code",
      "execution_count": null,
      "metadata": {
        "pycharm": {
          "name": "#%%\n"
        },
        "id": "k7N8YNPLHN6q"
      },
      "outputs": [],
      "source": []
    },
    {
      "cell_type": "markdown",
      "metadata": {
        "pycharm": {
          "name": "#%% md\n"
        },
        "id": "yOVNTUDYHN6q"
      },
      "source": [
        "### Ints"
      ]
    },
    {
      "cell_type": "code",
      "execution_count": null,
      "metadata": {
        "pycharm": {
          "name": "#%%\n"
        },
        "id": "XHMzVe-4HN6r",
        "outputId": "65b04291-0adf-463b-f3bb-a059b65400ff"
      },
      "outputs": [
        {
          "data": {
            "text/plain": "             city08        comb08     highway08    fuelCost08         range  \\\ncount  41144.000000  41144.000000  41144.000000  41144.000000  41144.000000   \nmean      18.369045     20.616396     24.504667   2362.335942      0.793506   \nstd        7.905886      7.674535      7.730364    654.981925     13.041592   \nmin        6.000000      7.000000      9.000000    500.000000      0.000000   \n25%       15.000000     17.000000     20.000000   1900.000000      0.000000   \n50%       17.000000     20.000000     24.000000   2350.000000      0.000000   \n75%       20.000000     23.000000     28.000000   2700.000000      0.000000   \nmax      150.000000    136.000000    124.000000   7400.000000    370.000000   \n\n               year  \ncount  41144.000000  \nmean    2001.535266  \nstd       11.142414  \nmin     1984.000000  \n25%     1991.000000  \n50%     2002.000000  \n75%     2011.000000  \nmax     2020.000000  ",
            "text/html": "<div>\n<style scoped>\n    .dataframe tbody tr th:only-of-type {\n        vertical-align: middle;\n    }\n\n    .dataframe tbody tr th {\n        vertical-align: top;\n    }\n\n    .dataframe thead th {\n        text-align: right;\n    }\n</style>\n<table border=\"1\" class=\"dataframe\">\n  <thead>\n    <tr style=\"text-align: right;\">\n      <th></th>\n      <th>city08</th>\n      <th>comb08</th>\n      <th>highway08</th>\n      <th>fuelCost08</th>\n      <th>range</th>\n      <th>year</th>\n    </tr>\n  </thead>\n  <tbody>\n    <tr>\n      <th>count</th>\n      <td>41144.000000</td>\n      <td>41144.000000</td>\n      <td>41144.000000</td>\n      <td>41144.000000</td>\n      <td>41144.000000</td>\n      <td>41144.000000</td>\n    </tr>\n    <tr>\n      <th>mean</th>\n      <td>18.369045</td>\n      <td>20.616396</td>\n      <td>24.504667</td>\n      <td>2362.335942</td>\n      <td>0.793506</td>\n      <td>2001.535266</td>\n    </tr>\n    <tr>\n      <th>std</th>\n      <td>7.905886</td>\n      <td>7.674535</td>\n      <td>7.730364</td>\n      <td>654.981925</td>\n      <td>13.041592</td>\n      <td>11.142414</td>\n    </tr>\n    <tr>\n      <th>min</th>\n      <td>6.000000</td>\n      <td>7.000000</td>\n      <td>9.000000</td>\n      <td>500.000000</td>\n      <td>0.000000</td>\n      <td>1984.000000</td>\n    </tr>\n    <tr>\n      <th>25%</th>\n      <td>15.000000</td>\n      <td>17.000000</td>\n      <td>20.000000</td>\n      <td>1900.000000</td>\n      <td>0.000000</td>\n      <td>1991.000000</td>\n    </tr>\n    <tr>\n      <th>50%</th>\n      <td>17.000000</td>\n      <td>20.000000</td>\n      <td>24.000000</td>\n      <td>2350.000000</td>\n      <td>0.000000</td>\n      <td>2002.000000</td>\n    </tr>\n    <tr>\n      <th>75%</th>\n      <td>20.000000</td>\n      <td>23.000000</td>\n      <td>28.000000</td>\n      <td>2700.000000</td>\n      <td>0.000000</td>\n      <td>2011.000000</td>\n    </tr>\n    <tr>\n      <th>max</th>\n      <td>150.000000</td>\n      <td>136.000000</td>\n      <td>124.000000</td>\n      <td>7400.000000</td>\n      <td>370.000000</td>\n      <td>2020.000000</td>\n    </tr>\n  </tbody>\n</table>\n</div>"
          },
          "execution_count": 12,
          "metadata": {},
          "output_type": "execute_result"
        }
      ],
      "source": [
        "autos[cols].select_dtypes(int).describe()"
      ]
    },
    {
      "cell_type": "code",
      "execution_count": null,
      "metadata": {
        "scrolled": true,
        "pycharm": {
          "name": "#%%\n"
        },
        "id": "R1uyMEnNHN6r",
        "outputId": "e34217e1-0855-4426-e639-4d00e6d3a928"
      },
      "outputs": [
        {
          "data": {
            "text/plain": "             city08        comb08     highway08    fuelCost08         range  \\\ncount  41144.000000  41144.000000  41144.000000  41144.000000  41144.000000   \nmean      18.369045     20.616396     24.504667   2362.335942      0.793506   \nstd        7.905886      7.674535      7.730364    654.981925     13.041592   \nmin        6.000000      7.000000      9.000000    500.000000      0.000000   \n25%       15.000000     17.000000     20.000000   1900.000000      0.000000   \n50%       17.000000     20.000000     24.000000   2350.000000      0.000000   \n75%       20.000000     23.000000     28.000000   2700.000000      0.000000   \nmax      150.000000    136.000000    124.000000   7400.000000    370.000000   \n\n               year  \ncount  41144.000000  \nmean    2001.535266  \nstd       11.142414  \nmin     1984.000000  \n25%     1991.000000  \n50%     2002.000000  \n75%     2011.000000  \nmax     2020.000000  ",
            "text/html": "<div>\n<style scoped>\n    .dataframe tbody tr th:only-of-type {\n        vertical-align: middle;\n    }\n\n    .dataframe tbody tr th {\n        vertical-align: top;\n    }\n\n    .dataframe thead th {\n        text-align: right;\n    }\n</style>\n<table border=\"1\" class=\"dataframe\">\n  <thead>\n    <tr style=\"text-align: right;\">\n      <th></th>\n      <th>city08</th>\n      <th>comb08</th>\n      <th>highway08</th>\n      <th>fuelCost08</th>\n      <th>range</th>\n      <th>year</th>\n    </tr>\n  </thead>\n  <tbody>\n    <tr>\n      <th>count</th>\n      <td>41144.000000</td>\n      <td>41144.000000</td>\n      <td>41144.000000</td>\n      <td>41144.000000</td>\n      <td>41144.000000</td>\n      <td>41144.000000</td>\n    </tr>\n    <tr>\n      <th>mean</th>\n      <td>18.369045</td>\n      <td>20.616396</td>\n      <td>24.504667</td>\n      <td>2362.335942</td>\n      <td>0.793506</td>\n      <td>2001.535266</td>\n    </tr>\n    <tr>\n      <th>std</th>\n      <td>7.905886</td>\n      <td>7.674535</td>\n      <td>7.730364</td>\n      <td>654.981925</td>\n      <td>13.041592</td>\n      <td>11.142414</td>\n    </tr>\n    <tr>\n      <th>min</th>\n      <td>6.000000</td>\n      <td>7.000000</td>\n      <td>9.000000</td>\n      <td>500.000000</td>\n      <td>0.000000</td>\n      <td>1984.000000</td>\n    </tr>\n    <tr>\n      <th>25%</th>\n      <td>15.000000</td>\n      <td>17.000000</td>\n      <td>20.000000</td>\n      <td>1900.000000</td>\n      <td>0.000000</td>\n      <td>1991.000000</td>\n    </tr>\n    <tr>\n      <th>50%</th>\n      <td>17.000000</td>\n      <td>20.000000</td>\n      <td>24.000000</td>\n      <td>2350.000000</td>\n      <td>0.000000</td>\n      <td>2002.000000</td>\n    </tr>\n    <tr>\n      <th>75%</th>\n      <td>20.000000</td>\n      <td>23.000000</td>\n      <td>28.000000</td>\n      <td>2700.000000</td>\n      <td>0.000000</td>\n      <td>2011.000000</td>\n    </tr>\n    <tr>\n      <th>max</th>\n      <td>150.000000</td>\n      <td>136.000000</td>\n      <td>124.000000</td>\n      <td>7400.000000</td>\n      <td>370.000000</td>\n      <td>2020.000000</td>\n    </tr>\n  </tbody>\n</table>\n</div>"
          },
          "execution_count": 16,
          "metadata": {},
          "output_type": "execute_result"
        }
      ],
      "source": [
        "# chaining\n",
        "(autos\n",
        " [cols]\n",
        " .select_dtypes(int)\n",
        " .describe()\n",
        ")\n",
        "\n",
        "#count- count of non missing values / because these are int64 - can't have missing values\n",
        "#May be want to"
      ]
    },
    {
      "cell_type": "code",
      "execution_count": null,
      "metadata": {
        "scrolled": true,
        "pycharm": {
          "name": "#%%\n"
        },
        "id": "KHRUvUqGHN6r",
        "outputId": "541ea797-673a-4696-8411-2c0d2cee822f"
      },
      "outputs": [
        {
          "data": {
            "text/plain": "iinfo(min=-128, max=127, dtype=int8)"
          },
          "execution_count": 17,
          "metadata": {},
          "output_type": "execute_result"
        }
      ],
      "source": [
        "# can comb08 be and int8?\n",
        "np.iinfo(np.) #integer info -> may be convert some columns to int8 since the domain is small"
      ]
    },
    {
      "cell_type": "code",
      "execution_count": null,
      "metadata": {
        "pycharm": {
          "name": "#%%\n"
        },
        "id": "zcyDj-8kHN6s",
        "outputId": "386c5328-48ed-47f5-b07f-4a8dcce9b526"
      },
      "outputs": [
        {
          "data": {
            "text/plain": "iinfo(min=-32768, max=32767, dtype=int16)"
          },
          "execution_count": 18,
          "metadata": {},
          "output_type": "execute_result"
        }
      ],
      "source": [
        "np.iinfo(np.i???nt16)"
      ]
    },
    {
      "cell_type": "code",
      "execution_count": null,
      "metadata": {
        "scrolled": true,
        "pycharm": {
          "name": "#%%\n"
        },
        "id": "UoAJ8VoqHN6s",
        "outputId": "3c71471f-06ef-4761-e520-301fa9bd39f7"
      },
      "outputs": [
        {
          "data": {
            "text/plain": "          highway08    fuelCost08         range          year\ncount  41144.000000  41144.000000  41144.000000  41144.000000\nmean      24.504667   2362.335942      0.793506   2001.535266\nstd        7.730364    654.981925     13.041592     11.142414\nmin        9.000000    500.000000      0.000000   1984.000000\n25%       20.000000   1900.000000      0.000000   1991.000000\n50%       24.000000   2350.000000      0.000000   2002.000000\n75%       28.000000   2700.000000      0.000000   2011.000000\nmax      124.000000   7400.000000    370.000000   2020.000000",
            "text/html": "<div>\n<style scoped>\n    .dataframe tbody tr th:only-of-type {\n        vertical-align: middle;\n    }\n\n    .dataframe tbody tr th {\n        vertical-align: top;\n    }\n\n    .dataframe thead th {\n        text-align: right;\n    }\n</style>\n<table border=\"1\" class=\"dataframe\">\n  <thead>\n    <tr style=\"text-align: right;\">\n      <th></th>\n      <th>highway08</th>\n      <th>fuelCost08</th>\n      <th>range</th>\n      <th>year</th>\n    </tr>\n  </thead>\n  <tbody>\n    <tr>\n      <th>count</th>\n      <td>41144.000000</td>\n      <td>41144.000000</td>\n      <td>41144.000000</td>\n      <td>41144.000000</td>\n    </tr>\n    <tr>\n      <th>mean</th>\n      <td>24.504667</td>\n      <td>2362.335942</td>\n      <td>0.793506</td>\n      <td>2001.535266</td>\n    </tr>\n    <tr>\n      <th>std</th>\n      <td>7.730364</td>\n      <td>654.981925</td>\n      <td>13.041592</td>\n      <td>11.142414</td>\n    </tr>\n    <tr>\n      <th>min</th>\n      <td>9.000000</td>\n      <td>500.000000</td>\n      <td>0.000000</td>\n      <td>1984.000000</td>\n    </tr>\n    <tr>\n      <th>25%</th>\n      <td>20.000000</td>\n      <td>1900.000000</td>\n      <td>0.000000</td>\n      <td>1991.000000</td>\n    </tr>\n    <tr>\n      <th>50%</th>\n      <td>24.000000</td>\n      <td>2350.000000</td>\n      <td>0.000000</td>\n      <td>2002.000000</td>\n    </tr>\n    <tr>\n      <th>75%</th>\n      <td>28.000000</td>\n      <td>2700.000000</td>\n      <td>0.000000</td>\n      <td>2011.000000</td>\n    </tr>\n    <tr>\n      <th>max</th>\n      <td>124.000000</td>\n      <td>7400.000000</td>\n      <td>370.000000</td>\n      <td>2020.000000</td>\n    </tr>\n  </tbody>\n</table>\n</div>"
          },
          "execution_count": 19,
          "metadata": {},
          "output_type": "execute_result"
        }
      ],
      "source": [
        "# chaining\n",
        "(autos\n",
        " [cols]\n",
        " .astype({'highway08': 'int8', 'city08': 'int16', 'comb08': 'int16' })\n",
        " .select_dtypes([int, 'int8'])\n",
        " .describe()\n",
        ")"
      ]
    },
    {
      "cell_type": "code",
      "execution_count": null,
      "metadata": {
        "scrolled": true,
        "pycharm": {
          "name": "#%%\n"
        },
        "id": "EPPYHxiDHN6t"
      },
      "outputs": [],
      "source": [
        "# chaining\n",
        "# use 'integer' so see all int-like columns\n",
        "(autos\n",
        " [cols]\n",
        " .astype({'highway08': 'int8', 'city08': 'int16', 'comb08': 'int16', 'fuelCost08': 'int16', \n",
        "          'range': 'int16', 'year': 'int16'})\n",
        " .select_dtypes(['integer'])  # see https://numpy.org/doc/stable/reference/arrays.scalars.html\n",
        " .describe()\n",
        ")"
      ]
    },
    {
      "cell_type": "code",
      "execution_count": null,
      "metadata": {
        "scrolled": true,
        "pycharm": {
          "name": "#%%\n"
        },
        "id": "XMYRTAldHN6t",
        "outputId": "8034d670-7d12-4340-8cdc-9fa9ee120e7c"
      },
      "outputs": [
        {
          "data": {
            "text/plain": "18124995"
          },
          "execution_count": 20,
          "metadata": {},
          "output_type": "execute_result"
        }
      ],
      "source": [
        "# chaining\n",
        "(autos\n",
        " [cols]\n",
        " .astype({'highway08': 'int8', 'city08': 'int16', 'comb08': 'int16', 'fuelCost08': 'int16', \n",
        "          'range': 'int16', 'year': 'int16'})\n",
        " .memory_usage(deep=True)\n",
        " .sum()  # was 19,647,323\n",
        ")"
      ]
    },
    {
      "cell_type": "code",
      "execution_count": null,
      "metadata": {
        "pycharm": {
          "name": "#%%\n"
        },
        "id": "a3-ioGDuHN6u"
      },
      "outputs": [],
      "source": []
    },
    {
      "cell_type": "markdown",
      "metadata": {
        "pycharm": {
          "name": "#%% md\n"
        },
        "id": "xU8fRDwSHN6u"
      },
      "source": [
        "### Floats"
      ]
    },
    {
      "cell_type": "code",
      "execution_count": null,
      "metadata": {
        "scrolled": true,
        "pycharm": {
          "name": "#%%\n"
        },
        "id": "z8V5OWdNHN6u",
        "outputId": "d18a1de1-1e4f-4ad3-98fd-6dd074443935"
      },
      "outputs": [
        {
          "data": {
            "text/plain": "       cylinders  displ\n0            4.0    2.0\n1           12.0    4.9\n2            4.0    2.2\n3            8.0    5.2\n4            4.0    2.2\n5            4.0    1.8\n6            4.0    1.8\n7            4.0    1.6\n8            4.0    1.6\n9            4.0    1.8\n...          ...    ...\n41134        4.0    2.1\n41135        4.0    1.9\n41136        4.0    1.9\n41137        4.0    1.9\n41138        4.0    1.9\n41139        4.0    2.2\n41140        4.0    2.2\n41141        4.0    2.2\n41142        4.0    2.2\n41143        4.0    2.2\n\n[41144 rows x 2 columns]",
            "text/html": "<div>\n<style scoped>\n    .dataframe tbody tr th:only-of-type {\n        vertical-align: middle;\n    }\n\n    .dataframe tbody tr th {\n        vertical-align: top;\n    }\n\n    .dataframe thead th {\n        text-align: right;\n    }\n</style>\n<table border=\"1\" class=\"dataframe\">\n  <thead>\n    <tr style=\"text-align: right;\">\n      <th></th>\n      <th>cylinders</th>\n      <th>displ</th>\n    </tr>\n  </thead>\n  <tbody>\n    <tr>\n      <th>0</th>\n      <td>4.0</td>\n      <td>2.0</td>\n    </tr>\n    <tr>\n      <th>1</th>\n      <td>12.0</td>\n      <td>4.9</td>\n    </tr>\n    <tr>\n      <th>2</th>\n      <td>4.0</td>\n      <td>2.2</td>\n    </tr>\n    <tr>\n      <th>3</th>\n      <td>8.0</td>\n      <td>5.2</td>\n    </tr>\n    <tr>\n      <th>4</th>\n      <td>4.0</td>\n      <td>2.2</td>\n    </tr>\n    <tr>\n      <th>5</th>\n      <td>4.0</td>\n      <td>1.8</td>\n    </tr>\n    <tr>\n      <th>6</th>\n      <td>4.0</td>\n      <td>1.8</td>\n    </tr>\n    <tr>\n      <th>7</th>\n      <td>4.0</td>\n      <td>1.6</td>\n    </tr>\n    <tr>\n      <th>8</th>\n      <td>4.0</td>\n      <td>1.6</td>\n    </tr>\n    <tr>\n      <th>9</th>\n      <td>4.0</td>\n      <td>1.8</td>\n    </tr>\n    <tr>\n      <th>...</th>\n      <td>...</td>\n      <td>...</td>\n    </tr>\n    <tr>\n      <th>41134</th>\n      <td>4.0</td>\n      <td>2.1</td>\n    </tr>\n    <tr>\n      <th>41135</th>\n      <td>4.0</td>\n      <td>1.9</td>\n    </tr>\n    <tr>\n      <th>41136</th>\n      <td>4.0</td>\n      <td>1.9</td>\n    </tr>\n    <tr>\n      <th>41137</th>\n      <td>4.0</td>\n      <td>1.9</td>\n    </tr>\n    <tr>\n      <th>41138</th>\n      <td>4.0</td>\n      <td>1.9</td>\n    </tr>\n    <tr>\n      <th>41139</th>\n      <td>4.0</td>\n      <td>2.2</td>\n    </tr>\n    <tr>\n      <th>41140</th>\n      <td>4.0</td>\n      <td>2.2</td>\n    </tr>\n    <tr>\n      <th>41141</th>\n      <td>4.0</td>\n      <td>2.2</td>\n    </tr>\n    <tr>\n      <th>41142</th>\n      <td>4.0</td>\n      <td>2.2</td>\n    </tr>\n    <tr>\n      <th>41143</th>\n      <td>4.0</td>\n      <td>2.2</td>\n    </tr>\n  </tbody>\n</table>\n<p>41144 rows × 2 columns</p>\n</div>"
          },
          "execution_count": 21,
          "metadata": {},
          "output_type": "execute_result"
        }
      ],
      "source": [
        "(autos\n",
        "[cols]\n",
        ".select_dtypes('float'))"
      ]
    },
    {
      "cell_type": "code",
      "execution_count": null,
      "metadata": {
        "pycharm": {
          "name": "#%%\n"
        },
        "id": "nl0b8C8zHN6v",
        "outputId": "11044bc2-2afb-4b32-f884-a1ec421b2b79"
      },
      "outputs": [
        {
          "data": {
            "text/plain": "count    40938.000000\nmean         5.717084\nstd          1.755517\nmin          2.000000\n25%          4.000000\n50%          6.000000\n75%          6.000000\nmax         16.000000\nName: cylinders, dtype: float64"
          },
          "execution_count": 22,
          "metadata": {},
          "output_type": "execute_result"
        }
      ],
      "source": [
        "# surprise! cylinders looks int-like\n",
        "autos.cylinders.describe()"
      ]
    },
    {
      "cell_type": "code",
      "execution_count": null,
      "metadata": {
        "pycharm": {
          "name": "#%%\n"
        },
        "id": "CdJH8QYFHN6v",
        "outputId": "c35b0f3b-8660-4a72-90ea-7e234f932077"
      },
      "outputs": [
        {
          "data": {
            "text/plain": "4.0     15938\n6.0     14284\n8.0      8801\n5.0       771\n12.0      626\n3.0       279\nNaN       206\n10.0      170\n2.0        59\n16.0       10\nName: cylinders, dtype: int64"
          },
          "execution_count": 23,
          "metadata": {},
          "output_type": "execute_result"
        }
      ],
      "source": [
        "# opps! missing values\n",
        "autos.cylinders.value_counts(dropna=False)"
      ]
    },
    {
      "cell_type": "code",
      "execution_count": null,
      "metadata": {
        "scrolled": true,
        "pycharm": {
          "name": "#%%\n"
        },
        "id": "eanymzB4HN6v",
        "outputId": "6e4e1038-8eaa-474a-9e69-1809c1af3884"
      },
      "outputs": [
        {
          "data": {
            "text/plain": "       city08  comb08  highway08  cylinders  displ              drive  \\\n7138       81      85         91        NaN    NaN                NaN   \n7139       81      72         64        NaN    NaN      2-Wheel Drive   \n8143       81      72         64        NaN    NaN      2-Wheel Drive   \n8144       74      65         58        NaN    NaN                NaN   \n8146       45      39         33        NaN    NaN      2-Wheel Drive   \n8147       84      75         66        NaN    NaN                NaN   \n9212       87      78         69        NaN    NaN      2-Wheel Drive   \n9213       45      39         33        NaN    NaN      2-Wheel Drive   \n10329      87      78         69        NaN    NaN      2-Wheel Drive   \n21413      22      24         28        NaN    NaN      4-Wheel Drive   \n...       ...     ...        ...        ...    ...                ...   \n34407      73      72         71        NaN    NaN  Front-Wheel Drive   \n34408     118     108         97        NaN    NaN  Front-Wheel Drive   \n34409     114     104         94        NaN    NaN  Front-Wheel Drive   \n34538      74      74         73        NaN    NaN    All-Wheel Drive   \n34561      80      76         72        NaN    NaN      4-Wheel Drive   \n34563     138     131        124        NaN    NaN   Rear-Wheel Drive   \n34564     140     133        124        NaN    NaN   Rear-Wheel Drive   \n34565     115     111        107        NaN    NaN    All-Wheel Drive   \n34566     104     104        104        NaN    NaN    All-Wheel Drive   \n34567      98      97         96        NaN    NaN    All-Wheel Drive   \n\n      eng_dscr  fuelCost08    make                               model  \\\n7138       NaN         800  Nissan                            Altra EV   \n7139       NaN         900  Toyota                             RAV4 EV   \n8143       NaN         900  Toyota                             RAV4 EV   \n8144       NaN        1000    Ford                               Th!nk   \n8146       NaN        1700    Ford              Explorer USPS Electric   \n8147       NaN         900  Nissan                          Hyper-Mini   \n9212       NaN         850  Toyota                             RAV4 EV   \n9213       NaN        1700    Ford              Explorer USPS Electric   \n10329      NaN         850  Toyota                             RAV4 EV   \n21413      NaN        1750  Subaru                            RX Turbo   \n...        ...         ...     ...                                 ...   \n34407      NaN         900     BYD                                  e6   \n34408      NaN         600  Nissan        Leaf (62 kW-hr battery pack)   \n34409      NaN         650  Nissan  Leaf SV/SL (62 kW-hr battery pack)   \n34538      NaN         900    Audi                              e-tron   \n34561      NaN         850  Jaguar                              I-Pace   \n34563      NaN         500   Tesla              Model 3 Standard Range   \n34564      NaN         500   Tesla         Model 3 Standard Range Plus   \n34565      NaN         600   Tesla                  Model S Long Range   \n34566      NaN         650   Tesla    Model S Performance (19\" Wheels)   \n34567      NaN         700   Tesla    Model S Performance (21\" Wheels)   \n\n                trany  range                     createdOn  year  \n7138              NaN     90  Tue Jan 01 00:00:00 EST 2013  2000  \n7139              NaN     88  Tue Jan 01 00:00:00 EST 2013  2000  \n8143              NaN     88  Tue Jan 01 00:00:00 EST 2013  2001  \n8144              NaN     29  Tue Jan 01 00:00:00 EST 2013  2001  \n8146              NaN     38  Tue Jan 01 00:00:00 EST 2013  2001  \n8147              NaN     33  Tue Jan 01 00:00:00 EST 2013  2001  \n9212              NaN     95  Tue Jan 01 00:00:00 EST 2013  2002  \n9213              NaN     38  Tue Jan 01 00:00:00 EST 2013  2002  \n10329             NaN     95  Tue Jan 01 00:00:00 EST 2013  2003  \n21413    Manual 5-spd      0  Tue Jan 01 00:00:00 EST 2013  1985  \n...               ...    ...                           ...   ...  \n34407  Automatic (A1)    187  Wed Mar 13 00:00:00 EDT 2019  2019  \n34408  Automatic (A1)    226  Wed Mar 13 00:00:00 EDT 2019  2019  \n34409  Automatic (A1)    215  Wed Mar 13 00:00:00 EDT 2019  2019  \n34538  Automatic (A1)    204  Tue Apr 16 00:00:00 EDT 2019  2019  \n34561  Automatic (A1)    234  Thu May 02 00:00:00 EDT 2019  2020  \n34563  Automatic (A1)    220  Thu May 02 00:00:00 EDT 2019  2019  \n34564  Automatic (A1)    240  Thu May 02 00:00:00 EDT 2019  2019  \n34565  Automatic (A1)    370  Thu May 02 00:00:00 EDT 2019  2019  \n34566  Automatic (A1)    345  Thu May 02 00:00:00 EDT 2019  2019  \n34567  Automatic (A1)    325  Thu May 02 00:00:00 EDT 2019  2019  \n\n[206 rows x 14 columns]",
            "text/html": "<div>\n<style scoped>\n    .dataframe tbody tr th:only-of-type {\n        vertical-align: middle;\n    }\n\n    .dataframe tbody tr th {\n        vertical-align: top;\n    }\n\n    .dataframe thead th {\n        text-align: right;\n    }\n</style>\n<table border=\"1\" class=\"dataframe\">\n  <thead>\n    <tr style=\"text-align: right;\">\n      <th></th>\n      <th>city08</th>\n      <th>comb08</th>\n      <th>highway08</th>\n      <th>cylinders</th>\n      <th>displ</th>\n      <th>drive</th>\n      <th>eng_dscr</th>\n      <th>fuelCost08</th>\n      <th>make</th>\n      <th>model</th>\n      <th>trany</th>\n      <th>range</th>\n      <th>createdOn</th>\n      <th>year</th>\n    </tr>\n  </thead>\n  <tbody>\n    <tr>\n      <th>7138</th>\n      <td>81</td>\n      <td>85</td>\n      <td>91</td>\n      <td>NaN</td>\n      <td>NaN</td>\n      <td>NaN</td>\n      <td>NaN</td>\n      <td>800</td>\n      <td>Nissan</td>\n      <td>Altra EV</td>\n      <td>NaN</td>\n      <td>90</td>\n      <td>Tue Jan 01 00:00:00 EST 2013</td>\n      <td>2000</td>\n    </tr>\n    <tr>\n      <th>7139</th>\n      <td>81</td>\n      <td>72</td>\n      <td>64</td>\n      <td>NaN</td>\n      <td>NaN</td>\n      <td>2-Wheel Drive</td>\n      <td>NaN</td>\n      <td>900</td>\n      <td>Toyota</td>\n      <td>RAV4 EV</td>\n      <td>NaN</td>\n      <td>88</td>\n      <td>Tue Jan 01 00:00:00 EST 2013</td>\n      <td>2000</td>\n    </tr>\n    <tr>\n      <th>8143</th>\n      <td>81</td>\n      <td>72</td>\n      <td>64</td>\n      <td>NaN</td>\n      <td>NaN</td>\n      <td>2-Wheel Drive</td>\n      <td>NaN</td>\n      <td>900</td>\n      <td>Toyota</td>\n      <td>RAV4 EV</td>\n      <td>NaN</td>\n      <td>88</td>\n      <td>Tue Jan 01 00:00:00 EST 2013</td>\n      <td>2001</td>\n    </tr>\n    <tr>\n      <th>8144</th>\n      <td>74</td>\n      <td>65</td>\n      <td>58</td>\n      <td>NaN</td>\n      <td>NaN</td>\n      <td>NaN</td>\n      <td>NaN</td>\n      <td>1000</td>\n      <td>Ford</td>\n      <td>Th!nk</td>\n      <td>NaN</td>\n      <td>29</td>\n      <td>Tue Jan 01 00:00:00 EST 2013</td>\n      <td>2001</td>\n    </tr>\n    <tr>\n      <th>8146</th>\n      <td>45</td>\n      <td>39</td>\n      <td>33</td>\n      <td>NaN</td>\n      <td>NaN</td>\n      <td>2-Wheel Drive</td>\n      <td>NaN</td>\n      <td>1700</td>\n      <td>Ford</td>\n      <td>Explorer USPS Electric</td>\n      <td>NaN</td>\n      <td>38</td>\n      <td>Tue Jan 01 00:00:00 EST 2013</td>\n      <td>2001</td>\n    </tr>\n    <tr>\n      <th>8147</th>\n      <td>84</td>\n      <td>75</td>\n      <td>66</td>\n      <td>NaN</td>\n      <td>NaN</td>\n      <td>NaN</td>\n      <td>NaN</td>\n      <td>900</td>\n      <td>Nissan</td>\n      <td>Hyper-Mini</td>\n      <td>NaN</td>\n      <td>33</td>\n      <td>Tue Jan 01 00:00:00 EST 2013</td>\n      <td>2001</td>\n    </tr>\n    <tr>\n      <th>9212</th>\n      <td>87</td>\n      <td>78</td>\n      <td>69</td>\n      <td>NaN</td>\n      <td>NaN</td>\n      <td>2-Wheel Drive</td>\n      <td>NaN</td>\n      <td>850</td>\n      <td>Toyota</td>\n      <td>RAV4 EV</td>\n      <td>NaN</td>\n      <td>95</td>\n      <td>Tue Jan 01 00:00:00 EST 2013</td>\n      <td>2002</td>\n    </tr>\n    <tr>\n      <th>9213</th>\n      <td>45</td>\n      <td>39</td>\n      <td>33</td>\n      <td>NaN</td>\n      <td>NaN</td>\n      <td>2-Wheel Drive</td>\n      <td>NaN</td>\n      <td>1700</td>\n      <td>Ford</td>\n      <td>Explorer USPS Electric</td>\n      <td>NaN</td>\n      <td>38</td>\n      <td>Tue Jan 01 00:00:00 EST 2013</td>\n      <td>2002</td>\n    </tr>\n    <tr>\n      <th>10329</th>\n      <td>87</td>\n      <td>78</td>\n      <td>69</td>\n      <td>NaN</td>\n      <td>NaN</td>\n      <td>2-Wheel Drive</td>\n      <td>NaN</td>\n      <td>850</td>\n      <td>Toyota</td>\n      <td>RAV4 EV</td>\n      <td>NaN</td>\n      <td>95</td>\n      <td>Tue Jan 01 00:00:00 EST 2013</td>\n      <td>2003</td>\n    </tr>\n    <tr>\n      <th>21413</th>\n      <td>22</td>\n      <td>24</td>\n      <td>28</td>\n      <td>NaN</td>\n      <td>NaN</td>\n      <td>4-Wheel Drive</td>\n      <td>NaN</td>\n      <td>1750</td>\n      <td>Subaru</td>\n      <td>RX Turbo</td>\n      <td>Manual 5-spd</td>\n      <td>0</td>\n      <td>Tue Jan 01 00:00:00 EST 2013</td>\n      <td>1985</td>\n    </tr>\n    <tr>\n      <th>...</th>\n      <td>...</td>\n      <td>...</td>\n      <td>...</td>\n      <td>...</td>\n      <td>...</td>\n      <td>...</td>\n      <td>...</td>\n      <td>...</td>\n      <td>...</td>\n      <td>...</td>\n      <td>...</td>\n      <td>...</td>\n      <td>...</td>\n      <td>...</td>\n    </tr>\n    <tr>\n      <th>34407</th>\n      <td>73</td>\n      <td>72</td>\n      <td>71</td>\n      <td>NaN</td>\n      <td>NaN</td>\n      <td>Front-Wheel Drive</td>\n      <td>NaN</td>\n      <td>900</td>\n      <td>BYD</td>\n      <td>e6</td>\n      <td>Automatic (A1)</td>\n      <td>187</td>\n      <td>Wed Mar 13 00:00:00 EDT 2019</td>\n      <td>2019</td>\n    </tr>\n    <tr>\n      <th>34408</th>\n      <td>118</td>\n      <td>108</td>\n      <td>97</td>\n      <td>NaN</td>\n      <td>NaN</td>\n      <td>Front-Wheel Drive</td>\n      <td>NaN</td>\n      <td>600</td>\n      <td>Nissan</td>\n      <td>Leaf (62 kW-hr battery pack)</td>\n      <td>Automatic (A1)</td>\n      <td>226</td>\n      <td>Wed Mar 13 00:00:00 EDT 2019</td>\n      <td>2019</td>\n    </tr>\n    <tr>\n      <th>34409</th>\n      <td>114</td>\n      <td>104</td>\n      <td>94</td>\n      <td>NaN</td>\n      <td>NaN</td>\n      <td>Front-Wheel Drive</td>\n      <td>NaN</td>\n      <td>650</td>\n      <td>Nissan</td>\n      <td>Leaf SV/SL (62 kW-hr battery pack)</td>\n      <td>Automatic (A1)</td>\n      <td>215</td>\n      <td>Wed Mar 13 00:00:00 EDT 2019</td>\n      <td>2019</td>\n    </tr>\n    <tr>\n      <th>34538</th>\n      <td>74</td>\n      <td>74</td>\n      <td>73</td>\n      <td>NaN</td>\n      <td>NaN</td>\n      <td>All-Wheel Drive</td>\n      <td>NaN</td>\n      <td>900</td>\n      <td>Audi</td>\n      <td>e-tron</td>\n      <td>Automatic (A1)</td>\n      <td>204</td>\n      <td>Tue Apr 16 00:00:00 EDT 2019</td>\n      <td>2019</td>\n    </tr>\n    <tr>\n      <th>34561</th>\n      <td>80</td>\n      <td>76</td>\n      <td>72</td>\n      <td>NaN</td>\n      <td>NaN</td>\n      <td>4-Wheel Drive</td>\n      <td>NaN</td>\n      <td>850</td>\n      <td>Jaguar</td>\n      <td>I-Pace</td>\n      <td>Automatic (A1)</td>\n      <td>234</td>\n      <td>Thu May 02 00:00:00 EDT 2019</td>\n      <td>2020</td>\n    </tr>\n    <tr>\n      <th>34563</th>\n      <td>138</td>\n      <td>131</td>\n      <td>124</td>\n      <td>NaN</td>\n      <td>NaN</td>\n      <td>Rear-Wheel Drive</td>\n      <td>NaN</td>\n      <td>500</td>\n      <td>Tesla</td>\n      <td>Model 3 Standard Range</td>\n      <td>Automatic (A1)</td>\n      <td>220</td>\n      <td>Thu May 02 00:00:00 EDT 2019</td>\n      <td>2019</td>\n    </tr>\n    <tr>\n      <th>34564</th>\n      <td>140</td>\n      <td>133</td>\n      <td>124</td>\n      <td>NaN</td>\n      <td>NaN</td>\n      <td>Rear-Wheel Drive</td>\n      <td>NaN</td>\n      <td>500</td>\n      <td>Tesla</td>\n      <td>Model 3 Standard Range Plus</td>\n      <td>Automatic (A1)</td>\n      <td>240</td>\n      <td>Thu May 02 00:00:00 EDT 2019</td>\n      <td>2019</td>\n    </tr>\n    <tr>\n      <th>34565</th>\n      <td>115</td>\n      <td>111</td>\n      <td>107</td>\n      <td>NaN</td>\n      <td>NaN</td>\n      <td>All-Wheel Drive</td>\n      <td>NaN</td>\n      <td>600</td>\n      <td>Tesla</td>\n      <td>Model S Long Range</td>\n      <td>Automatic (A1)</td>\n      <td>370</td>\n      <td>Thu May 02 00:00:00 EDT 2019</td>\n      <td>2019</td>\n    </tr>\n    <tr>\n      <th>34566</th>\n      <td>104</td>\n      <td>104</td>\n      <td>104</td>\n      <td>NaN</td>\n      <td>NaN</td>\n      <td>All-Wheel Drive</td>\n      <td>NaN</td>\n      <td>650</td>\n      <td>Tesla</td>\n      <td>Model S Performance (19\" Wheels)</td>\n      <td>Automatic (A1)</td>\n      <td>345</td>\n      <td>Thu May 02 00:00:00 EDT 2019</td>\n      <td>2019</td>\n    </tr>\n    <tr>\n      <th>34567</th>\n      <td>98</td>\n      <td>97</td>\n      <td>96</td>\n      <td>NaN</td>\n      <td>NaN</td>\n      <td>All-Wheel Drive</td>\n      <td>NaN</td>\n      <td>700</td>\n      <td>Tesla</td>\n      <td>Model S Performance (21\" Wheels)</td>\n      <td>Automatic (A1)</td>\n      <td>325</td>\n      <td>Thu May 02 00:00:00 EDT 2019</td>\n      <td>2019</td>\n    </tr>\n  </tbody>\n</table>\n<p>206 rows × 14 columns</p>\n</div>"
          },
          "execution_count": 24,
          "metadata": {},
          "output_type": "execute_result"
        }
      ],
      "source": [
        "# where are they missing?\n",
        "(autos\n",
        "  [cols]\n",
        "  .query('cylinders.isna()')\n",
        ")"
      ]
    },
    {
      "cell_type": "code",
      "execution_count": null,
      "metadata": {
        "pycharm": {
          "name": "#%%\n"
        },
        "id": "L1oj-kyuHN6w",
        "outputId": "566e28e0-6f20-40b9-c43c-1b5cfe4cb8b9"
      },
      "outputs": [
        {
          "data": {
            "text/plain": "             city08        comb08     highway08     cylinders         displ  \\\ncount  41144.000000  41144.000000  41144.000000  41144.000000  41144.000000   \nmean      18.369045     20.616396     24.504667      5.688460      3.277904   \nstd        7.905886      7.674535      7.730364      1.797009      1.373415   \nmin        6.000000      7.000000      9.000000      0.000000      0.000000   \n25%       15.000000     17.000000     20.000000      4.000000      2.200000   \n50%       17.000000     20.000000     24.000000      6.000000      3.000000   \n75%       20.000000     23.000000     28.000000      6.000000      4.300000   \nmax      150.000000    136.000000    124.000000     16.000000      8.400000   \n\n         fuelCost08         range          year  \ncount  41144.000000  41144.000000  41144.000000  \nmean    2362.335942      0.793506   2001.535266  \nstd      654.981925     13.041592     11.142414  \nmin      500.000000      0.000000   1984.000000  \n25%     1900.000000      0.000000   1991.000000  \n50%     2350.000000      0.000000   2002.000000  \n75%     2700.000000      0.000000   2011.000000  \nmax     7400.000000    370.000000   2020.000000  ",
            "text/html": "<div>\n<style scoped>\n    .dataframe tbody tr th:only-of-type {\n        vertical-align: middle;\n    }\n\n    .dataframe tbody tr th {\n        vertical-align: top;\n    }\n\n    .dataframe thead th {\n        text-align: right;\n    }\n</style>\n<table border=\"1\" class=\"dataframe\">\n  <thead>\n    <tr style=\"text-align: right;\">\n      <th></th>\n      <th>city08</th>\n      <th>comb08</th>\n      <th>highway08</th>\n      <th>cylinders</th>\n      <th>displ</th>\n      <th>fuelCost08</th>\n      <th>range</th>\n      <th>year</th>\n    </tr>\n  </thead>\n  <tbody>\n    <tr>\n      <th>count</th>\n      <td>41144.000000</td>\n      <td>41144.000000</td>\n      <td>41144.000000</td>\n      <td>41144.000000</td>\n      <td>41144.000000</td>\n      <td>41144.000000</td>\n      <td>41144.000000</td>\n      <td>41144.000000</td>\n    </tr>\n    <tr>\n      <th>mean</th>\n      <td>18.369045</td>\n      <td>20.616396</td>\n      <td>24.504667</td>\n      <td>5.688460</td>\n      <td>3.277904</td>\n      <td>2362.335942</td>\n      <td>0.793506</td>\n      <td>2001.535266</td>\n    </tr>\n    <tr>\n      <th>std</th>\n      <td>7.905886</td>\n      <td>7.674535</td>\n      <td>7.730364</td>\n      <td>1.797009</td>\n      <td>1.373415</td>\n      <td>654.981925</td>\n      <td>13.041592</td>\n      <td>11.142414</td>\n    </tr>\n    <tr>\n      <th>min</th>\n      <td>6.000000</td>\n      <td>7.000000</td>\n      <td>9.000000</td>\n      <td>0.000000</td>\n      <td>0.000000</td>\n      <td>500.000000</td>\n      <td>0.000000</td>\n      <td>1984.000000</td>\n    </tr>\n    <tr>\n      <th>25%</th>\n      <td>15.000000</td>\n      <td>17.000000</td>\n      <td>20.000000</td>\n      <td>4.000000</td>\n      <td>2.200000</td>\n      <td>1900.000000</td>\n      <td>0.000000</td>\n      <td>1991.000000</td>\n    </tr>\n    <tr>\n      <th>50%</th>\n      <td>17.000000</td>\n      <td>20.000000</td>\n      <td>24.000000</td>\n      <td>6.000000</td>\n      <td>3.000000</td>\n      <td>2350.000000</td>\n      <td>0.000000</td>\n      <td>2002.000000</td>\n    </tr>\n    <tr>\n      <th>75%</th>\n      <td>20.000000</td>\n      <td>23.000000</td>\n      <td>28.000000</td>\n      <td>6.000000</td>\n      <td>4.300000</td>\n      <td>2700.000000</td>\n      <td>0.000000</td>\n      <td>2011.000000</td>\n    </tr>\n    <tr>\n      <th>max</th>\n      <td>150.000000</td>\n      <td>136.000000</td>\n      <td>124.000000</td>\n      <td>16.000000</td>\n      <td>8.400000</td>\n      <td>7400.000000</td>\n      <td>370.000000</td>\n      <td>2020.000000</td>\n    </tr>\n  </tbody>\n</table>\n</div>"
          },
          "execution_count": 25,
          "metadata": {},
          "output_type": "execute_result"
        }
      ],
      "source": [
        "# chaining - add cylinders and displ columns\n",
        "(autos\n",
        " [cols]\n",
        " .assign(cylinders=autos.cylinders.fillna(0).astype('int8'),\n",
        "         displ=autos.displ.fillna(0))\n",
        " .astype({'highway08': 'int8', 'city08': 'int16', 'comb08': 'int16', \n",
        "          'fuelCost08': 'int16', 'range': 'int16', 'year': 'int16',  })\n",
        " .describe()\n",
        ")"
      ]
    },
    {
      "cell_type": "code",
      "execution_count": null,
      "metadata": {
        "pycharm": {
          "name": "#%%\n"
        },
        "id": "1bgacOy4HN6w"
      },
      "outputs": [],
      "source": [
        "autos[cols].describe()"
      ]
    },
    {
      "cell_type": "code",
      "execution_count": null,
      "metadata": {
        "scrolled": true,
        "pycharm": {
          "name": "#%%\n"
        },
        "id": "3PmKQcVQHN6w"
      },
      "outputs": [],
      "source": [
        "# use this to inspect float sizes\n",
        "np.finfo(np.float16)"
      ]
    },
    {
      "cell_type": "code",
      "execution_count": null,
      "metadata": {
        "scrolled": true,
        "pycharm": {
          "name": "#%%\n"
        },
        "id": "ZepCDafZHN6x"
      },
      "outputs": [],
      "source": [
        "# chaining - convert displ to float16\n",
        "(autos\n",
        " [cols]\n",
        " .assign(cylinders=autos.cylinders.fillna(0).astype('int8'),\n",
        "         displ=autos.displ.fillna(0).astype('float16'))\n",
        " .astype({'highway08': 'int8', 'city08': 'int16', 'comb08': 'int16', 'fuelCost08': 'int16', \n",
        "          'range': 'int16',  'year': 'int16'})\n",
        ")"
      ]
    },
    {
      "cell_type": "code",
      "execution_count": null,
      "metadata": {
        "scrolled": false,
        "pycharm": {
          "name": "#%%\n"
        },
        "id": "3fkklOM_HN6x",
        "outputId": "56108182-5f68-4cdb-cf07-ade64f100e51"
      },
      "outputs": [
        {
          "data": {
            "text/plain": "17590123"
          },
          "execution_count": 26,
          "metadata": {},
          "output_type": "execute_result"
        }
      ],
      "source": [
        "# new memory usage\n",
        "(autos\n",
        " .loc[:, cols]\n",
        " .assign(cylinders=autos.cylinders.fillna(0).astype('int8'),\n",
        "         displ=autos.displ.fillna(0).astype('float16'))\n",
        " .astype({'highway08': 'int8', 'city08': 'int16', 'comb08': 'int16', 'fuelCost08': 'int16', \n",
        "          'range': 'int16',  'year': 'int16'})\n",
        " .memory_usage(deep=True)\n",
        " .sum()  # was 19,647,323\n",
        ")"
      ]
    },
    {
      "cell_type": "code",
      "execution_count": null,
      "metadata": {
        "pycharm": {
          "name": "#%%\n"
        },
        "id": "ql8Nu3ZHHN6x"
      },
      "outputs": [],
      "source": []
    },
    {
      "cell_type": "code",
      "execution_count": null,
      "metadata": {
        "pycharm": {
          "name": "#%%\n"
        },
        "id": "hnUNc-IOHN6x"
      },
      "outputs": [],
      "source": []
    },
    {
      "cell_type": "markdown",
      "metadata": {
        "pycharm": {
          "name": "#%% md\n"
        },
        "id": "BSeyNEAPHN6y"
      },
      "source": [
        "### Objects"
      ]
    },
    {
      "cell_type": "code",
      "execution_count": null,
      "metadata": {
        "scrolled": true,
        "pycharm": {
          "name": "#%%\n"
        },
        "id": "YPx7PmpzHN6y",
        "outputId": "4c530592-9cd2-44ff-b2e2-3d689d903c65"
      },
      "outputs": [
        {
          "data": {
            "text/plain": "                            drive          eng_dscr        make  \\\n0                Rear-Wheel Drive             (FFS)  Alfa Romeo   \n1                Rear-Wheel Drive         (GUZZLER)     Ferrari   \n2               Front-Wheel Drive             (FFS)       Dodge   \n3                Rear-Wheel Drive               NaN       Dodge   \n4      4-Wheel or All-Wheel Drive        (FFS,TRBO)      Subaru   \n5               Front-Wheel Drive             (FFS)      Subaru   \n6               Front-Wheel Drive             (FFS)      Subaru   \n7               Front-Wheel Drive             (FFS)      Toyota   \n8               Front-Wheel Drive             (FFS)      Toyota   \n9               Front-Wheel Drive             (FFS)      Toyota   \n...                           ...               ...         ...   \n41134           Front-Wheel Drive             (FFS)        Saab   \n41135           Front-Wheel Drive  (TBI)      (FFS)      Saturn   \n41136           Front-Wheel Drive  (MFI)      (FFS)      Saturn   \n41137           Front-Wheel Drive  (TBI)      (FFS)      Saturn   \n41138           Front-Wheel Drive  (MFI)      (FFS)      Saturn   \n41139           Front-Wheel Drive             (FFS)      Subaru   \n41140           Front-Wheel Drive             (FFS)      Subaru   \n41141  4-Wheel or All-Wheel Drive             (FFS)      Subaru   \n41142  4-Wheel or All-Wheel Drive             (FFS)      Subaru   \n41143  4-Wheel or All-Wheel Drive        (FFS,TRBO)      Subaru   \n\n                     model            trany                     createdOn  \n0       Spider Veloce 2000     Manual 5-spd  Tue Jan 01 00:00:00 EST 2013  \n1               Testarossa     Manual 5-spd  Tue Jan 01 00:00:00 EST 2013  \n2                  Charger     Manual 5-spd  Tue Jan 01 00:00:00 EST 2013  \n3      B150/B250 Wagon 2WD  Automatic 3-spd  Tue Jan 01 00:00:00 EST 2013  \n4         Legacy AWD Turbo     Manual 5-spd  Tue Jan 01 00:00:00 EST 2013  \n5                   Loyale  Automatic 3-spd  Tue Jan 01 00:00:00 EST 2013  \n6                   Loyale     Manual 5-spd  Tue Jan 01 00:00:00 EST 2013  \n7                  Corolla  Automatic 3-spd  Tue Jan 01 00:00:00 EST 2013  \n8                  Corolla     Manual 5-spd  Tue Jan 01 00:00:00 EST 2013  \n9                  Corolla  Automatic 4-spd  Tue Jan 01 00:00:00 EST 2013  \n...                    ...              ...                           ...  \n41134                  900     Manual 5-spd  Tue Jan 01 00:00:00 EST 2013  \n41135                   SL  Automatic 4-spd  Tue Jan 01 00:00:00 EST 2013  \n41136                   SL  Automatic 4-spd  Tue Jan 01 00:00:00 EST 2013  \n41137                   SL     Manual 5-spd  Tue Jan 01 00:00:00 EST 2013  \n41138                   SL     Manual 5-spd  Tue Jan 01 00:00:00 EST 2013  \n41139               Legacy  Automatic 4-spd  Tue Jan 01 00:00:00 EST 2013  \n41140               Legacy     Manual 5-spd  Tue Jan 01 00:00:00 EST 2013  \n41141           Legacy AWD  Automatic 4-spd  Tue Jan 01 00:00:00 EST 2013  \n41142           Legacy AWD     Manual 5-spd  Tue Jan 01 00:00:00 EST 2013  \n41143     Legacy AWD Turbo  Automatic 4-spd  Tue Jan 01 00:00:00 EST 2013  \n\n[41144 rows x 6 columns]",
            "text/html": "<div>\n<style scoped>\n    .dataframe tbody tr th:only-of-type {\n        vertical-align: middle;\n    }\n\n    .dataframe tbody tr th {\n        vertical-align: top;\n    }\n\n    .dataframe thead th {\n        text-align: right;\n    }\n</style>\n<table border=\"1\" class=\"dataframe\">\n  <thead>\n    <tr style=\"text-align: right;\">\n      <th></th>\n      <th>drive</th>\n      <th>eng_dscr</th>\n      <th>make</th>\n      <th>model</th>\n      <th>trany</th>\n      <th>createdOn</th>\n    </tr>\n  </thead>\n  <tbody>\n    <tr>\n      <th>0</th>\n      <td>Rear-Wheel Drive</td>\n      <td>(FFS)</td>\n      <td>Alfa Romeo</td>\n      <td>Spider Veloce 2000</td>\n      <td>Manual 5-spd</td>\n      <td>Tue Jan 01 00:00:00 EST 2013</td>\n    </tr>\n    <tr>\n      <th>1</th>\n      <td>Rear-Wheel Drive</td>\n      <td>(GUZZLER)</td>\n      <td>Ferrari</td>\n      <td>Testarossa</td>\n      <td>Manual 5-spd</td>\n      <td>Tue Jan 01 00:00:00 EST 2013</td>\n    </tr>\n    <tr>\n      <th>2</th>\n      <td>Front-Wheel Drive</td>\n      <td>(FFS)</td>\n      <td>Dodge</td>\n      <td>Charger</td>\n      <td>Manual 5-spd</td>\n      <td>Tue Jan 01 00:00:00 EST 2013</td>\n    </tr>\n    <tr>\n      <th>3</th>\n      <td>Rear-Wheel Drive</td>\n      <td>NaN</td>\n      <td>Dodge</td>\n      <td>B150/B250 Wagon 2WD</td>\n      <td>Automatic 3-spd</td>\n      <td>Tue Jan 01 00:00:00 EST 2013</td>\n    </tr>\n    <tr>\n      <th>4</th>\n      <td>4-Wheel or All-Wheel Drive</td>\n      <td>(FFS,TRBO)</td>\n      <td>Subaru</td>\n      <td>Legacy AWD Turbo</td>\n      <td>Manual 5-spd</td>\n      <td>Tue Jan 01 00:00:00 EST 2013</td>\n    </tr>\n    <tr>\n      <th>5</th>\n      <td>Front-Wheel Drive</td>\n      <td>(FFS)</td>\n      <td>Subaru</td>\n      <td>Loyale</td>\n      <td>Automatic 3-spd</td>\n      <td>Tue Jan 01 00:00:00 EST 2013</td>\n    </tr>\n    <tr>\n      <th>6</th>\n      <td>Front-Wheel Drive</td>\n      <td>(FFS)</td>\n      <td>Subaru</td>\n      <td>Loyale</td>\n      <td>Manual 5-spd</td>\n      <td>Tue Jan 01 00:00:00 EST 2013</td>\n    </tr>\n    <tr>\n      <th>7</th>\n      <td>Front-Wheel Drive</td>\n      <td>(FFS)</td>\n      <td>Toyota</td>\n      <td>Corolla</td>\n      <td>Automatic 3-spd</td>\n      <td>Tue Jan 01 00:00:00 EST 2013</td>\n    </tr>\n    <tr>\n      <th>8</th>\n      <td>Front-Wheel Drive</td>\n      <td>(FFS)</td>\n      <td>Toyota</td>\n      <td>Corolla</td>\n      <td>Manual 5-spd</td>\n      <td>Tue Jan 01 00:00:00 EST 2013</td>\n    </tr>\n    <tr>\n      <th>9</th>\n      <td>Front-Wheel Drive</td>\n      <td>(FFS)</td>\n      <td>Toyota</td>\n      <td>Corolla</td>\n      <td>Automatic 4-spd</td>\n      <td>Tue Jan 01 00:00:00 EST 2013</td>\n    </tr>\n    <tr>\n      <th>...</th>\n      <td>...</td>\n      <td>...</td>\n      <td>...</td>\n      <td>...</td>\n      <td>...</td>\n      <td>...</td>\n    </tr>\n    <tr>\n      <th>41134</th>\n      <td>Front-Wheel Drive</td>\n      <td>(FFS)</td>\n      <td>Saab</td>\n      <td>900</td>\n      <td>Manual 5-spd</td>\n      <td>Tue Jan 01 00:00:00 EST 2013</td>\n    </tr>\n    <tr>\n      <th>41135</th>\n      <td>Front-Wheel Drive</td>\n      <td>(TBI)      (FFS)</td>\n      <td>Saturn</td>\n      <td>SL</td>\n      <td>Automatic 4-spd</td>\n      <td>Tue Jan 01 00:00:00 EST 2013</td>\n    </tr>\n    <tr>\n      <th>41136</th>\n      <td>Front-Wheel Drive</td>\n      <td>(MFI)      (FFS)</td>\n      <td>Saturn</td>\n      <td>SL</td>\n      <td>Automatic 4-spd</td>\n      <td>Tue Jan 01 00:00:00 EST 2013</td>\n    </tr>\n    <tr>\n      <th>41137</th>\n      <td>Front-Wheel Drive</td>\n      <td>(TBI)      (FFS)</td>\n      <td>Saturn</td>\n      <td>SL</td>\n      <td>Manual 5-spd</td>\n      <td>Tue Jan 01 00:00:00 EST 2013</td>\n    </tr>\n    <tr>\n      <th>41138</th>\n      <td>Front-Wheel Drive</td>\n      <td>(MFI)      (FFS)</td>\n      <td>Saturn</td>\n      <td>SL</td>\n      <td>Manual 5-spd</td>\n      <td>Tue Jan 01 00:00:00 EST 2013</td>\n    </tr>\n    <tr>\n      <th>41139</th>\n      <td>Front-Wheel Drive</td>\n      <td>(FFS)</td>\n      <td>Subaru</td>\n      <td>Legacy</td>\n      <td>Automatic 4-spd</td>\n      <td>Tue Jan 01 00:00:00 EST 2013</td>\n    </tr>\n    <tr>\n      <th>41140</th>\n      <td>Front-Wheel Drive</td>\n      <td>(FFS)</td>\n      <td>Subaru</td>\n      <td>Legacy</td>\n      <td>Manual 5-spd</td>\n      <td>Tue Jan 01 00:00:00 EST 2013</td>\n    </tr>\n    <tr>\n      <th>41141</th>\n      <td>4-Wheel or All-Wheel Drive</td>\n      <td>(FFS)</td>\n      <td>Subaru</td>\n      <td>Legacy AWD</td>\n      <td>Automatic 4-spd</td>\n      <td>Tue Jan 01 00:00:00 EST 2013</td>\n    </tr>\n    <tr>\n      <th>41142</th>\n      <td>4-Wheel or All-Wheel Drive</td>\n      <td>(FFS)</td>\n      <td>Subaru</td>\n      <td>Legacy AWD</td>\n      <td>Manual 5-spd</td>\n      <td>Tue Jan 01 00:00:00 EST 2013</td>\n    </tr>\n    <tr>\n      <th>41143</th>\n      <td>4-Wheel or All-Wheel Drive</td>\n      <td>(FFS,TRBO)</td>\n      <td>Subaru</td>\n      <td>Legacy AWD Turbo</td>\n      <td>Automatic 4-spd</td>\n      <td>Tue Jan 01 00:00:00 EST 2013</td>\n    </tr>\n  </tbody>\n</table>\n<p>41144 rows × 6 columns</p>\n</div>"
          },
          "execution_count": 27,
          "metadata": {},
          "output_type": "execute_result"
        }
      ],
      "source": [
        "(autos\n",
        " [cols]\n",
        " .select_dtypes(object)\n",
        ")"
      ]
    },
    {
      "cell_type": "code",
      "execution_count": null,
      "metadata": {
        "scrolled": true,
        "pycharm": {
          "name": "#%%\n"
        },
        "id": "2aEBRS06HN6y",
        "outputId": "4f485033-8339-44b4-e93d-9432e39f2e56"
      },
      "outputs": [
        {
          "data": {
            "text/plain": "Front-Wheel Drive             14236\nRear-Wheel Drive              13831\n4-Wheel or All-Wheel Drive     6648\nAll-Wheel Drive                3015\n4-Wheel Drive                  1460\nNaN                            1189\n2-Wheel Drive                   507\nPart-time 4-Wheel Drive         258\nName: drive, dtype: int64"
          },
          "execution_count": 28,
          "metadata": {},
          "output_type": "execute_result"
        }
      ],
      "source": [
        "# looks categorical\n",
        "(autos.drive.value_counts(dropna=False))"
      ]
    },
    {
      "cell_type": "code",
      "execution_count": null,
      "metadata": {
        "scrolled": true,
        "pycharm": {
          "name": "#%%\n"
        },
        "id": "ci3sre1RHN6z",
        "outputId": "0254f4e6-c250-4ab9-d68e-f649bb11f942"
      },
      "outputs": [
        {
          "data": {
            "text/plain": "       city08  comb08  highway08  cylinders  displ drive            eng_dscr  \\\n7138       81      85         91        NaN    NaN   NaN                 NaN   \n8144       74      65         58        NaN    NaN   NaN                 NaN   \n8147       84      75         66        NaN    NaN   NaN                 NaN   \n18217      18      21         25        4.0    2.0   NaN               (FFS)   \n18218      20      22         26        4.0    1.5   NaN               (FFS)   \n18219      13      15         20        8.0    5.7   NaN      (350 V8) (FFS)   \n18220      13      15         20        8.0    5.7   NaN      (350 V8) (FFS)   \n18221      15      17         20        6.0    3.0   NaN          (FFS,TRBO)   \n18222      16      18         20        6.0    3.0   NaN               (FFS)   \n18223      16      18         22        6.0    3.0   NaN          (FFS,TRBO)   \n...       ...     ...        ...        ...    ...   ...                 ...   \n20063      13      15         19        8.0    5.0   NaN      (FFS) CA model   \n20064      13      15         20        8.0    5.0   NaN  (GM-OLDS) CA model   \n20065      14      16         19        8.0    5.0   NaN  (GM-CHEV) CA model   \n20387      14      14         15        4.0    2.4   NaN      (FFS) CA model   \n21129      14      16         21        8.0    3.5   NaN  GUZZLER  FFS,TURBO   \n23029      79      85         94        NaN    NaN   NaN           Lead Acid   \n23030      35      37         39        NaN    NaN   NaN                NiMH   \n23032      49      48         46        NaN    NaN   NaN                 NaN   \n23037      49      48         46        NaN    NaN   NaN                 NaN   \n23040     102      98         94        NaN    NaN   NaN                 NaN   \n\n       fuelCost08        make                 model            trany  range  \\\n7138          800      Nissan              Altra EV              NaN     90   \n8144         1000        Ford                 Th!nk              NaN     29   \n8147          900      Nissan            Hyper-Mini              NaN     33   \n18217        2000  Alfa Romeo    Spider Veloce 2000     Manual 5-spd      0   \n18218        1900     Bertone                  X1/9     Manual 5-spd      0   \n18219        2800   Chevrolet              Corvette  Automatic 4-spd      0   \n18220        2800   Chevrolet              Corvette     Manual 4-spd      0   \n18221        2500      Nissan                 300ZX  Automatic 4-spd      0   \n18222        2350      Nissan                 300ZX  Automatic 4-spd      0   \n18223        2350      Nissan                 300ZX     Manual 5-spd      0   \n...           ...         ...                   ...              ...    ...   \n20063        2800     Mercury   Grand Marquis Wagon  Automatic 4-spd      0   \n20064        2800  Oldsmobile  Custom Cruiser Wagon  Automatic 4-spd      0   \n20065        2650     Pontiac      Parisienne Wagon  Automatic 4-spd      0   \n20387        3000      Nissan    Pickup Cab Chassis     Manual 5-spd      0   \n21129        3250       Lotus             Esprit V8     Manual 5-spd      0   \n23029         800         GMC                   EV1   Automatic (A1)     55   \n23030        1750         GMC                   EV1   Automatic (A1)    105   \n23032        1400       Honda               EV Plus   Automatic (A1)     81   \n23037        1400       Honda               EV Plus   Automatic (A1)     81   \n23040         650        MINI                 MiniE   Automatic (A1)    100   \n\n                          createdOn  year  \n7138   Tue Jan 01 00:00:00 EST 2013  2000  \n8144   Tue Jan 01 00:00:00 EST 2013  2001  \n8147   Tue Jan 01 00:00:00 EST 2013  2001  \n18217  Tue Jan 01 00:00:00 EST 2013  1984  \n18218  Tue Jan 01 00:00:00 EST 2013  1984  \n18219  Tue Jan 01 00:00:00 EST 2013  1984  \n18220  Tue Jan 01 00:00:00 EST 2013  1984  \n18221  Tue Jan 01 00:00:00 EST 2013  1984  \n18222  Tue Jan 01 00:00:00 EST 2013  1984  \n18223  Tue Jan 01 00:00:00 EST 2013  1984  \n...                             ...   ...  \n20063  Tue Jan 01 00:00:00 EST 2013  1984  \n20064  Tue Jan 01 00:00:00 EST 2013  1984  \n20065  Tue Jan 01 00:00:00 EST 2013  1984  \n20387  Tue Jan 01 00:00:00 EST 2013  1984  \n21129  Tue Jan 01 00:00:00 EST 2013  2002  \n23029  Tue Jan 01 00:00:00 EST 2013  1999  \n23030  Tue Jan 01 00:00:00 EST 2013  1999  \n23032  Tue Jan 01 00:00:00 EST 2013  1999  \n23037  Tue Jan 01 00:00:00 EST 2013  1998  \n23040  Tue Jan 01 00:00:00 EST 2013  2008  \n\n[1189 rows x 14 columns]",
            "text/html": "<div>\n<style scoped>\n    .dataframe tbody tr th:only-of-type {\n        vertical-align: middle;\n    }\n\n    .dataframe tbody tr th {\n        vertical-align: top;\n    }\n\n    .dataframe thead th {\n        text-align: right;\n    }\n</style>\n<table border=\"1\" class=\"dataframe\">\n  <thead>\n    <tr style=\"text-align: right;\">\n      <th></th>\n      <th>city08</th>\n      <th>comb08</th>\n      <th>highway08</th>\n      <th>cylinders</th>\n      <th>displ</th>\n      <th>drive</th>\n      <th>eng_dscr</th>\n      <th>fuelCost08</th>\n      <th>make</th>\n      <th>model</th>\n      <th>trany</th>\n      <th>range</th>\n      <th>createdOn</th>\n      <th>year</th>\n    </tr>\n  </thead>\n  <tbody>\n    <tr>\n      <th>7138</th>\n      <td>81</td>\n      <td>85</td>\n      <td>91</td>\n      <td>NaN</td>\n      <td>NaN</td>\n      <td>NaN</td>\n      <td>NaN</td>\n      <td>800</td>\n      <td>Nissan</td>\n      <td>Altra EV</td>\n      <td>NaN</td>\n      <td>90</td>\n      <td>Tue Jan 01 00:00:00 EST 2013</td>\n      <td>2000</td>\n    </tr>\n    <tr>\n      <th>8144</th>\n      <td>74</td>\n      <td>65</td>\n      <td>58</td>\n      <td>NaN</td>\n      <td>NaN</td>\n      <td>NaN</td>\n      <td>NaN</td>\n      <td>1000</td>\n      <td>Ford</td>\n      <td>Th!nk</td>\n      <td>NaN</td>\n      <td>29</td>\n      <td>Tue Jan 01 00:00:00 EST 2013</td>\n      <td>2001</td>\n    </tr>\n    <tr>\n      <th>8147</th>\n      <td>84</td>\n      <td>75</td>\n      <td>66</td>\n      <td>NaN</td>\n      <td>NaN</td>\n      <td>NaN</td>\n      <td>NaN</td>\n      <td>900</td>\n      <td>Nissan</td>\n      <td>Hyper-Mini</td>\n      <td>NaN</td>\n      <td>33</td>\n      <td>Tue Jan 01 00:00:00 EST 2013</td>\n      <td>2001</td>\n    </tr>\n    <tr>\n      <th>18217</th>\n      <td>18</td>\n      <td>21</td>\n      <td>25</td>\n      <td>4.0</td>\n      <td>2.0</td>\n      <td>NaN</td>\n      <td>(FFS)</td>\n      <td>2000</td>\n      <td>Alfa Romeo</td>\n      <td>Spider Veloce 2000</td>\n      <td>Manual 5-spd</td>\n      <td>0</td>\n      <td>Tue Jan 01 00:00:00 EST 2013</td>\n      <td>1984</td>\n    </tr>\n    <tr>\n      <th>18218</th>\n      <td>20</td>\n      <td>22</td>\n      <td>26</td>\n      <td>4.0</td>\n      <td>1.5</td>\n      <td>NaN</td>\n      <td>(FFS)</td>\n      <td>1900</td>\n      <td>Bertone</td>\n      <td>X1/9</td>\n      <td>Manual 5-spd</td>\n      <td>0</td>\n      <td>Tue Jan 01 00:00:00 EST 2013</td>\n      <td>1984</td>\n    </tr>\n    <tr>\n      <th>18219</th>\n      <td>13</td>\n      <td>15</td>\n      <td>20</td>\n      <td>8.0</td>\n      <td>5.7</td>\n      <td>NaN</td>\n      <td>(350 V8) (FFS)</td>\n      <td>2800</td>\n      <td>Chevrolet</td>\n      <td>Corvette</td>\n      <td>Automatic 4-spd</td>\n      <td>0</td>\n      <td>Tue Jan 01 00:00:00 EST 2013</td>\n      <td>1984</td>\n    </tr>\n    <tr>\n      <th>18220</th>\n      <td>13</td>\n      <td>15</td>\n      <td>20</td>\n      <td>8.0</td>\n      <td>5.7</td>\n      <td>NaN</td>\n      <td>(350 V8) (FFS)</td>\n      <td>2800</td>\n      <td>Chevrolet</td>\n      <td>Corvette</td>\n      <td>Manual 4-spd</td>\n      <td>0</td>\n      <td>Tue Jan 01 00:00:00 EST 2013</td>\n      <td>1984</td>\n    </tr>\n    <tr>\n      <th>18221</th>\n      <td>15</td>\n      <td>17</td>\n      <td>20</td>\n      <td>6.0</td>\n      <td>3.0</td>\n      <td>NaN</td>\n      <td>(FFS,TRBO)</td>\n      <td>2500</td>\n      <td>Nissan</td>\n      <td>300ZX</td>\n      <td>Automatic 4-spd</td>\n      <td>0</td>\n      <td>Tue Jan 01 00:00:00 EST 2013</td>\n      <td>1984</td>\n    </tr>\n    <tr>\n      <th>18222</th>\n      <td>16</td>\n      <td>18</td>\n      <td>20</td>\n      <td>6.0</td>\n      <td>3.0</td>\n      <td>NaN</td>\n      <td>(FFS)</td>\n      <td>2350</td>\n      <td>Nissan</td>\n      <td>300ZX</td>\n      <td>Automatic 4-spd</td>\n      <td>0</td>\n      <td>Tue Jan 01 00:00:00 EST 2013</td>\n      <td>1984</td>\n    </tr>\n    <tr>\n      <th>18223</th>\n      <td>16</td>\n      <td>18</td>\n      <td>22</td>\n      <td>6.0</td>\n      <td>3.0</td>\n      <td>NaN</td>\n      <td>(FFS,TRBO)</td>\n      <td>2350</td>\n      <td>Nissan</td>\n      <td>300ZX</td>\n      <td>Manual 5-spd</td>\n      <td>0</td>\n      <td>Tue Jan 01 00:00:00 EST 2013</td>\n      <td>1984</td>\n    </tr>\n    <tr>\n      <th>...</th>\n      <td>...</td>\n      <td>...</td>\n      <td>...</td>\n      <td>...</td>\n      <td>...</td>\n      <td>...</td>\n      <td>...</td>\n      <td>...</td>\n      <td>...</td>\n      <td>...</td>\n      <td>...</td>\n      <td>...</td>\n      <td>...</td>\n      <td>...</td>\n    </tr>\n    <tr>\n      <th>20063</th>\n      <td>13</td>\n      <td>15</td>\n      <td>19</td>\n      <td>8.0</td>\n      <td>5.0</td>\n      <td>NaN</td>\n      <td>(FFS) CA model</td>\n      <td>2800</td>\n      <td>Mercury</td>\n      <td>Grand Marquis Wagon</td>\n      <td>Automatic 4-spd</td>\n      <td>0</td>\n      <td>Tue Jan 01 00:00:00 EST 2013</td>\n      <td>1984</td>\n    </tr>\n    <tr>\n      <th>20064</th>\n      <td>13</td>\n      <td>15</td>\n      <td>20</td>\n      <td>8.0</td>\n      <td>5.0</td>\n      <td>NaN</td>\n      <td>(GM-OLDS) CA model</td>\n      <td>2800</td>\n      <td>Oldsmobile</td>\n      <td>Custom Cruiser Wagon</td>\n      <td>Automatic 4-spd</td>\n      <td>0</td>\n      <td>Tue Jan 01 00:00:00 EST 2013</td>\n      <td>1984</td>\n    </tr>\n    <tr>\n      <th>20065</th>\n      <td>14</td>\n      <td>16</td>\n      <td>19</td>\n      <td>8.0</td>\n      <td>5.0</td>\n      <td>NaN</td>\n      <td>(GM-CHEV) CA model</td>\n      <td>2650</td>\n      <td>Pontiac</td>\n      <td>Parisienne Wagon</td>\n      <td>Automatic 4-spd</td>\n      <td>0</td>\n      <td>Tue Jan 01 00:00:00 EST 2013</td>\n      <td>1984</td>\n    </tr>\n    <tr>\n      <th>20387</th>\n      <td>14</td>\n      <td>14</td>\n      <td>15</td>\n      <td>4.0</td>\n      <td>2.4</td>\n      <td>NaN</td>\n      <td>(FFS) CA model</td>\n      <td>3000</td>\n      <td>Nissan</td>\n      <td>Pickup Cab Chassis</td>\n      <td>Manual 5-spd</td>\n      <td>0</td>\n      <td>Tue Jan 01 00:00:00 EST 2013</td>\n      <td>1984</td>\n    </tr>\n    <tr>\n      <th>21129</th>\n      <td>14</td>\n      <td>16</td>\n      <td>21</td>\n      <td>8.0</td>\n      <td>3.5</td>\n      <td>NaN</td>\n      <td>GUZZLER  FFS,TURBO</td>\n      <td>3250</td>\n      <td>Lotus</td>\n      <td>Esprit V8</td>\n      <td>Manual 5-spd</td>\n      <td>0</td>\n      <td>Tue Jan 01 00:00:00 EST 2013</td>\n      <td>2002</td>\n    </tr>\n    <tr>\n      <th>23029</th>\n      <td>79</td>\n      <td>85</td>\n      <td>94</td>\n      <td>NaN</td>\n      <td>NaN</td>\n      <td>NaN</td>\n      <td>Lead Acid</td>\n      <td>800</td>\n      <td>GMC</td>\n      <td>EV1</td>\n      <td>Automatic (A1)</td>\n      <td>55</td>\n      <td>Tue Jan 01 00:00:00 EST 2013</td>\n      <td>1999</td>\n    </tr>\n    <tr>\n      <th>23030</th>\n      <td>35</td>\n      <td>37</td>\n      <td>39</td>\n      <td>NaN</td>\n      <td>NaN</td>\n      <td>NaN</td>\n      <td>NiMH</td>\n      <td>1750</td>\n      <td>GMC</td>\n      <td>EV1</td>\n      <td>Automatic (A1)</td>\n      <td>105</td>\n      <td>Tue Jan 01 00:00:00 EST 2013</td>\n      <td>1999</td>\n    </tr>\n    <tr>\n      <th>23032</th>\n      <td>49</td>\n      <td>48</td>\n      <td>46</td>\n      <td>NaN</td>\n      <td>NaN</td>\n      <td>NaN</td>\n      <td>NaN</td>\n      <td>1400</td>\n      <td>Honda</td>\n      <td>EV Plus</td>\n      <td>Automatic (A1)</td>\n      <td>81</td>\n      <td>Tue Jan 01 00:00:00 EST 2013</td>\n      <td>1999</td>\n    </tr>\n    <tr>\n      <th>23037</th>\n      <td>49</td>\n      <td>48</td>\n      <td>46</td>\n      <td>NaN</td>\n      <td>NaN</td>\n      <td>NaN</td>\n      <td>NaN</td>\n      <td>1400</td>\n      <td>Honda</td>\n      <td>EV Plus</td>\n      <td>Automatic (A1)</td>\n      <td>81</td>\n      <td>Tue Jan 01 00:00:00 EST 2013</td>\n      <td>1998</td>\n    </tr>\n    <tr>\n      <th>23040</th>\n      <td>102</td>\n      <td>98</td>\n      <td>94</td>\n      <td>NaN</td>\n      <td>NaN</td>\n      <td>NaN</td>\n      <td>NaN</td>\n      <td>650</td>\n      <td>MINI</td>\n      <td>MiniE</td>\n      <td>Automatic (A1)</td>\n      <td>100</td>\n      <td>Tue Jan 01 00:00:00 EST 2013</td>\n      <td>2008</td>\n    </tr>\n  </tbody>\n</table>\n<p>1189 rows × 14 columns</p>\n</div>"
          },
          "execution_count": 29,
          "metadata": {},
          "output_type": "execute_result"
        }
      ],
      "source": [
        "# where are the values missing for drive?\n",
        "(autos\n",
        " [cols]\n",
        " .query('drive.isna()'))"
      ]
    },
    {
      "cell_type": "code",
      "execution_count": null,
      "metadata": {
        "scrolled": false,
        "pycharm": {
          "name": "#%%\n"
        },
        "id": "qcFVKEDeHN6z",
        "outputId": "529bdcb7-307f-4a5b-ec10-d658d46696fc"
      },
      "outputs": [
        {
          "data": {
            "text/plain": "12093275"
          },
          "execution_count": 30,
          "metadata": {},
          "output_type": "execute_result"
        }
      ],
      "source": [
        "# drive and make (in .astype) to category\n",
        "(autos\n",
        " [cols]\n",
        " .assign(cylinders=autos.cylinders.fillna(0).astype('int8'),\n",
        "         displ=autos.displ.fillna(0).astype('float16'),\n",
        "         drive=autos.drive.fillna('Other').astype('category')\n",
        "        )\n",
        " .astype({'highway08': 'int8', 'city08': 'int16', 'comb08': 'int16', 'fuelCost08': 'int16', \n",
        "          'range': 'int16',  'year': 'int16', 'make': 'category'})\n",
        " .memory_usage(deep=True)\n",
        " .sum()  # was 19,647,323\n",
        ")"
      ]
    },
    {
      "cell_type": "code",
      "execution_count": null,
      "metadata": {
        "scrolled": true,
        "pycharm": {
          "name": "#%%\n"
        },
        "id": "TKimZWUsHN6z",
        "outputId": "ff3e8b41-1375-46d8-8584-92012562dd04"
      },
      "outputs": [
        {
          "data": {
            "text/plain": "Automatic 4-spd                     11047\nManual 5-spd                         8361\nAutomatic 3-spd                      3151\nAutomatic (S6)                       3106\nManual 6-spd                         2757\nAutomatic 5-spd                      2203\nAutomatic (S8)                       1665\nAutomatic 6-spd                      1619\nManual 4-spd                         1483\nAutomatic (S5)                        833\nAutomatic (variable gear ratios)      826\nAutomatic 7-spd                       724\nAutomatic 8-spd                       433\nAutomatic (AM-S7)                     424\nAutomatic (S7)                        327\nAutomatic 9-spd                       293\nAutomatic (AM7)                       245\nAutomatic (S4)                        233\nAutomatic (AV-S6)                     208\nAutomatic (A1)                        201\nAutomatic (AM6)                       151\nAutomatic (AV-S7)                     139\nAutomatic (S10)                       124\nAutomatic (AM-S6)                     116\nManual 7-spd                          114\nAutomatic (S9)                         86\nManual 3-spd                           77\nAutomatic (AM-S8)                      60\nAutomatic (AV-S8)                      47\nAutomatic 10-spd                       25\nManual 4-spd Doubled                   17\nAutomatic (AM5)                        14\nNaN                                    11\nAutomatic (AV-S10)                     11\nAutomatic (AM8)                         6\nAutomatic (AM-S9)                       3\nAutomatic (L3)                          2\nAutomatic (L4)                          2\nName: trany, dtype: int64"
          },
          "execution_count": 31,
          "metadata": {},
          "output_type": "execute_result"
        }
      ],
      "source": [
        "# let's inspect trany\n",
        "# looks like it has two pieces of information embedded in column\n",
        "(autos.trany.value_counts(dropna=False))"
      ]
    },
    {
      "cell_type": "code",
      "execution_count": null,
      "metadata": {
        "scrolled": false,
        "pycharm": {
          "name": "#%%\n"
        },
        "id": "PQDkOxgjHN60",
        "outputId": "9f6b3b9c-65e5-4aa5-df8f-f3842cdbbe52"
      },
      "outputs": [
        {
          "data": {
            "text/plain": "10631047"
          },
          "execution_count": 32,
          "metadata": {},
          "output_type": "execute_result"
        }
      ],
      "source": [
        "# add automatic, speeds from trany, then drop trany\n",
        "(autos\n",
        " [cols]\n",
        " .assign(cylinders=autos.cylinders.fillna(0).astype('int8'),\n",
        "         displ=autos.displ.fillna(0).astype('float16'),\n",
        "         drive=autos.drive.fillna('Other').astype('category'),\n",
        "         automatic=autos.trany.str.contains('Auto'),\n",
        "         speeds=autos.trany.str.extract(r'(\\d)+').fillna('20').astype('int8')\n",
        "        )\n",
        " .astype({'highway08': 'int8', 'city08': 'int16', 'comb08': 'int16', 'fuelCost08': 'int16', \n",
        "          'range': 'int16',  'year': 'int16', 'make': 'category'})\n",
        " .drop(columns=['trany'])\n",
        " .memory_usage(deep=True)\n",
        " .sum()  # was 19,647,323\n",
        ")"
      ]
    },
    {
      "cell_type": "code",
      "execution_count": null,
      "metadata": {
        "pycharm": {
          "name": "#%%\n"
        },
        "id": "ZZYxvqhlHN60"
      },
      "outputs": [],
      "source": []
    },
    {
      "cell_type": "code",
      "execution_count": null,
      "metadata": {
        "pycharm": {
          "name": "#%%\n"
        },
        "id": "f7O7-qCgHN60"
      },
      "outputs": [],
      "source": []
    },
    {
      "cell_type": "markdown",
      "metadata": {
        "pycharm": {
          "name": "#%% md\n"
        },
        "id": "Do3YPeh1HN60"
      },
      "source": [
        "### Dates"
      ]
    },
    {
      "cell_type": "code",
      "execution_count": null,
      "metadata": {
        "scrolled": false,
        "pycharm": {
          "name": "#%%\n"
        },
        "id": "kH7xkbFdHN60",
        "outputId": "50d4318a-d7cb-48f4-b63e-f1d3fa5bb6cc"
      },
      "outputs": [
        {
          "name": "stderr",
          "output_type": "stream",
          "text": [
            "C:\\Users\\matt\\AppData\\Roaming\\JetBrains\\DataSpell2022.1\\projects\\workspace\\venv\\lib\\site-packages\\dateutil\\parser\\_parser.py:1207: UnknownTimezoneWarning: tzname EST identified but not understood.  Pass `tzinfos` argument in order to correctly return a timezone-aware datetime.  In a future version, this will raise an exception.\n",
            "  warnings.warn(\"tzname {tzname} identified but not understood.  \"\n",
            "C:\\Users\\matt\\AppData\\Roaming\\JetBrains\\DataSpell2022.1\\projects\\workspace\\venv\\lib\\site-packages\\dateutil\\parser\\_parser.py:1207: UnknownTimezoneWarning: tzname EDT identified but not understood.  Pass `tzinfos` argument in order to correctly return a timezone-aware datetime.  In a future version, this will raise an exception.\n",
            "  warnings.warn(\"tzname {tzname} identified but not understood.  \"\n"
          ]
        },
        {
          "data": {
            "text/plain": "7462959"
          },
          "execution_count": 33,
          "metadata": {},
          "output_type": "execute_result"
        }
      ],
      "source": [
        "# add createdOn\n",
        "(autos\n",
        " [cols]\n",
        " .assign(cylinders=autos.cylinders.fillna(0).astype('int8'),\n",
        "         displ=autos.displ.fillna(0).astype('float16'),\n",
        "         drive=autos.drive.fillna('Other').astype('category'),\n",
        "         automatic=autos.trany.str.contains('Auto'),\n",
        "         speeds=autos.trany.str.extract(r'(\\d)+').fillna('20').astype('int8'),\n",
        "         createdOn=pd.to_datetime(autos.createdOn).dt.tz_localize('America/New_York')\n",
        "        )\n",
        " .astype({'highway08': 'int8', 'city08': 'int16', 'comb08': 'int16', 'fuelCost08': 'int16', \n",
        "          'range': 'int16',  'year': 'int16', 'make': 'category'})\n",
        " .drop(columns=['trany'])\n",
        " .memory_usage(deep=True)\n",
        " .sum()  # was 19,647,323\n",
        ")"
      ]
    },
    {
      "cell_type": "code",
      "execution_count": null,
      "metadata": {
        "scrolled": true,
        "pycharm": {
          "name": "#%%\n"
        },
        "id": "a0ySXt3lHN61",
        "outputId": "74293b57-a7f7-488e-b3ae-10b4e61c813d"
      },
      "outputs": [
        {
          "data": {
            "text/plain": "0        Tue Jan 01 00:00:00 EST 2013\n1        Tue Jan 01 00:00:00 EST 2013\n2        Tue Jan 01 00:00:00 EST 2013\n3        Tue Jan 01 00:00:00 EST 2013\n4        Tue Jan 01 00:00:00 EST 2013\n5        Tue Jan 01 00:00:00 EST 2013\n6        Tue Jan 01 00:00:00 EST 2013\n7        Tue Jan 01 00:00:00 EST 2013\n8        Tue Jan 01 00:00:00 EST 2013\n9        Tue Jan 01 00:00:00 EST 2013\n                     ...             \n41134    Tue Jan 01 00:00:00 EST 2013\n41135    Tue Jan 01 00:00:00 EST 2013\n41136    Tue Jan 01 00:00:00 EST 2013\n41137    Tue Jan 01 00:00:00 EST 2013\n41138    Tue Jan 01 00:00:00 EST 2013\n41139    Tue Jan 01 00:00:00 EST 2013\n41140    Tue Jan 01 00:00:00 EST 2013\n41141    Tue Jan 01 00:00:00 EST 2013\n41142    Tue Jan 01 00:00:00 EST 2013\n41143    Tue Jan 01 00:00:00 EST 2013\nName: createdOn, Length: 41144, dtype: object"
          },
          "execution_count": 34,
          "metadata": {},
          "output_type": "execute_result"
        }
      ],
      "source": [
        "# Python doesn't like EST/EDT\n",
        "autos[cols].createdOn"
      ]
    },
    {
      "cell_type": "code",
      "execution_count": null,
      "metadata": {
        "scrolled": false,
        "pycharm": {
          "name": "#%%\n"
        },
        "id": "Eug1ZSe5HN61",
        "outputId": "592eba23-173c-4bed-8ad8-052a51e8e864"
      },
      "outputs": [
        {
          "data": {
            "text/plain": "NaN                                 16153\n(FFS)                                8827\nSIDI                                 5526\n(FFS) CA model                        926\n(FFS)      (MPFI)                     734\nFFV                                   701\n(FFS,TRBO)                            666\n(350 V8) (FFS)                        411\n(GUZZLER)  (FFS)                      366\nSOHC                                  354\n                                    ...  \nB234L/R4 (FFS,TRBO)                     1\nGUZZLER V8 FFS,TURBO                    1\n4.6M FFS MPFI                           1\nCNG FFS                                 1\nPOLICE FFS MPFI                         1\nB308E5 FFS,TURBO                        1\n5.4E-R FFS MPFI                         1\nV-6 FFS                                 1\n(GUZZLER)  (FFS)      (S-CHARGE)        1\nR-ENG (FFS,TRBO)                        1\nName: eng_dscr, Length: 558, dtype: int64"
          },
          "execution_count": 35,
          "metadata": {},
          "output_type": "execute_result"
        }
      ],
      "source": [
        "# Fix date warnings - move on to eng_dscr\n",
        "#  http://www.fueleconomy.gov/feg/findacarhelp.shtml#trany\n",
        "(autos\n",
        " [cols]\n",
        " .assign(cylinders=autos.cylinders.fillna(0).astype('int8'),\n",
        "         displ=autos.displ.fillna(0).astype('float16'),\n",
        "         drive=autos.drive.fillna('Other').astype('category'),\n",
        "         automatic=autos.trany.str.contains('Auto'),\n",
        "         speeds=autos.trany.str.extract(r'(\\d)+').fillna('20').astype('int8'),\n",
        "         createdOn=pd.to_datetime(autos.createdOn.replace({' EDT': '-04:00',\n",
        "                ' EST': '-05:00'}, regex=True), utc=True).dt.tz_convert('America/New_York')\n",
        "        )\n",
        " .astype({'highway08': 'int8', 'city08': 'int16', 'comb08': 'int16', 'fuelCost08': 'int16', \n",
        "          'range': 'int16',  'year': 'int16', 'make': 'category'})\n",
        " .drop(columns=['trany'])\n",
        " .eng_dscr\n",
        " .value_counts(dropna=False)\n",
        ")"
      ]
    },
    {
      "cell_type": "code",
      "execution_count": null,
      "metadata": {
        "scrolled": false,
        "pycharm": {
          "name": "#%%\n"
        },
        "id": "728Gh-yTHN62",
        "outputId": "565e79ea-4630-4f84-92a4-66f045b67d23"
      },
      "outputs": [
        {
          "data": {
            "text/plain": "6701302"
          },
          "execution_count": 36,
          "metadata": {},
          "output_type": "execute_result"
        }
      ],
      "source": [
        "# add ffs (Feedback fuel system), drop eng_descr\n",
        "(autos\n",
        " [cols]\n",
        " .assign(cylinders=autos.cylinders.fillna(0).astype('int8'),\n",
        "         displ=autos.displ.fillna(0).astype('float16'),\n",
        "         drive=autos.drive.fillna('Other').astype('category'),\n",
        "         automatic=autos.trany.str.contains('Auto'),\n",
        "         speeds=autos.trany.str.extract(r'(\\d)+').fillna('20').astype('int8'),\n",
        "         createdOn=pd.to_datetime(autos.createdOn.replace({' EDT': '-04:00',\n",
        "                ' EST': '-05:00'}, regex=True), utc=True).dt.tz_convert('America/New_York'),\n",
        "         ffs=autos.eng_dscr.str.contains('FFS')\n",
        "        )\n",
        " .astype({'highway08': 'int8', 'city08': 'int16', 'comb08': 'int16', 'fuelCost08': 'int16', \n",
        "          'range': 'int16', 'year': 'int16', 'make': 'category'})\n",
        " .drop(columns=['trany', 'eng_dscr'])\n",
        " .memory_usage(deep=True)\n",
        " .sum()  # was 19,647,323\n",
        ")"
      ]
    },
    {
      "cell_type": "code",
      "execution_count": null,
      "metadata": {
        "lines_to_next_cell": 0,
        "scrolled": true,
        "pycharm": {
          "name": "#%%\n"
        },
        "id": "Q97KUuQ9HN62",
        "outputId": "984d4aad-2e58-470b-a1fd-acf2dd7affb8"
      },
      "outputs": [
        {
          "data": {
            "text/plain": "       city08  comb08  highway08  cylinders     displ  \\\n0          19      21         25          4  2.000000   \n1           9      11         14         12  4.898438   \n2          23      27         33          4  2.199219   \n3          10      11         12          8  5.199219   \n4          17      19         23          4  2.199219   \n5          21      22         24          4  1.799805   \n6          22      25         29          4  1.799805   \n7          23      24         26          4  1.599609   \n8          23      26         31          4  1.599609   \n9          23      25         30          4  1.799805   \n...       ...     ...        ...        ...       ...   \n41134      18      20         24          4  2.099609   \n41135      23      26         33          4  1.900391   \n41136      21      24         30          4  1.900391   \n41137      24      28         33          4  1.900391   \n41138      21      25         32          4  1.900391   \n41139      19      22         26          4  2.199219   \n41140      20      23         28          4  2.199219   \n41141      18      21         24          4  2.199219   \n41142      18      21         24          4  2.199219   \n41143      16      18         21          4  2.199219   \n\n                            drive  fuelCost08        make  \\\n0                Rear-Wheel Drive        2000  Alfa Romeo   \n1                Rear-Wheel Drive        3850     Ferrari   \n2               Front-Wheel Drive        1550       Dodge   \n3                Rear-Wheel Drive        3850       Dodge   \n4      4-Wheel or All-Wheel Drive        2700      Subaru   \n5               Front-Wheel Drive        1900      Subaru   \n6               Front-Wheel Drive        1700      Subaru   \n7               Front-Wheel Drive        1750      Toyota   \n8               Front-Wheel Drive        1600      Toyota   \n9               Front-Wheel Drive        1700      Toyota   \n...                           ...         ...         ...   \n41134           Front-Wheel Drive        2100        Saab   \n41135           Front-Wheel Drive        1600      Saturn   \n41136           Front-Wheel Drive        1750      Saturn   \n41137           Front-Wheel Drive        1500      Saturn   \n41138           Front-Wheel Drive        1700      Saturn   \n41139           Front-Wheel Drive        1900      Subaru   \n41140           Front-Wheel Drive        1850      Subaru   \n41141  4-Wheel or All-Wheel Drive        2000      Subaru   \n41142  4-Wheel or All-Wheel Drive        2000      Subaru   \n41143  4-Wheel or All-Wheel Drive        2900      Subaru   \n\n                     model  range                 createdOn  year automatic  \\\n0       Spider Veloce 2000      0 2013-01-01 00:00:00-05:00  1985     False   \n1               Testarossa      0 2013-01-01 00:00:00-05:00  1985     False   \n2                  Charger      0 2013-01-01 00:00:00-05:00  1985     False   \n3      B150/B250 Wagon 2WD      0 2013-01-01 00:00:00-05:00  1985      True   \n4         Legacy AWD Turbo      0 2013-01-01 00:00:00-05:00  1993     False   \n5                   Loyale      0 2013-01-01 00:00:00-05:00  1993      True   \n6                   Loyale      0 2013-01-01 00:00:00-05:00  1993     False   \n7                  Corolla      0 2013-01-01 00:00:00-05:00  1993      True   \n8                  Corolla      0 2013-01-01 00:00:00-05:00  1993     False   \n9                  Corolla      0 2013-01-01 00:00:00-05:00  1993      True   \n...                    ...    ...                       ...   ...       ...   \n41134                  900      0 2013-01-01 00:00:00-05:00  1993     False   \n41135                   SL      0 2013-01-01 00:00:00-05:00  1993      True   \n41136                   SL      0 2013-01-01 00:00:00-05:00  1993      True   \n41137                   SL      0 2013-01-01 00:00:00-05:00  1993     False   \n41138                   SL      0 2013-01-01 00:00:00-05:00  1993     False   \n41139               Legacy      0 2013-01-01 00:00:00-05:00  1993      True   \n41140               Legacy      0 2013-01-01 00:00:00-05:00  1993     False   \n41141           Legacy AWD      0 2013-01-01 00:00:00-05:00  1993      True   \n41142           Legacy AWD      0 2013-01-01 00:00:00-05:00  1993     False   \n41143     Legacy AWD Turbo      0 2013-01-01 00:00:00-05:00  1993      True   \n\n       speeds    ffs  \n0           5   True  \n1           5  False  \n2           5   True  \n3           3    NaN  \n4           5   True  \n5           3   True  \n6           5   True  \n7           3   True  \n8           5   True  \n9           4   True  \n...       ...    ...  \n41134       5   True  \n41135       4   True  \n41136       4   True  \n41137       5   True  \n41138       5   True  \n41139       4   True  \n41140       5   True  \n41141       4   True  \n41142       5   True  \n41143       4   True  \n\n[41144 rows x 15 columns]",
            "text/html": "<div>\n<style scoped>\n    .dataframe tbody tr th:only-of-type {\n        vertical-align: middle;\n    }\n\n    .dataframe tbody tr th {\n        vertical-align: top;\n    }\n\n    .dataframe thead th {\n        text-align: right;\n    }\n</style>\n<table border=\"1\" class=\"dataframe\">\n  <thead>\n    <tr style=\"text-align: right;\">\n      <th></th>\n      <th>city08</th>\n      <th>comb08</th>\n      <th>highway08</th>\n      <th>cylinders</th>\n      <th>displ</th>\n      <th>drive</th>\n      <th>fuelCost08</th>\n      <th>make</th>\n      <th>model</th>\n      <th>range</th>\n      <th>createdOn</th>\n      <th>year</th>\n      <th>automatic</th>\n      <th>speeds</th>\n      <th>ffs</th>\n    </tr>\n  </thead>\n  <tbody>\n    <tr>\n      <th>0</th>\n      <td>19</td>\n      <td>21</td>\n      <td>25</td>\n      <td>4</td>\n      <td>2.000000</td>\n      <td>Rear-Wheel Drive</td>\n      <td>2000</td>\n      <td>Alfa Romeo</td>\n      <td>Spider Veloce 2000</td>\n      <td>0</td>\n      <td>2013-01-01 00:00:00-05:00</td>\n      <td>1985</td>\n      <td>False</td>\n      <td>5</td>\n      <td>True</td>\n    </tr>\n    <tr>\n      <th>1</th>\n      <td>9</td>\n      <td>11</td>\n      <td>14</td>\n      <td>12</td>\n      <td>4.898438</td>\n      <td>Rear-Wheel Drive</td>\n      <td>3850</td>\n      <td>Ferrari</td>\n      <td>Testarossa</td>\n      <td>0</td>\n      <td>2013-01-01 00:00:00-05:00</td>\n      <td>1985</td>\n      <td>False</td>\n      <td>5</td>\n      <td>False</td>\n    </tr>\n    <tr>\n      <th>2</th>\n      <td>23</td>\n      <td>27</td>\n      <td>33</td>\n      <td>4</td>\n      <td>2.199219</td>\n      <td>Front-Wheel Drive</td>\n      <td>1550</td>\n      <td>Dodge</td>\n      <td>Charger</td>\n      <td>0</td>\n      <td>2013-01-01 00:00:00-05:00</td>\n      <td>1985</td>\n      <td>False</td>\n      <td>5</td>\n      <td>True</td>\n    </tr>\n    <tr>\n      <th>3</th>\n      <td>10</td>\n      <td>11</td>\n      <td>12</td>\n      <td>8</td>\n      <td>5.199219</td>\n      <td>Rear-Wheel Drive</td>\n      <td>3850</td>\n      <td>Dodge</td>\n      <td>B150/B250 Wagon 2WD</td>\n      <td>0</td>\n      <td>2013-01-01 00:00:00-05:00</td>\n      <td>1985</td>\n      <td>True</td>\n      <td>3</td>\n      <td>NaN</td>\n    </tr>\n    <tr>\n      <th>4</th>\n      <td>17</td>\n      <td>19</td>\n      <td>23</td>\n      <td>4</td>\n      <td>2.199219</td>\n      <td>4-Wheel or All-Wheel Drive</td>\n      <td>2700</td>\n      <td>Subaru</td>\n      <td>Legacy AWD Turbo</td>\n      <td>0</td>\n      <td>2013-01-01 00:00:00-05:00</td>\n      <td>1993</td>\n      <td>False</td>\n      <td>5</td>\n      <td>True</td>\n    </tr>\n    <tr>\n      <th>5</th>\n      <td>21</td>\n      <td>22</td>\n      <td>24</td>\n      <td>4</td>\n      <td>1.799805</td>\n      <td>Front-Wheel Drive</td>\n      <td>1900</td>\n      <td>Subaru</td>\n      <td>Loyale</td>\n      <td>0</td>\n      <td>2013-01-01 00:00:00-05:00</td>\n      <td>1993</td>\n      <td>True</td>\n      <td>3</td>\n      <td>True</td>\n    </tr>\n    <tr>\n      <th>6</th>\n      <td>22</td>\n      <td>25</td>\n      <td>29</td>\n      <td>4</td>\n      <td>1.799805</td>\n      <td>Front-Wheel Drive</td>\n      <td>1700</td>\n      <td>Subaru</td>\n      <td>Loyale</td>\n      <td>0</td>\n      <td>2013-01-01 00:00:00-05:00</td>\n      <td>1993</td>\n      <td>False</td>\n      <td>5</td>\n      <td>True</td>\n    </tr>\n    <tr>\n      <th>7</th>\n      <td>23</td>\n      <td>24</td>\n      <td>26</td>\n      <td>4</td>\n      <td>1.599609</td>\n      <td>Front-Wheel Drive</td>\n      <td>1750</td>\n      <td>Toyota</td>\n      <td>Corolla</td>\n      <td>0</td>\n      <td>2013-01-01 00:00:00-05:00</td>\n      <td>1993</td>\n      <td>True</td>\n      <td>3</td>\n      <td>True</td>\n    </tr>\n    <tr>\n      <th>8</th>\n      <td>23</td>\n      <td>26</td>\n      <td>31</td>\n      <td>4</td>\n      <td>1.599609</td>\n      <td>Front-Wheel Drive</td>\n      <td>1600</td>\n      <td>Toyota</td>\n      <td>Corolla</td>\n      <td>0</td>\n      <td>2013-01-01 00:00:00-05:00</td>\n      <td>1993</td>\n      <td>False</td>\n      <td>5</td>\n      <td>True</td>\n    </tr>\n    <tr>\n      <th>9</th>\n      <td>23</td>\n      <td>25</td>\n      <td>30</td>\n      <td>4</td>\n      <td>1.799805</td>\n      <td>Front-Wheel Drive</td>\n      <td>1700</td>\n      <td>Toyota</td>\n      <td>Corolla</td>\n      <td>0</td>\n      <td>2013-01-01 00:00:00-05:00</td>\n      <td>1993</td>\n      <td>True</td>\n      <td>4</td>\n      <td>True</td>\n    </tr>\n    <tr>\n      <th>...</th>\n      <td>...</td>\n      <td>...</td>\n      <td>...</td>\n      <td>...</td>\n      <td>...</td>\n      <td>...</td>\n      <td>...</td>\n      <td>...</td>\n      <td>...</td>\n      <td>...</td>\n      <td>...</td>\n      <td>...</td>\n      <td>...</td>\n      <td>...</td>\n      <td>...</td>\n    </tr>\n    <tr>\n      <th>41134</th>\n      <td>18</td>\n      <td>20</td>\n      <td>24</td>\n      <td>4</td>\n      <td>2.099609</td>\n      <td>Front-Wheel Drive</td>\n      <td>2100</td>\n      <td>Saab</td>\n      <td>900</td>\n      <td>0</td>\n      <td>2013-01-01 00:00:00-05:00</td>\n      <td>1993</td>\n      <td>False</td>\n      <td>5</td>\n      <td>True</td>\n    </tr>\n    <tr>\n      <th>41135</th>\n      <td>23</td>\n      <td>26</td>\n      <td>33</td>\n      <td>4</td>\n      <td>1.900391</td>\n      <td>Front-Wheel Drive</td>\n      <td>1600</td>\n      <td>Saturn</td>\n      <td>SL</td>\n      <td>0</td>\n      <td>2013-01-01 00:00:00-05:00</td>\n      <td>1993</td>\n      <td>True</td>\n      <td>4</td>\n      <td>True</td>\n    </tr>\n    <tr>\n      <th>41136</th>\n      <td>21</td>\n      <td>24</td>\n      <td>30</td>\n      <td>4</td>\n      <td>1.900391</td>\n      <td>Front-Wheel Drive</td>\n      <td>1750</td>\n      <td>Saturn</td>\n      <td>SL</td>\n      <td>0</td>\n      <td>2013-01-01 00:00:00-05:00</td>\n      <td>1993</td>\n      <td>True</td>\n      <td>4</td>\n      <td>True</td>\n    </tr>\n    <tr>\n      <th>41137</th>\n      <td>24</td>\n      <td>28</td>\n      <td>33</td>\n      <td>4</td>\n      <td>1.900391</td>\n      <td>Front-Wheel Drive</td>\n      <td>1500</td>\n      <td>Saturn</td>\n      <td>SL</td>\n      <td>0</td>\n      <td>2013-01-01 00:00:00-05:00</td>\n      <td>1993</td>\n      <td>False</td>\n      <td>5</td>\n      <td>True</td>\n    </tr>\n    <tr>\n      <th>41138</th>\n      <td>21</td>\n      <td>25</td>\n      <td>32</td>\n      <td>4</td>\n      <td>1.900391</td>\n      <td>Front-Wheel Drive</td>\n      <td>1700</td>\n      <td>Saturn</td>\n      <td>SL</td>\n      <td>0</td>\n      <td>2013-01-01 00:00:00-05:00</td>\n      <td>1993</td>\n      <td>False</td>\n      <td>5</td>\n      <td>True</td>\n    </tr>\n    <tr>\n      <th>41139</th>\n      <td>19</td>\n      <td>22</td>\n      <td>26</td>\n      <td>4</td>\n      <td>2.199219</td>\n      <td>Front-Wheel Drive</td>\n      <td>1900</td>\n      <td>Subaru</td>\n      <td>Legacy</td>\n      <td>0</td>\n      <td>2013-01-01 00:00:00-05:00</td>\n      <td>1993</td>\n      <td>True</td>\n      <td>4</td>\n      <td>True</td>\n    </tr>\n    <tr>\n      <th>41140</th>\n      <td>20</td>\n      <td>23</td>\n      <td>28</td>\n      <td>4</td>\n      <td>2.199219</td>\n      <td>Front-Wheel Drive</td>\n      <td>1850</td>\n      <td>Subaru</td>\n      <td>Legacy</td>\n      <td>0</td>\n      <td>2013-01-01 00:00:00-05:00</td>\n      <td>1993</td>\n      <td>False</td>\n      <td>5</td>\n      <td>True</td>\n    </tr>\n    <tr>\n      <th>41141</th>\n      <td>18</td>\n      <td>21</td>\n      <td>24</td>\n      <td>4</td>\n      <td>2.199219</td>\n      <td>4-Wheel or All-Wheel Drive</td>\n      <td>2000</td>\n      <td>Subaru</td>\n      <td>Legacy AWD</td>\n      <td>0</td>\n      <td>2013-01-01 00:00:00-05:00</td>\n      <td>1993</td>\n      <td>True</td>\n      <td>4</td>\n      <td>True</td>\n    </tr>\n    <tr>\n      <th>41142</th>\n      <td>18</td>\n      <td>21</td>\n      <td>24</td>\n      <td>4</td>\n      <td>2.199219</td>\n      <td>4-Wheel or All-Wheel Drive</td>\n      <td>2000</td>\n      <td>Subaru</td>\n      <td>Legacy AWD</td>\n      <td>0</td>\n      <td>2013-01-01 00:00:00-05:00</td>\n      <td>1993</td>\n      <td>False</td>\n      <td>5</td>\n      <td>True</td>\n    </tr>\n    <tr>\n      <th>41143</th>\n      <td>16</td>\n      <td>18</td>\n      <td>21</td>\n      <td>4</td>\n      <td>2.199219</td>\n      <td>4-Wheel or All-Wheel Drive</td>\n      <td>2900</td>\n      <td>Subaru</td>\n      <td>Legacy AWD Turbo</td>\n      <td>0</td>\n      <td>2013-01-01 00:00:00-05:00</td>\n      <td>1993</td>\n      <td>True</td>\n      <td>4</td>\n      <td>True</td>\n    </tr>\n  </tbody>\n</table>\n<p>41144 rows × 15 columns</p>\n</div>"
          },
          "execution_count": 37,
          "metadata": {},
          "output_type": "execute_result"
        }
      ],
      "source": [
        "# a glorious function\n",
        "def tweak_autos(autos):\n",
        "    cols = ['city08', 'comb08', 'highway08', 'cylinders', 'displ', 'drive', 'eng_dscr', \n",
        "        'fuelCost08', 'make', 'model', 'trany', 'range', 'createdOn', 'year']\n",
        "    return (autos\n",
        "     [cols]\n",
        "     .assign(cylinders=autos.cylinders.fillna(0).astype('int8'),\n",
        "             displ=autos.displ.fillna(0).astype('float16'),\n",
        "             drive=autos.drive.fillna('Other').astype('category'),\n",
        "             automatic=autos.trany.str.contains('Auto'),\n",
        "             speeds=autos.trany.str.extract(r'(\\d)+').fillna('20').astype('int8'),\n",
        "             createdOn=pd.to_datetime(autos.createdOn.replace({' EDT': '-04:00',\n",
        "                ' EST': '-05:00'}, regex=True), utc=True).dt.tz_convert('America/New_York'),\n",
        "             ffs=autos.eng_dscr.str.contains('FFS')\n",
        "            )\n",
        "     .astype({'highway08': 'int8', 'city08': 'int16', 'comb08': 'int16', 'fuelCost08': 'int16',\n",
        "              'range': 'int16',  'year': 'int16', 'make': 'category'})\n",
        "     .drop(columns=['trany', 'eng_dscr'])\n",
        "    )\n",
        "\n",
        "tweak_autos(autos)"
      ]
    },
    {
      "cell_type": "code",
      "execution_count": null,
      "metadata": {
        "pycharm": {
          "name": "#%%\n"
        },
        "id": "kaOyebCOHN62"
      },
      "outputs": [],
      "source": []
    },
    {
      "cell_type": "code",
      "execution_count": null,
      "metadata": {
        "pycharm": {
          "name": "#%%\n"
        },
        "id": "GSgnyJh1HN63"
      },
      "outputs": [],
      "source": []
    },
    {
      "cell_type": "code",
      "execution_count": null,
      "metadata": {
        "lines_to_next_cell": 2,
        "pycharm": {
          "name": "#%%\n"
        },
        "id": "UnvtDS4PHN63"
      },
      "outputs": [],
      "source": []
    },
    {
      "cell_type": "markdown",
      "metadata": {
        "pycharm": {
          "name": "#%% md\n"
        },
        "id": "NyamZeXXHN63"
      },
      "source": [
        "## Chain\n",
        "\n",
        "Chaining is also called \"flow\" programming. Rather than making intermediate variables, just leverage the fact that most operations return a new object and work on that.\n",
        "\n",
        "The chain should read like a recipe of ordered steps.\n",
        "\n",
        "(BTW, this is actually what we did above.)\n",
        "\n",
        "<div class='alert alert-warning'>\n",
        "    Hint: Leverage <tt>.pipe</tt> if you can't find a way to chain 😉🐼💪\n",
        "</div>\n",
        "    \n",
        "\n",
        "\n"
      ]
    },
    {
      "cell_type": "code",
      "execution_count": null,
      "metadata": {
        "scrolled": true,
        "pycharm": {
          "name": "#%%\n"
        },
        "id": "nD9jLx60HN64"
      },
      "outputs": [],
      "source": [
        "def tweak_autos(autos):\n",
        "    cols = ['city08', 'comb08', 'highway08', 'cylinders', 'displ', 'drive', 'eng_dscr', \n",
        "        'fuelCost08', 'make', 'model', 'trany', 'range', 'createdOn', 'year']\n",
        "    return (autos\n",
        "     [cols]\n",
        "     .assign(cylinders=autos.cylinders.fillna(0).astype('int8'),\n",
        "             displ=autos.displ.fillna(0).astype('float16'),\n",
        "             drive=autos.drive.fillna('Other').astype('category'),\n",
        "             automatic=autos.trany.str.contains('Auto'),\n",
        "             speeds=autos.trany.str.extract(r'(\\d)+').fillna('20').astype('int8'),\n",
        "             createdOn=pd.to_datetime(autos.createdOn.replace({' EDT': '-04:00',\n",
        "                ' EST': '-05:00'}, regex=True), utc=True).dt.tz_convert('America/New_York'),\n",
        "             ffs=autos.eng_dscr.str.contains('FFS')\n",
        "            )\n",
        "     .astype({'highway08': 'int8', 'city08': 'int16', 'comb08': 'int16', 'fuelCost08': 'int16', \n",
        "              'range': 'int16',  'year': 'int16', 'make': 'category'})\n",
        "     .drop(columns=['trany', 'eng_dscr'])\n",
        "    )\n",
        "\n",
        "tweak_autos(autos)"
      ]
    },
    {
      "cell_type": "code",
      "execution_count": null,
      "metadata": {
        "pycharm": {
          "name": "#%%\n"
        },
        "id": "EkgZaBdLHN64",
        "outputId": "6adf0863-716d-410e-8f46-773427155d78"
      },
      "outputs": [
        {
          "name": "stderr",
          "output_type": "stream",
          "text": [
            "C:\\Users\\matt\\AppData\\Local\\Temp\\ipykernel_16404\\3557971291.py:5: SettingWithCopyWarning: \n",
            "A value is trying to be set on a copy of a slice from a DataFrame.\n",
            "Try using .loc[row_indexer,col_indexer] = value instead\n",
            "\n",
            "See the caveats in the documentation: https://pandas.pydata.org/pandas-docs/stable/user_guide/indexing.html#returning-a-view-versus-a-copy\n",
            "  a1['cylinders'] = cyls2\n",
            "C:\\Users\\matt\\AppData\\Local\\Temp\\ipykernel_16404\\3557971291.py:9: SettingWithCopyWarning: \n",
            "A value is trying to be set on a copy of a slice from a DataFrame.\n",
            "Try using .loc[row_indexer,col_indexer] = value instead\n",
            "\n",
            "See the caveats in the documentation: https://pandas.pydata.org/pandas-docs/stable/user_guide/indexing.html#returning-a-view-versus-a-copy\n",
            "  a1.displ = displ3\n",
            "C:\\Users\\matt\\AppData\\Local\\Temp\\ipykernel_16404\\3557971291.py:10: SettingWithCopyWarning: \n",
            "A value is trying to be set on a copy of a slice from a DataFrame.\n",
            "Try using .loc[row_indexer,col_indexer] = value instead\n",
            "\n",
            "See the caveats in the documentation: https://pandas.pydata.org/pandas-docs/stable/user_guide/indexing.html#returning-a-view-versus-a-copy\n",
            "  a1.drive = autos.drive.fillna('Other').astype('category')\n",
            "C:\\Users\\matt\\AppData\\Local\\Temp\\ipykernel_16404\\3557971291.py:11: SettingWithCopyWarning: \n",
            "A value is trying to be set on a copy of a slice from a DataFrame.\n",
            "Try using .loc[row_indexer,col_indexer] = value instead\n",
            "\n",
            "See the caveats in the documentation: https://pandas.pydata.org/pandas-docs/stable/user_guide/indexing.html#returning-a-view-versus-a-copy\n",
            "  a1['automatic'] = autos.trany.str.contains('Auto')\n",
            "C:\\Users\\matt\\AppData\\Local\\Temp\\ipykernel_16404\\3557971291.py:15: SettingWithCopyWarning: \n",
            "A value is trying to be set on a copy of a slice from a DataFrame.\n",
            "Try using .loc[row_indexer,col_indexer] = value instead\n",
            "\n",
            "See the caveats in the documentation: https://pandas.pydata.org/pandas-docs/stable/user_guide/indexing.html#returning-a-view-versus-a-copy\n",
            "  a1['speeds'] = speedint\n",
            "C:\\Users\\matt\\AppData\\Roaming\\JetBrains\\DataSpell2022.1\\projects\\workspace\\venv\\lib\\site-packages\\dateutil\\parser\\_parser.py:1207: UnknownTimezoneWarning: tzname EST identified but not understood.  Pass `tzinfos` argument in order to correctly return a timezone-aware datetime.  In a future version, this will raise an exception.\n",
            "  warnings.warn(\"tzname {tzname} identified but not understood.  \"\n",
            "C:\\Users\\matt\\AppData\\Roaming\\JetBrains\\DataSpell2022.1\\projects\\workspace\\venv\\lib\\site-packages\\dateutil\\parser\\_parser.py:1207: UnknownTimezoneWarning: tzname EDT identified but not understood.  Pass `tzinfos` argument in order to correctly return a timezone-aware datetime.  In a future version, this will raise an exception.\n",
            "  warnings.warn(\"tzname {tzname} identified but not understood.  \"\n",
            "C:\\Users\\matt\\AppData\\Local\\Temp\\ipykernel_16404\\3557971291.py:16: SettingWithCopyWarning: \n",
            "A value is trying to be set on a copy of a slice from a DataFrame.\n",
            "Try using .loc[row_indexer,col_indexer] = value instead\n",
            "\n",
            "See the caveats in the documentation: https://pandas.pydata.org/pandas-docs/stable/user_guide/indexing.html#returning-a-view-versus-a-copy\n",
            "  a1.createdOn=pd.to_datetime(autos.createdOn).dt.tz_localize('America/New_York')\n",
            "C:\\Users\\matt\\AppData\\Local\\Temp\\ipykernel_16404\\3557971291.py:17: UserWarning: Pandas doesn't allow columns to be created via a new attribute name - see https://pandas.pydata.org/pandas-docs/stable/indexing.html#attribute-access\n",
            "  a1.ffs=autos.eng_dscr.str.contains('FFS')\n",
            "C:\\Users\\matt\\AppData\\Local\\Temp\\ipykernel_16404\\3557971291.py:18: SettingWithCopyWarning: \n",
            "A value is trying to be set on a copy of a slice from a DataFrame.\n",
            "Try using .loc[row_indexer,col_indexer] = value instead\n",
            "\n",
            "See the caveats in the documentation: https://pandas.pydata.org/pandas-docs/stable/user_guide/indexing.html#returning-a-view-versus-a-copy\n",
            "  a1['highway08'] = autos.highway08.astype('int8')\n",
            "C:\\Users\\matt\\AppData\\Local\\Temp\\ipykernel_16404\\3557971291.py:19: SettingWithCopyWarning: \n",
            "A value is trying to be set on a copy of a slice from a DataFrame.\n",
            "Try using .loc[row_indexer,col_indexer] = value instead\n",
            "\n",
            "See the caveats in the documentation: https://pandas.pydata.org/pandas-docs/stable/user_guide/indexing.html#returning-a-view-versus-a-copy\n",
            "  a1['city08'] = autos.city08.astype('int8')\n",
            "C:\\Users\\matt\\AppData\\Local\\Temp\\ipykernel_16404\\3557971291.py:20: SettingWithCopyWarning: \n",
            "A value is trying to be set on a copy of a slice from a DataFrame.\n",
            "Try using .loc[row_indexer,col_indexer] = value instead\n",
            "\n",
            "See the caveats in the documentation: https://pandas.pydata.org/pandas-docs/stable/user_guide/indexing.html#returning-a-view-versus-a-copy\n",
            "  a1['comb08'] = autos.comb08.astype('int16')\n",
            "C:\\Users\\matt\\AppData\\Local\\Temp\\ipykernel_16404\\3557971291.py:21: SettingWithCopyWarning: \n",
            "A value is trying to be set on a copy of a slice from a DataFrame.\n",
            "Try using .loc[row_indexer,col_indexer] = value instead\n",
            "\n",
            "See the caveats in the documentation: https://pandas.pydata.org/pandas-docs/stable/user_guide/indexing.html#returning-a-view-versus-a-copy\n",
            "  a1['fuelCost08'] = autos.fuelCost08.astype('int16')\n",
            "C:\\Users\\matt\\AppData\\Local\\Temp\\ipykernel_16404\\3557971291.py:22: SettingWithCopyWarning: \n",
            "A value is trying to be set on a copy of a slice from a DataFrame.\n",
            "Try using .loc[row_indexer,col_indexer] = value instead\n",
            "\n",
            "See the caveats in the documentation: https://pandas.pydata.org/pandas-docs/stable/user_guide/indexing.html#returning-a-view-versus-a-copy\n",
            "  a1['range'] = autos.range.astype('int16')\n",
            "C:\\Users\\matt\\AppData\\Local\\Temp\\ipykernel_16404\\3557971291.py:23: SettingWithCopyWarning: \n",
            "A value is trying to be set on a copy of a slice from a DataFrame.\n",
            "Try using .loc[row_indexer,col_indexer] = value instead\n",
            "\n",
            "See the caveats in the documentation: https://pandas.pydata.org/pandas-docs/stable/user_guide/indexing.html#returning-a-view-versus-a-copy\n",
            "  a1['make'] = autos.make.astype('category')\n"
          ]
        }
      ],
      "source": [
        "# compare chain to this mess\n",
        "a1 = autos[cols]\n",
        "cyls = autos.cylinders.fillna(0)\n",
        "cyls2 = cyls.astype('int8')\n",
        "a1['cylinders'] = cyls2\n",
        "displ = a1.displ\n",
        "displ2 = displ.fillna(0)\n",
        "displ3 = displ2.astype('float16')\n",
        "a1.displ = displ3\n",
        "a1.drive = autos.drive.fillna('Other').astype('category')\n",
        "a1['automatic'] = autos.trany.str.contains('Auto')           \n",
        "speed = autos.trany.str.extract(r'(\\d)+')\n",
        "speedfill = speed.fillna('20')\n",
        "speedint = speedfill.astype('int8')\n",
        "a1['speeds'] = speedint\n",
        "a1.createdOn=pd.to_datetime(autos.createdOn).dt.tz_localize('America/New_York')\n",
        "a1.ffs=autos.eng_dscr.str.contains('FFS')\n",
        "a1['highway08'] = autos.highway08.astype('int8')\n",
        "a1['city08'] = autos.city08.astype('int8')\n",
        "a1['comb08'] = autos.comb08.astype('int16')\n",
        "a1['fuelCost08'] = autos.fuelCost08.astype('int16')\n",
        "a1['range'] = autos.range.astype('int16')\n",
        "a1['make'] = autos.make.astype('category')\n",
        "a3 = a1.drop(columns=['trany', 'eng_dscr'])"
      ]
    },
    {
      "cell_type": "code",
      "execution_count": null,
      "metadata": {
        "scrolled": false,
        "pycharm": {
          "name": "#%%\n"
        },
        "id": "DirSj-gRHN64",
        "outputId": "3b263a6c-1507-437a-f265-97b42224f140"
      },
      "outputs": [
        {
          "data": {
            "text/plain": "       city08  comb08  highway08  cylinders     displ  \\\n0          19      21         25          4  2.000000   \n1           9      11         14         12  4.898438   \n2          23      27         33          4  2.199219   \n3          10      11         12          8  5.199219   \n4          17      19         23          4  2.199219   \n5          21      22         24          4  1.799805   \n6          22      25         29          4  1.799805   \n7          23      24         26          4  1.599609   \n8          23      26         31          4  1.599609   \n9          23      25         30          4  1.799805   \n...       ...     ...        ...        ...       ...   \n41134      18      20         24          4  2.099609   \n41135      23      26         33          4  1.900391   \n41136      21      24         30          4  1.900391   \n41137      24      28         33          4  1.900391   \n41138      21      25         32          4  1.900391   \n41139      19      22         26          4  2.199219   \n41140      20      23         28          4  2.199219   \n41141      18      21         24          4  2.199219   \n41142      18      21         24          4  2.199219   \n41143      16      18         21          4  2.199219   \n\n                            drive          eng_dscr  fuelCost08        make  \\\n0                Rear-Wheel Drive             (FFS)        2000  Alfa Romeo   \n1                Rear-Wheel Drive         (GUZZLER)        3850     Ferrari   \n2               Front-Wheel Drive             (FFS)        1550       Dodge   \n3                Rear-Wheel Drive               NaN        3850       Dodge   \n4      4-Wheel or All-Wheel Drive        (FFS,TRBO)        2700      Subaru   \n5               Front-Wheel Drive             (FFS)        1900      Subaru   \n6               Front-Wheel Drive             (FFS)        1700      Subaru   \n7               Front-Wheel Drive             (FFS)        1750      Toyota   \n8               Front-Wheel Drive             (FFS)        1600      Toyota   \n9               Front-Wheel Drive             (FFS)        1700      Toyota   \n...                           ...               ...         ...         ...   \n41134           Front-Wheel Drive             (FFS)        2100        Saab   \n41135           Front-Wheel Drive  (TBI)      (FFS)        1600      Saturn   \n41136           Front-Wheel Drive  (MFI)      (FFS)        1750      Saturn   \n41137           Front-Wheel Drive  (TBI)      (FFS)        1500      Saturn   \n41138           Front-Wheel Drive  (MFI)      (FFS)        1700      Saturn   \n41139           Front-Wheel Drive             (FFS)        1900      Subaru   \n41140           Front-Wheel Drive             (FFS)        1850      Subaru   \n41141  4-Wheel or All-Wheel Drive             (FFS)        2000      Subaru   \n41142  4-Wheel or All-Wheel Drive             (FFS)        2000      Subaru   \n41143  4-Wheel or All-Wheel Drive        (FFS,TRBO)        2900      Subaru   \n\n                     model            trany  range                 createdOn  \\\n0       Spider Veloce 2000     Manual 5-spd      0 2013-01-01 00:00:00-05:00   \n1               Testarossa     Manual 5-spd      0 2013-01-01 00:00:00-05:00   \n2                  Charger     Manual 5-spd      0 2013-01-01 00:00:00-05:00   \n3      B150/B250 Wagon 2WD  Automatic 3-spd      0 2013-01-01 00:00:00-05:00   \n4         Legacy AWD Turbo     Manual 5-spd      0 2013-01-01 00:00:00-05:00   \n5                   Loyale  Automatic 3-spd      0 2013-01-01 00:00:00-05:00   \n6                   Loyale     Manual 5-spd      0 2013-01-01 00:00:00-05:00   \n7                  Corolla  Automatic 3-spd      0 2013-01-01 00:00:00-05:00   \n8                  Corolla     Manual 5-spd      0 2013-01-01 00:00:00-05:00   \n9                  Corolla  Automatic 4-spd      0 2013-01-01 00:00:00-05:00   \n...                    ...              ...    ...                       ...   \n41134                  900     Manual 5-spd      0 2013-01-01 00:00:00-05:00   \n41135                   SL  Automatic 4-spd      0 2013-01-01 00:00:00-05:00   \n41136                   SL  Automatic 4-spd      0 2013-01-01 00:00:00-05:00   \n41137                   SL     Manual 5-spd      0 2013-01-01 00:00:00-05:00   \n41138                   SL     Manual 5-spd      0 2013-01-01 00:00:00-05:00   \n41139               Legacy  Automatic 4-spd      0 2013-01-01 00:00:00-05:00   \n41140               Legacy     Manual 5-spd      0 2013-01-01 00:00:00-05:00   \n41141           Legacy AWD  Automatic 4-spd      0 2013-01-01 00:00:00-05:00   \n41142           Legacy AWD     Manual 5-spd      0 2013-01-01 00:00:00-05:00   \n41143     Legacy AWD Turbo  Automatic 4-spd      0 2013-01-01 00:00:00-05:00   \n\n       year automatic  speeds    ffs  \n0      1985     False       5   True  \n1      1985     False       5  False  \n2      1985     False       5   True  \n3      1985      True       3    NaN  \n4      1993     False       5   True  \n5      1993      True       3   True  \n6      1993     False       5   True  \n7      1993      True       3   True  \n8      1993     False       5   True  \n9      1993      True       4   True  \n...     ...       ...     ...    ...  \n41134  1993     False       5   True  \n41135  1993      True       4   True  \n41136  1993      True       4   True  \n41137  1993     False       5   True  \n41138  1993     False       5   True  \n41139  1993      True       4   True  \n41140  1993     False       5   True  \n41141  1993      True       4   True  \n41142  1993     False       5   True  \n41143  1993      True       4   True  \n\n[41144 rows x 17 columns]",
            "text/html": "<div>\n<style scoped>\n    .dataframe tbody tr th:only-of-type {\n        vertical-align: middle;\n    }\n\n    .dataframe tbody tr th {\n        vertical-align: top;\n    }\n\n    .dataframe thead th {\n        text-align: right;\n    }\n</style>\n<table border=\"1\" class=\"dataframe\">\n  <thead>\n    <tr style=\"text-align: right;\">\n      <th></th>\n      <th>city08</th>\n      <th>comb08</th>\n      <th>highway08</th>\n      <th>cylinders</th>\n      <th>displ</th>\n      <th>drive</th>\n      <th>eng_dscr</th>\n      <th>fuelCost08</th>\n      <th>make</th>\n      <th>model</th>\n      <th>trany</th>\n      <th>range</th>\n      <th>createdOn</th>\n      <th>year</th>\n      <th>automatic</th>\n      <th>speeds</th>\n      <th>ffs</th>\n    </tr>\n  </thead>\n  <tbody>\n    <tr>\n      <th>0</th>\n      <td>19</td>\n      <td>21</td>\n      <td>25</td>\n      <td>4</td>\n      <td>2.000000</td>\n      <td>Rear-Wheel Drive</td>\n      <td>(FFS)</td>\n      <td>2000</td>\n      <td>Alfa Romeo</td>\n      <td>Spider Veloce 2000</td>\n      <td>Manual 5-spd</td>\n      <td>0</td>\n      <td>2013-01-01 00:00:00-05:00</td>\n      <td>1985</td>\n      <td>False</td>\n      <td>5</td>\n      <td>True</td>\n    </tr>\n    <tr>\n      <th>1</th>\n      <td>9</td>\n      <td>11</td>\n      <td>14</td>\n      <td>12</td>\n      <td>4.898438</td>\n      <td>Rear-Wheel Drive</td>\n      <td>(GUZZLER)</td>\n      <td>3850</td>\n      <td>Ferrari</td>\n      <td>Testarossa</td>\n      <td>Manual 5-spd</td>\n      <td>0</td>\n      <td>2013-01-01 00:00:00-05:00</td>\n      <td>1985</td>\n      <td>False</td>\n      <td>5</td>\n      <td>False</td>\n    </tr>\n    <tr>\n      <th>2</th>\n      <td>23</td>\n      <td>27</td>\n      <td>33</td>\n      <td>4</td>\n      <td>2.199219</td>\n      <td>Front-Wheel Drive</td>\n      <td>(FFS)</td>\n      <td>1550</td>\n      <td>Dodge</td>\n      <td>Charger</td>\n      <td>Manual 5-spd</td>\n      <td>0</td>\n      <td>2013-01-01 00:00:00-05:00</td>\n      <td>1985</td>\n      <td>False</td>\n      <td>5</td>\n      <td>True</td>\n    </tr>\n    <tr>\n      <th>3</th>\n      <td>10</td>\n      <td>11</td>\n      <td>12</td>\n      <td>8</td>\n      <td>5.199219</td>\n      <td>Rear-Wheel Drive</td>\n      <td>NaN</td>\n      <td>3850</td>\n      <td>Dodge</td>\n      <td>B150/B250 Wagon 2WD</td>\n      <td>Automatic 3-spd</td>\n      <td>0</td>\n      <td>2013-01-01 00:00:00-05:00</td>\n      <td>1985</td>\n      <td>True</td>\n      <td>3</td>\n      <td>NaN</td>\n    </tr>\n    <tr>\n      <th>4</th>\n      <td>17</td>\n      <td>19</td>\n      <td>23</td>\n      <td>4</td>\n      <td>2.199219</td>\n      <td>4-Wheel or All-Wheel Drive</td>\n      <td>(FFS,TRBO)</td>\n      <td>2700</td>\n      <td>Subaru</td>\n      <td>Legacy AWD Turbo</td>\n      <td>Manual 5-spd</td>\n      <td>0</td>\n      <td>2013-01-01 00:00:00-05:00</td>\n      <td>1993</td>\n      <td>False</td>\n      <td>5</td>\n      <td>True</td>\n    </tr>\n    <tr>\n      <th>5</th>\n      <td>21</td>\n      <td>22</td>\n      <td>24</td>\n      <td>4</td>\n      <td>1.799805</td>\n      <td>Front-Wheel Drive</td>\n      <td>(FFS)</td>\n      <td>1900</td>\n      <td>Subaru</td>\n      <td>Loyale</td>\n      <td>Automatic 3-spd</td>\n      <td>0</td>\n      <td>2013-01-01 00:00:00-05:00</td>\n      <td>1993</td>\n      <td>True</td>\n      <td>3</td>\n      <td>True</td>\n    </tr>\n    <tr>\n      <th>6</th>\n      <td>22</td>\n      <td>25</td>\n      <td>29</td>\n      <td>4</td>\n      <td>1.799805</td>\n      <td>Front-Wheel Drive</td>\n      <td>(FFS)</td>\n      <td>1700</td>\n      <td>Subaru</td>\n      <td>Loyale</td>\n      <td>Manual 5-spd</td>\n      <td>0</td>\n      <td>2013-01-01 00:00:00-05:00</td>\n      <td>1993</td>\n      <td>False</td>\n      <td>5</td>\n      <td>True</td>\n    </tr>\n    <tr>\n      <th>7</th>\n      <td>23</td>\n      <td>24</td>\n      <td>26</td>\n      <td>4</td>\n      <td>1.599609</td>\n      <td>Front-Wheel Drive</td>\n      <td>(FFS)</td>\n      <td>1750</td>\n      <td>Toyota</td>\n      <td>Corolla</td>\n      <td>Automatic 3-spd</td>\n      <td>0</td>\n      <td>2013-01-01 00:00:00-05:00</td>\n      <td>1993</td>\n      <td>True</td>\n      <td>3</td>\n      <td>True</td>\n    </tr>\n    <tr>\n      <th>8</th>\n      <td>23</td>\n      <td>26</td>\n      <td>31</td>\n      <td>4</td>\n      <td>1.599609</td>\n      <td>Front-Wheel Drive</td>\n      <td>(FFS)</td>\n      <td>1600</td>\n      <td>Toyota</td>\n      <td>Corolla</td>\n      <td>Manual 5-spd</td>\n      <td>0</td>\n      <td>2013-01-01 00:00:00-05:00</td>\n      <td>1993</td>\n      <td>False</td>\n      <td>5</td>\n      <td>True</td>\n    </tr>\n    <tr>\n      <th>9</th>\n      <td>23</td>\n      <td>25</td>\n      <td>30</td>\n      <td>4</td>\n      <td>1.799805</td>\n      <td>Front-Wheel Drive</td>\n      <td>(FFS)</td>\n      <td>1700</td>\n      <td>Toyota</td>\n      <td>Corolla</td>\n      <td>Automatic 4-spd</td>\n      <td>0</td>\n      <td>2013-01-01 00:00:00-05:00</td>\n      <td>1993</td>\n      <td>True</td>\n      <td>4</td>\n      <td>True</td>\n    </tr>\n    <tr>\n      <th>...</th>\n      <td>...</td>\n      <td>...</td>\n      <td>...</td>\n      <td>...</td>\n      <td>...</td>\n      <td>...</td>\n      <td>...</td>\n      <td>...</td>\n      <td>...</td>\n      <td>...</td>\n      <td>...</td>\n      <td>...</td>\n      <td>...</td>\n      <td>...</td>\n      <td>...</td>\n      <td>...</td>\n      <td>...</td>\n    </tr>\n    <tr>\n      <th>41134</th>\n      <td>18</td>\n      <td>20</td>\n      <td>24</td>\n      <td>4</td>\n      <td>2.099609</td>\n      <td>Front-Wheel Drive</td>\n      <td>(FFS)</td>\n      <td>2100</td>\n      <td>Saab</td>\n      <td>900</td>\n      <td>Manual 5-spd</td>\n      <td>0</td>\n      <td>2013-01-01 00:00:00-05:00</td>\n      <td>1993</td>\n      <td>False</td>\n      <td>5</td>\n      <td>True</td>\n    </tr>\n    <tr>\n      <th>41135</th>\n      <td>23</td>\n      <td>26</td>\n      <td>33</td>\n      <td>4</td>\n      <td>1.900391</td>\n      <td>Front-Wheel Drive</td>\n      <td>(TBI)      (FFS)</td>\n      <td>1600</td>\n      <td>Saturn</td>\n      <td>SL</td>\n      <td>Automatic 4-spd</td>\n      <td>0</td>\n      <td>2013-01-01 00:00:00-05:00</td>\n      <td>1993</td>\n      <td>True</td>\n      <td>4</td>\n      <td>True</td>\n    </tr>\n    <tr>\n      <th>41136</th>\n      <td>21</td>\n      <td>24</td>\n      <td>30</td>\n      <td>4</td>\n      <td>1.900391</td>\n      <td>Front-Wheel Drive</td>\n      <td>(MFI)      (FFS)</td>\n      <td>1750</td>\n      <td>Saturn</td>\n      <td>SL</td>\n      <td>Automatic 4-spd</td>\n      <td>0</td>\n      <td>2013-01-01 00:00:00-05:00</td>\n      <td>1993</td>\n      <td>True</td>\n      <td>4</td>\n      <td>True</td>\n    </tr>\n    <tr>\n      <th>41137</th>\n      <td>24</td>\n      <td>28</td>\n      <td>33</td>\n      <td>4</td>\n      <td>1.900391</td>\n      <td>Front-Wheel Drive</td>\n      <td>(TBI)      (FFS)</td>\n      <td>1500</td>\n      <td>Saturn</td>\n      <td>SL</td>\n      <td>Manual 5-spd</td>\n      <td>0</td>\n      <td>2013-01-01 00:00:00-05:00</td>\n      <td>1993</td>\n      <td>False</td>\n      <td>5</td>\n      <td>True</td>\n    </tr>\n    <tr>\n      <th>41138</th>\n      <td>21</td>\n      <td>25</td>\n      <td>32</td>\n      <td>4</td>\n      <td>1.900391</td>\n      <td>Front-Wheel Drive</td>\n      <td>(MFI)      (FFS)</td>\n      <td>1700</td>\n      <td>Saturn</td>\n      <td>SL</td>\n      <td>Manual 5-spd</td>\n      <td>0</td>\n      <td>2013-01-01 00:00:00-05:00</td>\n      <td>1993</td>\n      <td>False</td>\n      <td>5</td>\n      <td>True</td>\n    </tr>\n    <tr>\n      <th>41139</th>\n      <td>19</td>\n      <td>22</td>\n      <td>26</td>\n      <td>4</td>\n      <td>2.199219</td>\n      <td>Front-Wheel Drive</td>\n      <td>(FFS)</td>\n      <td>1900</td>\n      <td>Subaru</td>\n      <td>Legacy</td>\n      <td>Automatic 4-spd</td>\n      <td>0</td>\n      <td>2013-01-01 00:00:00-05:00</td>\n      <td>1993</td>\n      <td>True</td>\n      <td>4</td>\n      <td>True</td>\n    </tr>\n    <tr>\n      <th>41140</th>\n      <td>20</td>\n      <td>23</td>\n      <td>28</td>\n      <td>4</td>\n      <td>2.199219</td>\n      <td>Front-Wheel Drive</td>\n      <td>(FFS)</td>\n      <td>1850</td>\n      <td>Subaru</td>\n      <td>Legacy</td>\n      <td>Manual 5-spd</td>\n      <td>0</td>\n      <td>2013-01-01 00:00:00-05:00</td>\n      <td>1993</td>\n      <td>False</td>\n      <td>5</td>\n      <td>True</td>\n    </tr>\n    <tr>\n      <th>41141</th>\n      <td>18</td>\n      <td>21</td>\n      <td>24</td>\n      <td>4</td>\n      <td>2.199219</td>\n      <td>4-Wheel or All-Wheel Drive</td>\n      <td>(FFS)</td>\n      <td>2000</td>\n      <td>Subaru</td>\n      <td>Legacy AWD</td>\n      <td>Automatic 4-spd</td>\n      <td>0</td>\n      <td>2013-01-01 00:00:00-05:00</td>\n      <td>1993</td>\n      <td>True</td>\n      <td>4</td>\n      <td>True</td>\n    </tr>\n    <tr>\n      <th>41142</th>\n      <td>18</td>\n      <td>21</td>\n      <td>24</td>\n      <td>4</td>\n      <td>2.199219</td>\n      <td>4-Wheel or All-Wheel Drive</td>\n      <td>(FFS)</td>\n      <td>2000</td>\n      <td>Subaru</td>\n      <td>Legacy AWD</td>\n      <td>Manual 5-spd</td>\n      <td>0</td>\n      <td>2013-01-01 00:00:00-05:00</td>\n      <td>1993</td>\n      <td>False</td>\n      <td>5</td>\n      <td>True</td>\n    </tr>\n    <tr>\n      <th>41143</th>\n      <td>16</td>\n      <td>18</td>\n      <td>21</td>\n      <td>4</td>\n      <td>2.199219</td>\n      <td>4-Wheel or All-Wheel Drive</td>\n      <td>(FFS,TRBO)</td>\n      <td>2900</td>\n      <td>Subaru</td>\n      <td>Legacy AWD Turbo</td>\n      <td>Automatic 4-spd</td>\n      <td>0</td>\n      <td>2013-01-01 00:00:00-05:00</td>\n      <td>1993</td>\n      <td>True</td>\n      <td>4</td>\n      <td>True</td>\n    </tr>\n  </tbody>\n</table>\n<p>41144 rows × 17 columns</p>\n</div>"
          },
          "metadata": {},
          "output_type": "display_data"
        },
        {
          "data": {
            "text/plain": "       city08  comb08  highway08  cylinders     displ  \\\n0          19      21         25          4  2.000000   \n1           9      11         14         12  4.898438   \n2          23      27         33          4  2.199219   \n3          10      11         12          8  5.199219   \n4          17      19         23          4  2.199219   \n5          21      22         24          4  1.799805   \n6          22      25         29          4  1.799805   \n7          23      24         26          4  1.599609   \n8          23      26         31          4  1.599609   \n9          23      25         30          4  1.799805   \n...       ...     ...        ...        ...       ...   \n41134      18      20         24          4  2.099609   \n41135      23      26         33          4  1.900391   \n41136      21      24         30          4  1.900391   \n41137      24      28         33          4  1.900391   \n41138      21      25         32          4  1.900391   \n41139      19      22         26          4  2.199219   \n41140      20      23         28          4  2.199219   \n41141      18      21         24          4  2.199219   \n41142      18      21         24          4  2.199219   \n41143      16      18         21          4  2.199219   \n\n                            drive  fuelCost08        make  \\\n0                Rear-Wheel Drive        2000  Alfa Romeo   \n1                Rear-Wheel Drive        3850     Ferrari   \n2               Front-Wheel Drive        1550       Dodge   \n3                Rear-Wheel Drive        3850       Dodge   \n4      4-Wheel or All-Wheel Drive        2700      Subaru   \n5               Front-Wheel Drive        1900      Subaru   \n6               Front-Wheel Drive        1700      Subaru   \n7               Front-Wheel Drive        1750      Toyota   \n8               Front-Wheel Drive        1600      Toyota   \n9               Front-Wheel Drive        1700      Toyota   \n...                           ...         ...         ...   \n41134           Front-Wheel Drive        2100        Saab   \n41135           Front-Wheel Drive        1600      Saturn   \n41136           Front-Wheel Drive        1750      Saturn   \n41137           Front-Wheel Drive        1500      Saturn   \n41138           Front-Wheel Drive        1700      Saturn   \n41139           Front-Wheel Drive        1900      Subaru   \n41140           Front-Wheel Drive        1850      Subaru   \n41141  4-Wheel or All-Wheel Drive        2000      Subaru   \n41142  4-Wheel or All-Wheel Drive        2000      Subaru   \n41143  4-Wheel or All-Wheel Drive        2900      Subaru   \n\n                     model  range                 createdOn  year automatic  \\\n0       Spider Veloce 2000      0 2013-01-01 00:00:00-05:00  1985     False   \n1               Testarossa      0 2013-01-01 00:00:00-05:00  1985     False   \n2                  Charger      0 2013-01-01 00:00:00-05:00  1985     False   \n3      B150/B250 Wagon 2WD      0 2013-01-01 00:00:00-05:00  1985      True   \n4         Legacy AWD Turbo      0 2013-01-01 00:00:00-05:00  1993     False   \n5                   Loyale      0 2013-01-01 00:00:00-05:00  1993      True   \n6                   Loyale      0 2013-01-01 00:00:00-05:00  1993     False   \n7                  Corolla      0 2013-01-01 00:00:00-05:00  1993      True   \n8                  Corolla      0 2013-01-01 00:00:00-05:00  1993     False   \n9                  Corolla      0 2013-01-01 00:00:00-05:00  1993      True   \n...                    ...    ...                       ...   ...       ...   \n41134                  900      0 2013-01-01 00:00:00-05:00  1993     False   \n41135                   SL      0 2013-01-01 00:00:00-05:00  1993      True   \n41136                   SL      0 2013-01-01 00:00:00-05:00  1993      True   \n41137                   SL      0 2013-01-01 00:00:00-05:00  1993     False   \n41138                   SL      0 2013-01-01 00:00:00-05:00  1993     False   \n41139               Legacy      0 2013-01-01 00:00:00-05:00  1993      True   \n41140               Legacy      0 2013-01-01 00:00:00-05:00  1993     False   \n41141           Legacy AWD      0 2013-01-01 00:00:00-05:00  1993      True   \n41142           Legacy AWD      0 2013-01-01 00:00:00-05:00  1993     False   \n41143     Legacy AWD Turbo      0 2013-01-01 00:00:00-05:00  1993      True   \n\n       speeds    ffs  \n0           5   True  \n1           5  False  \n2           5   True  \n3           3    NaN  \n4           5   True  \n5           3   True  \n6           5   True  \n7           3   True  \n8           5   True  \n9           4   True  \n...       ...    ...  \n41134       5   True  \n41135       4   True  \n41136       4   True  \n41137       5   True  \n41138       5   True  \n41139       4   True  \n41140       5   True  \n41141       4   True  \n41142       5   True  \n41143       4   True  \n\n[41144 rows x 15 columns]",
            "text/html": "<div>\n<style scoped>\n    .dataframe tbody tr th:only-of-type {\n        vertical-align: middle;\n    }\n\n    .dataframe tbody tr th {\n        vertical-align: top;\n    }\n\n    .dataframe thead th {\n        text-align: right;\n    }\n</style>\n<table border=\"1\" class=\"dataframe\">\n  <thead>\n    <tr style=\"text-align: right;\">\n      <th></th>\n      <th>city08</th>\n      <th>comb08</th>\n      <th>highway08</th>\n      <th>cylinders</th>\n      <th>displ</th>\n      <th>drive</th>\n      <th>fuelCost08</th>\n      <th>make</th>\n      <th>model</th>\n      <th>range</th>\n      <th>createdOn</th>\n      <th>year</th>\n      <th>automatic</th>\n      <th>speeds</th>\n      <th>ffs</th>\n    </tr>\n  </thead>\n  <tbody>\n    <tr>\n      <th>0</th>\n      <td>19</td>\n      <td>21</td>\n      <td>25</td>\n      <td>4</td>\n      <td>2.000000</td>\n      <td>Rear-Wheel Drive</td>\n      <td>2000</td>\n      <td>Alfa Romeo</td>\n      <td>Spider Veloce 2000</td>\n      <td>0</td>\n      <td>2013-01-01 00:00:00-05:00</td>\n      <td>1985</td>\n      <td>False</td>\n      <td>5</td>\n      <td>True</td>\n    </tr>\n    <tr>\n      <th>1</th>\n      <td>9</td>\n      <td>11</td>\n      <td>14</td>\n      <td>12</td>\n      <td>4.898438</td>\n      <td>Rear-Wheel Drive</td>\n      <td>3850</td>\n      <td>Ferrari</td>\n      <td>Testarossa</td>\n      <td>0</td>\n      <td>2013-01-01 00:00:00-05:00</td>\n      <td>1985</td>\n      <td>False</td>\n      <td>5</td>\n      <td>False</td>\n    </tr>\n    <tr>\n      <th>2</th>\n      <td>23</td>\n      <td>27</td>\n      <td>33</td>\n      <td>4</td>\n      <td>2.199219</td>\n      <td>Front-Wheel Drive</td>\n      <td>1550</td>\n      <td>Dodge</td>\n      <td>Charger</td>\n      <td>0</td>\n      <td>2013-01-01 00:00:00-05:00</td>\n      <td>1985</td>\n      <td>False</td>\n      <td>5</td>\n      <td>True</td>\n    </tr>\n    <tr>\n      <th>3</th>\n      <td>10</td>\n      <td>11</td>\n      <td>12</td>\n      <td>8</td>\n      <td>5.199219</td>\n      <td>Rear-Wheel Drive</td>\n      <td>3850</td>\n      <td>Dodge</td>\n      <td>B150/B250 Wagon 2WD</td>\n      <td>0</td>\n      <td>2013-01-01 00:00:00-05:00</td>\n      <td>1985</td>\n      <td>True</td>\n      <td>3</td>\n      <td>NaN</td>\n    </tr>\n    <tr>\n      <th>4</th>\n      <td>17</td>\n      <td>19</td>\n      <td>23</td>\n      <td>4</td>\n      <td>2.199219</td>\n      <td>4-Wheel or All-Wheel Drive</td>\n      <td>2700</td>\n      <td>Subaru</td>\n      <td>Legacy AWD Turbo</td>\n      <td>0</td>\n      <td>2013-01-01 00:00:00-05:00</td>\n      <td>1993</td>\n      <td>False</td>\n      <td>5</td>\n      <td>True</td>\n    </tr>\n    <tr>\n      <th>5</th>\n      <td>21</td>\n      <td>22</td>\n      <td>24</td>\n      <td>4</td>\n      <td>1.799805</td>\n      <td>Front-Wheel Drive</td>\n      <td>1900</td>\n      <td>Subaru</td>\n      <td>Loyale</td>\n      <td>0</td>\n      <td>2013-01-01 00:00:00-05:00</td>\n      <td>1993</td>\n      <td>True</td>\n      <td>3</td>\n      <td>True</td>\n    </tr>\n    <tr>\n      <th>6</th>\n      <td>22</td>\n      <td>25</td>\n      <td>29</td>\n      <td>4</td>\n      <td>1.799805</td>\n      <td>Front-Wheel Drive</td>\n      <td>1700</td>\n      <td>Subaru</td>\n      <td>Loyale</td>\n      <td>0</td>\n      <td>2013-01-01 00:00:00-05:00</td>\n      <td>1993</td>\n      <td>False</td>\n      <td>5</td>\n      <td>True</td>\n    </tr>\n    <tr>\n      <th>7</th>\n      <td>23</td>\n      <td>24</td>\n      <td>26</td>\n      <td>4</td>\n      <td>1.599609</td>\n      <td>Front-Wheel Drive</td>\n      <td>1750</td>\n      <td>Toyota</td>\n      <td>Corolla</td>\n      <td>0</td>\n      <td>2013-01-01 00:00:00-05:00</td>\n      <td>1993</td>\n      <td>True</td>\n      <td>3</td>\n      <td>True</td>\n    </tr>\n    <tr>\n      <th>8</th>\n      <td>23</td>\n      <td>26</td>\n      <td>31</td>\n      <td>4</td>\n      <td>1.599609</td>\n      <td>Front-Wheel Drive</td>\n      <td>1600</td>\n      <td>Toyota</td>\n      <td>Corolla</td>\n      <td>0</td>\n      <td>2013-01-01 00:00:00-05:00</td>\n      <td>1993</td>\n      <td>False</td>\n      <td>5</td>\n      <td>True</td>\n    </tr>\n    <tr>\n      <th>9</th>\n      <td>23</td>\n      <td>25</td>\n      <td>30</td>\n      <td>4</td>\n      <td>1.799805</td>\n      <td>Front-Wheel Drive</td>\n      <td>1700</td>\n      <td>Toyota</td>\n      <td>Corolla</td>\n      <td>0</td>\n      <td>2013-01-01 00:00:00-05:00</td>\n      <td>1993</td>\n      <td>True</td>\n      <td>4</td>\n      <td>True</td>\n    </tr>\n    <tr>\n      <th>...</th>\n      <td>...</td>\n      <td>...</td>\n      <td>...</td>\n      <td>...</td>\n      <td>...</td>\n      <td>...</td>\n      <td>...</td>\n      <td>...</td>\n      <td>...</td>\n      <td>...</td>\n      <td>...</td>\n      <td>...</td>\n      <td>...</td>\n      <td>...</td>\n      <td>...</td>\n    </tr>\n    <tr>\n      <th>41134</th>\n      <td>18</td>\n      <td>20</td>\n      <td>24</td>\n      <td>4</td>\n      <td>2.099609</td>\n      <td>Front-Wheel Drive</td>\n      <td>2100</td>\n      <td>Saab</td>\n      <td>900</td>\n      <td>0</td>\n      <td>2013-01-01 00:00:00-05:00</td>\n      <td>1993</td>\n      <td>False</td>\n      <td>5</td>\n      <td>True</td>\n    </tr>\n    <tr>\n      <th>41135</th>\n      <td>23</td>\n      <td>26</td>\n      <td>33</td>\n      <td>4</td>\n      <td>1.900391</td>\n      <td>Front-Wheel Drive</td>\n      <td>1600</td>\n      <td>Saturn</td>\n      <td>SL</td>\n      <td>0</td>\n      <td>2013-01-01 00:00:00-05:00</td>\n      <td>1993</td>\n      <td>True</td>\n      <td>4</td>\n      <td>True</td>\n    </tr>\n    <tr>\n      <th>41136</th>\n      <td>21</td>\n      <td>24</td>\n      <td>30</td>\n      <td>4</td>\n      <td>1.900391</td>\n      <td>Front-Wheel Drive</td>\n      <td>1750</td>\n      <td>Saturn</td>\n      <td>SL</td>\n      <td>0</td>\n      <td>2013-01-01 00:00:00-05:00</td>\n      <td>1993</td>\n      <td>True</td>\n      <td>4</td>\n      <td>True</td>\n    </tr>\n    <tr>\n      <th>41137</th>\n      <td>24</td>\n      <td>28</td>\n      <td>33</td>\n      <td>4</td>\n      <td>1.900391</td>\n      <td>Front-Wheel Drive</td>\n      <td>1500</td>\n      <td>Saturn</td>\n      <td>SL</td>\n      <td>0</td>\n      <td>2013-01-01 00:00:00-05:00</td>\n      <td>1993</td>\n      <td>False</td>\n      <td>5</td>\n      <td>True</td>\n    </tr>\n    <tr>\n      <th>41138</th>\n      <td>21</td>\n      <td>25</td>\n      <td>32</td>\n      <td>4</td>\n      <td>1.900391</td>\n      <td>Front-Wheel Drive</td>\n      <td>1700</td>\n      <td>Saturn</td>\n      <td>SL</td>\n      <td>0</td>\n      <td>2013-01-01 00:00:00-05:00</td>\n      <td>1993</td>\n      <td>False</td>\n      <td>5</td>\n      <td>True</td>\n    </tr>\n    <tr>\n      <th>41139</th>\n      <td>19</td>\n      <td>22</td>\n      <td>26</td>\n      <td>4</td>\n      <td>2.199219</td>\n      <td>Front-Wheel Drive</td>\n      <td>1900</td>\n      <td>Subaru</td>\n      <td>Legacy</td>\n      <td>0</td>\n      <td>2013-01-01 00:00:00-05:00</td>\n      <td>1993</td>\n      <td>True</td>\n      <td>4</td>\n      <td>True</td>\n    </tr>\n    <tr>\n      <th>41140</th>\n      <td>20</td>\n      <td>23</td>\n      <td>28</td>\n      <td>4</td>\n      <td>2.199219</td>\n      <td>Front-Wheel Drive</td>\n      <td>1850</td>\n      <td>Subaru</td>\n      <td>Legacy</td>\n      <td>0</td>\n      <td>2013-01-01 00:00:00-05:00</td>\n      <td>1993</td>\n      <td>False</td>\n      <td>5</td>\n      <td>True</td>\n    </tr>\n    <tr>\n      <th>41141</th>\n      <td>18</td>\n      <td>21</td>\n      <td>24</td>\n      <td>4</td>\n      <td>2.199219</td>\n      <td>4-Wheel or All-Wheel Drive</td>\n      <td>2000</td>\n      <td>Subaru</td>\n      <td>Legacy AWD</td>\n      <td>0</td>\n      <td>2013-01-01 00:00:00-05:00</td>\n      <td>1993</td>\n      <td>True</td>\n      <td>4</td>\n      <td>True</td>\n    </tr>\n    <tr>\n      <th>41142</th>\n      <td>18</td>\n      <td>21</td>\n      <td>24</td>\n      <td>4</td>\n      <td>2.199219</td>\n      <td>4-Wheel or All-Wheel Drive</td>\n      <td>2000</td>\n      <td>Subaru</td>\n      <td>Legacy AWD</td>\n      <td>0</td>\n      <td>2013-01-01 00:00:00-05:00</td>\n      <td>1993</td>\n      <td>False</td>\n      <td>5</td>\n      <td>True</td>\n    </tr>\n    <tr>\n      <th>41143</th>\n      <td>16</td>\n      <td>18</td>\n      <td>21</td>\n      <td>4</td>\n      <td>2.199219</td>\n      <td>4-Wheel or All-Wheel Drive</td>\n      <td>2900</td>\n      <td>Subaru</td>\n      <td>Legacy AWD Turbo</td>\n      <td>0</td>\n      <td>2013-01-01 00:00:00-05:00</td>\n      <td>1993</td>\n      <td>True</td>\n      <td>4</td>\n      <td>True</td>\n    </tr>\n  </tbody>\n</table>\n<p>41144 rows × 15 columns</p>\n</div>"
          },
          "execution_count": 39,
          "metadata": {},
          "output_type": "execute_result"
        }
      ],
      "source": [
        "# easy to debug\n",
        "#  - assign to var (df3)\n",
        "#  - comment out\n",
        "#  - pipe to display\n",
        "\n",
        "\n",
        "from IPython.display import display\n",
        "\n",
        "def get_var(df, var_name):\n",
        "    globals()[var_name] = df\n",
        "    return df\n",
        "\n",
        "def tweak_autos(autos):\n",
        "    return (autos\n",
        "     [cols]\n",
        "      # create var                        \n",
        "     .pipe(get_var, 'df3')\n",
        "     .assign(cylinders=autos.cylinders.fillna(0).astype('int8'),\n",
        "             displ=autos.displ.fillna(0).astype('float16'),\n",
        "             drive=autos.drive.fillna('Other').astype('category'),\n",
        "             automatic=autos.trany.str.contains('Auto'),\n",
        "             speeds=autos.trany.str.extract(r'(\\d)+').fillna('20').astype('int8'),        \n",
        "             createdOn=pd.to_datetime(autos.createdOn.replace({' EDT': '-04:00',\n",
        "                ' EST': '-05:00'}, regex=True), utc=True).dt.tz_convert('America/New_York'),\n",
        "             ffs=autos.eng_dscr.str.contains('FFS')\n",
        "            )\n",
        "     # debug pipe            \n",
        "     .pipe(lambda df: display(df) or df)\n",
        "     .astype({'highway08': 'int8', 'city08': 'int16', 'comb08': 'int16', 'fuelCost08': 'int16', \n",
        "              'range': 'int16', 'year': 'int16', 'make': 'category'})\n",
        "     .drop(columns=['trany', 'eng_dscr'])\n",
        "    )\n",
        "\n",
        "tweak_autos(autos)"
      ]
    },
    {
      "cell_type": "code",
      "execution_count": null,
      "metadata": {
        "scrolled": true,
        "pycharm": {
          "name": "#%%\n"
        },
        "id": "vU4ShFLhHN65",
        "outputId": "f06633b4-a590-4b15-e123-534e6eb5c425"
      },
      "outputs": [
        {
          "data": {
            "text/plain": "       city08  comb08  highway08  cylinders  displ  \\\n0          19      21         25        4.0    2.0   \n1           9      11         14       12.0    4.9   \n2          23      27         33        4.0    2.2   \n3          10      11         12        8.0    5.2   \n4          17      19         23        4.0    2.2   \n5          21      22         24        4.0    1.8   \n6          22      25         29        4.0    1.8   \n7          23      24         26        4.0    1.6   \n8          23      26         31        4.0    1.6   \n9          23      25         30        4.0    1.8   \n...       ...     ...        ...        ...    ...   \n41134      18      20         24        4.0    2.1   \n41135      23      26         33        4.0    1.9   \n41136      21      24         30        4.0    1.9   \n41137      24      28         33        4.0    1.9   \n41138      21      25         32        4.0    1.9   \n41139      19      22         26        4.0    2.2   \n41140      20      23         28        4.0    2.2   \n41141      18      21         24        4.0    2.2   \n41142      18      21         24        4.0    2.2   \n41143      16      18         21        4.0    2.2   \n\n                            drive          eng_dscr  fuelCost08        make  \\\n0                Rear-Wheel Drive             (FFS)        2000  Alfa Romeo   \n1                Rear-Wheel Drive         (GUZZLER)        3850     Ferrari   \n2               Front-Wheel Drive             (FFS)        1550       Dodge   \n3                Rear-Wheel Drive               NaN        3850       Dodge   \n4      4-Wheel or All-Wheel Drive        (FFS,TRBO)        2700      Subaru   \n5               Front-Wheel Drive             (FFS)        1900      Subaru   \n6               Front-Wheel Drive             (FFS)        1700      Subaru   \n7               Front-Wheel Drive             (FFS)        1750      Toyota   \n8               Front-Wheel Drive             (FFS)        1600      Toyota   \n9               Front-Wheel Drive             (FFS)        1700      Toyota   \n...                           ...               ...         ...         ...   \n41134           Front-Wheel Drive             (FFS)        2100        Saab   \n41135           Front-Wheel Drive  (TBI)      (FFS)        1600      Saturn   \n41136           Front-Wheel Drive  (MFI)      (FFS)        1750      Saturn   \n41137           Front-Wheel Drive  (TBI)      (FFS)        1500      Saturn   \n41138           Front-Wheel Drive  (MFI)      (FFS)        1700      Saturn   \n41139           Front-Wheel Drive             (FFS)        1900      Subaru   \n41140           Front-Wheel Drive             (FFS)        1850      Subaru   \n41141  4-Wheel or All-Wheel Drive             (FFS)        2000      Subaru   \n41142  4-Wheel or All-Wheel Drive             (FFS)        2000      Subaru   \n41143  4-Wheel or All-Wheel Drive        (FFS,TRBO)        2900      Subaru   \n\n                     model            trany  range  \\\n0       Spider Veloce 2000     Manual 5-spd      0   \n1               Testarossa     Manual 5-spd      0   \n2                  Charger     Manual 5-spd      0   \n3      B150/B250 Wagon 2WD  Automatic 3-spd      0   \n4         Legacy AWD Turbo     Manual 5-spd      0   \n5                   Loyale  Automatic 3-spd      0   \n6                   Loyale     Manual 5-spd      0   \n7                  Corolla  Automatic 3-spd      0   \n8                  Corolla     Manual 5-spd      0   \n9                  Corolla  Automatic 4-spd      0   \n...                    ...              ...    ...   \n41134                  900     Manual 5-spd      0   \n41135                   SL  Automatic 4-spd      0   \n41136                   SL  Automatic 4-spd      0   \n41137                   SL     Manual 5-spd      0   \n41138                   SL     Manual 5-spd      0   \n41139               Legacy  Automatic 4-spd      0   \n41140               Legacy     Manual 5-spd      0   \n41141           Legacy AWD  Automatic 4-spd      0   \n41142           Legacy AWD     Manual 5-spd      0   \n41143     Legacy AWD Turbo  Automatic 4-spd      0   \n\n                          createdOn  year  \n0      Tue Jan 01 00:00:00 EST 2013  1985  \n1      Tue Jan 01 00:00:00 EST 2013  1985  \n2      Tue Jan 01 00:00:00 EST 2013  1985  \n3      Tue Jan 01 00:00:00 EST 2013  1985  \n4      Tue Jan 01 00:00:00 EST 2013  1993  \n5      Tue Jan 01 00:00:00 EST 2013  1993  \n6      Tue Jan 01 00:00:00 EST 2013  1993  \n7      Tue Jan 01 00:00:00 EST 2013  1993  \n8      Tue Jan 01 00:00:00 EST 2013  1993  \n9      Tue Jan 01 00:00:00 EST 2013  1993  \n...                             ...   ...  \n41134  Tue Jan 01 00:00:00 EST 2013  1993  \n41135  Tue Jan 01 00:00:00 EST 2013  1993  \n41136  Tue Jan 01 00:00:00 EST 2013  1993  \n41137  Tue Jan 01 00:00:00 EST 2013  1993  \n41138  Tue Jan 01 00:00:00 EST 2013  1993  \n41139  Tue Jan 01 00:00:00 EST 2013  1993  \n41140  Tue Jan 01 00:00:00 EST 2013  1993  \n41141  Tue Jan 01 00:00:00 EST 2013  1993  \n41142  Tue Jan 01 00:00:00 EST 2013  1993  \n41143  Tue Jan 01 00:00:00 EST 2013  1993  \n\n[41144 rows x 14 columns]",
            "text/html": "<div>\n<style scoped>\n    .dataframe tbody tr th:only-of-type {\n        vertical-align: middle;\n    }\n\n    .dataframe tbody tr th {\n        vertical-align: top;\n    }\n\n    .dataframe thead th {\n        text-align: right;\n    }\n</style>\n<table border=\"1\" class=\"dataframe\">\n  <thead>\n    <tr style=\"text-align: right;\">\n      <th></th>\n      <th>city08</th>\n      <th>comb08</th>\n      <th>highway08</th>\n      <th>cylinders</th>\n      <th>displ</th>\n      <th>drive</th>\n      <th>eng_dscr</th>\n      <th>fuelCost08</th>\n      <th>make</th>\n      <th>model</th>\n      <th>trany</th>\n      <th>range</th>\n      <th>createdOn</th>\n      <th>year</th>\n    </tr>\n  </thead>\n  <tbody>\n    <tr>\n      <th>0</th>\n      <td>19</td>\n      <td>21</td>\n      <td>25</td>\n      <td>4.0</td>\n      <td>2.0</td>\n      <td>Rear-Wheel Drive</td>\n      <td>(FFS)</td>\n      <td>2000</td>\n      <td>Alfa Romeo</td>\n      <td>Spider Veloce 2000</td>\n      <td>Manual 5-spd</td>\n      <td>0</td>\n      <td>Tue Jan 01 00:00:00 EST 2013</td>\n      <td>1985</td>\n    </tr>\n    <tr>\n      <th>1</th>\n      <td>9</td>\n      <td>11</td>\n      <td>14</td>\n      <td>12.0</td>\n      <td>4.9</td>\n      <td>Rear-Wheel Drive</td>\n      <td>(GUZZLER)</td>\n      <td>3850</td>\n      <td>Ferrari</td>\n      <td>Testarossa</td>\n      <td>Manual 5-spd</td>\n      <td>0</td>\n      <td>Tue Jan 01 00:00:00 EST 2013</td>\n      <td>1985</td>\n    </tr>\n    <tr>\n      <th>2</th>\n      <td>23</td>\n      <td>27</td>\n      <td>33</td>\n      <td>4.0</td>\n      <td>2.2</td>\n      <td>Front-Wheel Drive</td>\n      <td>(FFS)</td>\n      <td>1550</td>\n      <td>Dodge</td>\n      <td>Charger</td>\n      <td>Manual 5-spd</td>\n      <td>0</td>\n      <td>Tue Jan 01 00:00:00 EST 2013</td>\n      <td>1985</td>\n    </tr>\n    <tr>\n      <th>3</th>\n      <td>10</td>\n      <td>11</td>\n      <td>12</td>\n      <td>8.0</td>\n      <td>5.2</td>\n      <td>Rear-Wheel Drive</td>\n      <td>NaN</td>\n      <td>3850</td>\n      <td>Dodge</td>\n      <td>B150/B250 Wagon 2WD</td>\n      <td>Automatic 3-spd</td>\n      <td>0</td>\n      <td>Tue Jan 01 00:00:00 EST 2013</td>\n      <td>1985</td>\n    </tr>\n    <tr>\n      <th>4</th>\n      <td>17</td>\n      <td>19</td>\n      <td>23</td>\n      <td>4.0</td>\n      <td>2.2</td>\n      <td>4-Wheel or All-Wheel Drive</td>\n      <td>(FFS,TRBO)</td>\n      <td>2700</td>\n      <td>Subaru</td>\n      <td>Legacy AWD Turbo</td>\n      <td>Manual 5-spd</td>\n      <td>0</td>\n      <td>Tue Jan 01 00:00:00 EST 2013</td>\n      <td>1993</td>\n    </tr>\n    <tr>\n      <th>5</th>\n      <td>21</td>\n      <td>22</td>\n      <td>24</td>\n      <td>4.0</td>\n      <td>1.8</td>\n      <td>Front-Wheel Drive</td>\n      <td>(FFS)</td>\n      <td>1900</td>\n      <td>Subaru</td>\n      <td>Loyale</td>\n      <td>Automatic 3-spd</td>\n      <td>0</td>\n      <td>Tue Jan 01 00:00:00 EST 2013</td>\n      <td>1993</td>\n    </tr>\n    <tr>\n      <th>6</th>\n      <td>22</td>\n      <td>25</td>\n      <td>29</td>\n      <td>4.0</td>\n      <td>1.8</td>\n      <td>Front-Wheel Drive</td>\n      <td>(FFS)</td>\n      <td>1700</td>\n      <td>Subaru</td>\n      <td>Loyale</td>\n      <td>Manual 5-spd</td>\n      <td>0</td>\n      <td>Tue Jan 01 00:00:00 EST 2013</td>\n      <td>1993</td>\n    </tr>\n    <tr>\n      <th>7</th>\n      <td>23</td>\n      <td>24</td>\n      <td>26</td>\n      <td>4.0</td>\n      <td>1.6</td>\n      <td>Front-Wheel Drive</td>\n      <td>(FFS)</td>\n      <td>1750</td>\n      <td>Toyota</td>\n      <td>Corolla</td>\n      <td>Automatic 3-spd</td>\n      <td>0</td>\n      <td>Tue Jan 01 00:00:00 EST 2013</td>\n      <td>1993</td>\n    </tr>\n    <tr>\n      <th>8</th>\n      <td>23</td>\n      <td>26</td>\n      <td>31</td>\n      <td>4.0</td>\n      <td>1.6</td>\n      <td>Front-Wheel Drive</td>\n      <td>(FFS)</td>\n      <td>1600</td>\n      <td>Toyota</td>\n      <td>Corolla</td>\n      <td>Manual 5-spd</td>\n      <td>0</td>\n      <td>Tue Jan 01 00:00:00 EST 2013</td>\n      <td>1993</td>\n    </tr>\n    <tr>\n      <th>9</th>\n      <td>23</td>\n      <td>25</td>\n      <td>30</td>\n      <td>4.0</td>\n      <td>1.8</td>\n      <td>Front-Wheel Drive</td>\n      <td>(FFS)</td>\n      <td>1700</td>\n      <td>Toyota</td>\n      <td>Corolla</td>\n      <td>Automatic 4-spd</td>\n      <td>0</td>\n      <td>Tue Jan 01 00:00:00 EST 2013</td>\n      <td>1993</td>\n    </tr>\n    <tr>\n      <th>...</th>\n      <td>...</td>\n      <td>...</td>\n      <td>...</td>\n      <td>...</td>\n      <td>...</td>\n      <td>...</td>\n      <td>...</td>\n      <td>...</td>\n      <td>...</td>\n      <td>...</td>\n      <td>...</td>\n      <td>...</td>\n      <td>...</td>\n      <td>...</td>\n    </tr>\n    <tr>\n      <th>41134</th>\n      <td>18</td>\n      <td>20</td>\n      <td>24</td>\n      <td>4.0</td>\n      <td>2.1</td>\n      <td>Front-Wheel Drive</td>\n      <td>(FFS)</td>\n      <td>2100</td>\n      <td>Saab</td>\n      <td>900</td>\n      <td>Manual 5-spd</td>\n      <td>0</td>\n      <td>Tue Jan 01 00:00:00 EST 2013</td>\n      <td>1993</td>\n    </tr>\n    <tr>\n      <th>41135</th>\n      <td>23</td>\n      <td>26</td>\n      <td>33</td>\n      <td>4.0</td>\n      <td>1.9</td>\n      <td>Front-Wheel Drive</td>\n      <td>(TBI)      (FFS)</td>\n      <td>1600</td>\n      <td>Saturn</td>\n      <td>SL</td>\n      <td>Automatic 4-spd</td>\n      <td>0</td>\n      <td>Tue Jan 01 00:00:00 EST 2013</td>\n      <td>1993</td>\n    </tr>\n    <tr>\n      <th>41136</th>\n      <td>21</td>\n      <td>24</td>\n      <td>30</td>\n      <td>4.0</td>\n      <td>1.9</td>\n      <td>Front-Wheel Drive</td>\n      <td>(MFI)      (FFS)</td>\n      <td>1750</td>\n      <td>Saturn</td>\n      <td>SL</td>\n      <td>Automatic 4-spd</td>\n      <td>0</td>\n      <td>Tue Jan 01 00:00:00 EST 2013</td>\n      <td>1993</td>\n    </tr>\n    <tr>\n      <th>41137</th>\n      <td>24</td>\n      <td>28</td>\n      <td>33</td>\n      <td>4.0</td>\n      <td>1.9</td>\n      <td>Front-Wheel Drive</td>\n      <td>(TBI)      (FFS)</td>\n      <td>1500</td>\n      <td>Saturn</td>\n      <td>SL</td>\n      <td>Manual 5-spd</td>\n      <td>0</td>\n      <td>Tue Jan 01 00:00:00 EST 2013</td>\n      <td>1993</td>\n    </tr>\n    <tr>\n      <th>41138</th>\n      <td>21</td>\n      <td>25</td>\n      <td>32</td>\n      <td>4.0</td>\n      <td>1.9</td>\n      <td>Front-Wheel Drive</td>\n      <td>(MFI)      (FFS)</td>\n      <td>1700</td>\n      <td>Saturn</td>\n      <td>SL</td>\n      <td>Manual 5-spd</td>\n      <td>0</td>\n      <td>Tue Jan 01 00:00:00 EST 2013</td>\n      <td>1993</td>\n    </tr>\n    <tr>\n      <th>41139</th>\n      <td>19</td>\n      <td>22</td>\n      <td>26</td>\n      <td>4.0</td>\n      <td>2.2</td>\n      <td>Front-Wheel Drive</td>\n      <td>(FFS)</td>\n      <td>1900</td>\n      <td>Subaru</td>\n      <td>Legacy</td>\n      <td>Automatic 4-spd</td>\n      <td>0</td>\n      <td>Tue Jan 01 00:00:00 EST 2013</td>\n      <td>1993</td>\n    </tr>\n    <tr>\n      <th>41140</th>\n      <td>20</td>\n      <td>23</td>\n      <td>28</td>\n      <td>4.0</td>\n      <td>2.2</td>\n      <td>Front-Wheel Drive</td>\n      <td>(FFS)</td>\n      <td>1850</td>\n      <td>Subaru</td>\n      <td>Legacy</td>\n      <td>Manual 5-spd</td>\n      <td>0</td>\n      <td>Tue Jan 01 00:00:00 EST 2013</td>\n      <td>1993</td>\n    </tr>\n    <tr>\n      <th>41141</th>\n      <td>18</td>\n      <td>21</td>\n      <td>24</td>\n      <td>4.0</td>\n      <td>2.2</td>\n      <td>4-Wheel or All-Wheel Drive</td>\n      <td>(FFS)</td>\n      <td>2000</td>\n      <td>Subaru</td>\n      <td>Legacy AWD</td>\n      <td>Automatic 4-spd</td>\n      <td>0</td>\n      <td>Tue Jan 01 00:00:00 EST 2013</td>\n      <td>1993</td>\n    </tr>\n    <tr>\n      <th>41142</th>\n      <td>18</td>\n      <td>21</td>\n      <td>24</td>\n      <td>4.0</td>\n      <td>2.2</td>\n      <td>4-Wheel or All-Wheel Drive</td>\n      <td>(FFS)</td>\n      <td>2000</td>\n      <td>Subaru</td>\n      <td>Legacy AWD</td>\n      <td>Manual 5-spd</td>\n      <td>0</td>\n      <td>Tue Jan 01 00:00:00 EST 2013</td>\n      <td>1993</td>\n    </tr>\n    <tr>\n      <th>41143</th>\n      <td>16</td>\n      <td>18</td>\n      <td>21</td>\n      <td>4.0</td>\n      <td>2.2</td>\n      <td>4-Wheel or All-Wheel Drive</td>\n      <td>(FFS,TRBO)</td>\n      <td>2900</td>\n      <td>Subaru</td>\n      <td>Legacy AWD Turbo</td>\n      <td>Automatic 4-spd</td>\n      <td>0</td>\n      <td>Tue Jan 01 00:00:00 EST 2013</td>\n      <td>1993</td>\n    </tr>\n  </tbody>\n</table>\n<p>41144 rows × 14 columns</p>\n</div>"
          },
          "execution_count": 40,
          "metadata": {},
          "output_type": "execute_result"
        }
      ],
      "source": [
        "# inspect intermediate data frame\n",
        "df3"
      ]
    },
    {
      "cell_type": "code",
      "execution_count": null,
      "metadata": {
        "pycharm": {
          "name": "#%%\n"
        },
        "id": "A_8MGWTEHN65"
      },
      "outputs": [],
      "source": []
    },
    {
      "cell_type": "code",
      "execution_count": null,
      "metadata": {
        "pycharm": {
          "name": "#%%\n"
        },
        "id": "ujzSrYiXHN65"
      },
      "outputs": [],
      "source": []
    },
    {
      "cell_type": "code",
      "execution_count": null,
      "metadata": {
        "pycharm": {
          "name": "#%%\n"
        },
        "id": "JQmYmUC0HN66"
      },
      "outputs": [],
      "source": []
    },
    {
      "cell_type": "markdown",
      "metadata": {
        "pycharm": {
          "name": "#%% md\n"
        },
        "id": "_7Rr_n0MHN66"
      },
      "source": [
        "## Don't Mutate\n",
        "\n",
        "> \"you are missing the point, inplace rarely actually does something inplace, you are thinking that you are saving memory but you are not.\"\n",
        ">\n",
        "> **jreback** - Pandas core dev\n",
        "\n",
        "\n",
        "\n",
        "https://github.com/pandas-dev/pandas/issues/16529#issuecomment-676518136\n",
        "\n",
        "* In general, no performance benefits\n",
        "* Prohibits chaining\n",
        "* ``SettingWithCopyWarning`` fun\n"
      ]
    },
    {
      "cell_type": "code",
      "execution_count": null,
      "metadata": {
        "pycharm": {
          "name": "#%%\n"
        },
        "id": "vqBWfUykHN66"
      },
      "outputs": [],
      "source": []
    },
    {
      "cell_type": "code",
      "execution_count": null,
      "metadata": {
        "pycharm": {
          "name": "#%%\n"
        },
        "id": "LQbBK5hFHN66"
      },
      "outputs": [],
      "source": []
    },
    {
      "cell_type": "code",
      "execution_count": null,
      "metadata": {
        "pycharm": {
          "name": "#%%\n"
        },
        "id": "MvyqUZbMHN66"
      },
      "outputs": [],
      "source": []
    },
    {
      "cell_type": "markdown",
      "metadata": {
        "pycharm": {
          "name": "#%% md\n"
        },
        "id": "l_6solGcHN66"
      },
      "source": [
        "## Don't Apply (if you can)"
      ]
    },
    {
      "cell_type": "code",
      "execution_count": null,
      "metadata": {
        "pycharm": {
          "name": "#%%\n"
        },
        "id": "wiBTxDfwHN67"
      },
      "outputs": [],
      "source": [
        "def tweak_autos(autos):\n",
        "    return (autos\n",
        "     [cols]\n",
        "     .assign(cylinders=autos.cylinders.fillna(0).astype('int8'),\n",
        "             displ=autos.displ.fillna(0).astype('float16'),\n",
        "             drive=autos.drive.fillna('Other').astype('category'),\n",
        "             automatic=autos.trany.str.contains('Auto'),\n",
        "             speeds=autos.trany.str.extract(r'(\\d)+').fillna('20').astype('int8'),\n",
        "             createdOn=pd.to_datetime(autos.createdOn.replace({' EDT': '-04:00',\n",
        "                ' EST': '-05:00'}, regex=True), utc=True).dt.tz_convert('America/New_York'),\n",
        "             ffs=autos.eng_dscr.str.contains('FFS')\n",
        "            )\n",
        "     .astype({'highway08': 'int8', 'city08': 'int16', 'comb08': 'int16', 'fuelCost08': 'int16',\n",
        "              'range': 'int16',  'year': 'int16', 'make': 'category'})\n",
        "     .drop(columns=['trany', 'eng_dscr'])\n",
        "    )\n",
        "\n",
        "\n",
        "autos2 = tweak_autos(autos)"
      ]
    },
    {
      "cell_type": "code",
      "execution_count": null,
      "metadata": {
        "scrolled": true,
        "pycharm": {
          "name": "#%%\n"
        },
        "id": "my6jzpSRHN67"
      },
      "outputs": [],
      "source": [
        "# try to me more Euro-centric\n",
        "def to_lper100km(val):\n",
        "    return 235.215 / val\n",
        "autos2.city08.apply(to_lper100km)"
      ]
    },
    {
      "cell_type": "code",
      "execution_count": null,
      "metadata": {
        "scrolled": true,
        "pycharm": {
          "name": "#%%\n"
        },
        "id": "4xTw9lRpHN67"
      },
      "outputs": [],
      "source": [
        "# this gives the sames results\n",
        "235.215 / autos2.city08 "
      ]
    },
    {
      "cell_type": "code",
      "execution_count": null,
      "metadata": {
        "pycharm": {
          "name": "#%%\n"
        },
        "id": "dIUa4SrWHN68"
      },
      "outputs": [],
      "source": [
        "%%timeit\n",
        "autos2.city08.apply(to_lper100km)"
      ]
    },
    {
      "cell_type": "code",
      "execution_count": null,
      "metadata": {
        "pycharm": {
          "name": "#%%\n"
        },
        "id": "XnXAeo8iHN68"
      },
      "outputs": [],
      "source": [
        "%%timeit\n",
        "235.215 / autos2.city08 "
      ]
    },
    {
      "cell_type": "code",
      "execution_count": null,
      "metadata": {
        "pycharm": {
          "name": "#%%\n"
        },
        "id": "WCX6Z2jEHN68"
      },
      "outputs": [],
      "source": [
        "# ~50x slower!\n",
        "6_220 / 110"
      ]
    },
    {
      "cell_type": "code",
      "execution_count": null,
      "metadata": {
        "pycharm": {
          "name": "#%%\n"
        },
        "id": "1OPXX50XHN68"
      },
      "outputs": [],
      "source": [
        "def is_american(val):\n",
        "    return val in {'Chevrolet', 'Ford', 'Dodge', 'GMC', 'Tesla'}"
      ]
    },
    {
      "cell_type": "code",
      "execution_count": null,
      "metadata": {
        "pycharm": {
          "name": "#%%\n"
        },
        "id": "9mZiiB_YHN69"
      },
      "outputs": [],
      "source": [
        "%%timeit\n",
        "autos2.make.apply(is_american)"
      ]
    },
    {
      "cell_type": "code",
      "execution_count": null,
      "metadata": {
        "pycharm": {
          "name": "#%%\n"
        },
        "id": "E1BBKZ_FHN69"
      },
      "outputs": [],
      "source": [
        "%%timeit\n",
        "autos2.make.isin({'Chevrolet', 'Ford', 'Dodge', 'GMC', 'Tesla'})"
      ]
    },
    {
      "cell_type": "code",
      "execution_count": null,
      "metadata": {
        "pycharm": {
          "name": "#%%\n"
        },
        "id": "f4vebMP7HN69"
      },
      "outputs": [],
      "source": [
        "autos3 = autos2.assign(make=autos2.make.astype(str))"
      ]
    },
    {
      "cell_type": "code",
      "execution_count": null,
      "metadata": {
        "pycharm": {
          "name": "#%%\n"
        },
        "id": "c9C53TIVHN69"
      },
      "outputs": [],
      "source": [
        "%%timeit\n",
        "# converted to string\n",
        "autos3.make.isin({'Chevrolet', 'Ford', 'Dodge', 'GMC', 'Tesla'})"
      ]
    },
    {
      "cell_type": "code",
      "execution_count": null,
      "metadata": {
        "pycharm": {
          "name": "#%%\n"
        },
        "id": "eBjibY7fHN6-"
      },
      "outputs": [],
      "source": [
        "%%timeit\n",
        "autos3.make.apply(is_american)"
      ]
    },
    {
      "cell_type": "code",
      "execution_count": null,
      "metadata": {
        "pycharm": {
          "name": "#%%\n"
        },
        "id": "rvcEbAzUHN6-"
      },
      "outputs": [],
      "source": [
        "def country(val):\n",
        "    if val in {'Chevrolet', 'Ford', 'Dodge', 'GMC', 'Tesla'}:\n",
        "        return 'US'\n",
        "    return 'Other'"
      ]
    },
    {
      "cell_type": "code",
      "execution_count": null,
      "metadata": {
        "scrolled": true,
        "pycharm": {
          "name": "#%%\n"
        },
        "id": "zhSKMO8yHN6-"
      },
      "outputs": [],
      "source": [
        "%%timeit\n",
        "# Might be ok for strings, since they are not vectorized...\n",
        "(autos2\n",
        " .assign(country=autos2.make.apply(country))\n",
        ")"
      ]
    },
    {
      "cell_type": "code",
      "execution_count": null,
      "metadata": {
        "pycharm": {
          "name": "#%%\n"
        },
        "id": "81XJebHKHN6-"
      },
      "outputs": [],
      "source": [
        "%%timeit\n",
        "values = {'Chevrolet', 'Ford', 'Dodge', 'GMC', 'Tesla'}\n",
        "(autos2\n",
        " .assign(country='US')\n",
        " .assign(country=lambda df_:df_.country.where(df_.make.isin(values), 'Other'))\n",
        ")"
      ]
    },
    {
      "cell_type": "code",
      "execution_count": null,
      "metadata": {
        "pycharm": {
          "name": "#%%\n"
        },
        "id": "9E4BgRXkHN6_"
      },
      "outputs": [],
      "source": [
        "%%timeit\n",
        "\n",
        "(autos2\n",
        " .assign(country=np.select([autos2.make.isin({'Chevrolet', 'Ford', 'Dodge', 'GMC', 'Tesla'})], \n",
        "                           ['US'], 'Other'))\n",
        ")"
      ]
    },
    {
      "cell_type": "code",
      "execution_count": null,
      "metadata": {
        "lines_to_next_cell": 0,
        "pycharm": {
          "name": "#%%\n"
        },
        "id": "h4Z3oAWgHN6_"
      },
      "outputs": [],
      "source": [
        "%%timeit\n",
        "\n",
        "(autos2\n",
        " .assign(country=np.where(autos2.make.isin({'Chevrolet', 'Ford', 'Dodge', 'GMC', 'Tesla'}), \n",
        "                          'US', 'Other'))\n",
        ")"
      ]
    },
    {
      "cell_type": "code",
      "execution_count": null,
      "metadata": {
        "lines_to_next_cell": 2,
        "pycharm": {
          "name": "#%%\n"
        },
        "id": "QAa1tiGpHN6_"
      },
      "outputs": [],
      "source": []
    },
    {
      "cell_type": "code",
      "execution_count": null,
      "metadata": {
        "pycharm": {
          "name": "#%%\n"
        },
        "id": "nlOM5FAVHN6_"
      },
      "outputs": [],
      "source": []
    },
    {
      "cell_type": "code",
      "execution_count": null,
      "metadata": {
        "lines_to_next_cell": 2,
        "pycharm": {
          "name": "#%%\n"
        },
        "id": "YGPggIjqHN6_"
      },
      "outputs": [],
      "source": []
    },
    {
      "cell_type": "code",
      "execution_count": null,
      "metadata": {
        "pycharm": {
          "name": "#%%\n"
        },
        "id": "KUD19gVJHN7A"
      },
      "outputs": [],
      "source": []
    },
    {
      "cell_type": "code",
      "execution_count": null,
      "metadata": {
        "pycharm": {
          "name": "#%%\n"
        },
        "id": "H_JhM6q2HN7A"
      },
      "outputs": [],
      "source": []
    },
    {
      "cell_type": "code",
      "execution_count": null,
      "metadata": {
        "pycharm": {
          "name": "#%%\n"
        },
        "id": "zfKGj6O4HN7A"
      },
      "outputs": [],
      "source": []
    },
    {
      "cell_type": "code",
      "execution_count": null,
      "metadata": {
        "pycharm": {
          "name": "#%%\n"
        },
        "id": "rzSPglNWHN7A"
      },
      "outputs": [],
      "source": []
    },
    {
      "cell_type": "code",
      "execution_count": null,
      "metadata": {
        "pycharm": {
          "name": "#%%\n"
        },
        "id": "6SH3B28dHN7A"
      },
      "outputs": [],
      "source": []
    },
    {
      "cell_type": "code",
      "execution_count": null,
      "metadata": {
        "lines_to_next_cell": 2,
        "pycharm": {
          "name": "#%%\n"
        },
        "id": "8ZV5pmXHHN7A"
      },
      "outputs": [],
      "source": []
    },
    {
      "cell_type": "code",
      "execution_count": null,
      "metadata": {
        "lines_to_next_cell": 2,
        "pycharm": {
          "name": "#%%\n"
        },
        "id": "Tb3csAGqHN7B"
      },
      "outputs": [],
      "source": []
    },
    {
      "cell_type": "code",
      "execution_count": null,
      "metadata": {
        "pycharm": {
          "name": "#%%\n"
        },
        "id": "645biuIpHN7B"
      },
      "outputs": [],
      "source": []
    },
    {
      "cell_type": "code",
      "execution_count": null,
      "metadata": {
        "pycharm": {
          "name": "#%%\n"
        },
        "id": "ufW08hGSHN7B"
      },
      "outputs": [],
      "source": []
    },
    {
      "cell_type": "code",
      "execution_count": null,
      "metadata": {
        "pycharm": {
          "name": "#%%\n"
        },
        "id": "F0le61qVHN7C"
      },
      "outputs": [],
      "source": []
    },
    {
      "cell_type": "code",
      "execution_count": null,
      "metadata": {
        "pycharm": {
          "name": "#%%\n"
        },
        "id": "Nw493F8pHN7C"
      },
      "outputs": [],
      "source": []
    },
    {
      "cell_type": "code",
      "execution_count": null,
      "metadata": {
        "pycharm": {
          "name": "#%%\n"
        },
        "id": "j7dZ_W5iHN7C"
      },
      "outputs": [],
      "source": []
    },
    {
      "cell_type": "code",
      "execution_count": null,
      "metadata": {
        "pycharm": {
          "name": "#%%\n"
        },
        "id": "Gqe282mIHN7D"
      },
      "outputs": [],
      "source": []
    },
    {
      "cell_type": "code",
      "execution_count": null,
      "metadata": {
        "lines_to_next_cell": 2,
        "pycharm": {
          "name": "#%%\n"
        },
        "id": "k7Vi3s2MHN7D"
      },
      "outputs": [],
      "source": []
    },
    {
      "cell_type": "code",
      "execution_count": null,
      "metadata": {
        "pycharm": {
          "name": "#%%\n"
        },
        "id": "NmOffT1IHN7D"
      },
      "outputs": [],
      "source": []
    },
    {
      "cell_type": "markdown",
      "metadata": {
        "pycharm": {
          "name": "#%% md\n"
        },
        "id": "fTCkt9ZsHN7D"
      },
      "source": [
        "## Master Aggregation\n",
        "\n",
        "Let's compare mileage by country by year...🤔"
      ]
    },
    {
      "cell_type": "code",
      "execution_count": null,
      "metadata": {
        "scrolled": true,
        "pycharm": {
          "name": "#%%\n"
        },
        "id": "AYgPT580HN7E"
      },
      "outputs": [],
      "source": [
        "(autos2\n",
        "   .groupby('year')\n",
        "   .mean()\n",
        ")"
      ]
    },
    {
      "cell_type": "code",
      "execution_count": null,
      "metadata": {
        "scrolled": true,
        "pycharm": {
          "name": "#%%\n"
        },
        "id": "xc6lYHnPHN7E"
      },
      "outputs": [],
      "source": [
        "# watch order of column filtering/aggregation\n",
        "(autos2\n",
        "   .groupby('year')\n",
        "   [['comb08', 'speeds']]\n",
        "   .mean()\n",
        ")"
      ]
    },
    {
      "cell_type": "code",
      "execution_count": null,
      "metadata": {
        "scrolled": true,
        "pycharm": {
          "name": "#%%\n"
        },
        "id": "lfssLJaUHN7E"
      },
      "outputs": [],
      "source": [
        "%%timeit\n",
        "# watch order of column filtering/aggregation\n",
        "(autos2\n",
        "   .groupby('year')\n",
        "   [['comb08', 'speeds']]\n",
        "   .mean()\n",
        ")"
      ]
    },
    {
      "cell_type": "code",
      "execution_count": null,
      "metadata": {
        "scrolled": true,
        "pycharm": {
          "name": "#%%\n"
        },
        "id": "3NaQO4FEHN7F"
      },
      "outputs": [],
      "source": [
        "%%timeit\n",
        "# watch order of column filtering/aggregation\n",
        "(autos2\n",
        "   .groupby('year')\n",
        "   .mean()\n",
        "   [['comb08', 'speeds']]\n",
        ")"
      ]
    },
    {
      "cell_type": "code",
      "execution_count": null,
      "metadata": {
        "pycharm": {
          "name": "#%%\n"
        },
        "id": "FKV4IUZFHN7F"
      },
      "outputs": [],
      "source": [
        "import matplotlib.pyplot as plt\n",
        "import seaborn as sns\n",
        "plt.style.use('pandas1book') \n",
        "sns.set_context('talk')\n",
        "plt.plot(range(10))"
      ]
    },
    {
      "cell_type": "code",
      "execution_count": null,
      "metadata": {
        "scrolled": true,
        "pycharm": {
          "name": "#%%\n"
        },
        "id": "3RDB3aD2HN7F"
      },
      "outputs": [],
      "source": [
        "(autos2\n",
        "   .groupby('year')\n",
        "   [['comb08', 'speeds']]\n",
        "   .mean()\n",
        "   .plot()\n",
        ")"
      ]
    },
    {
      "cell_type": "code",
      "execution_count": null,
      "metadata": {
        "scrolled": true,
        "pycharm": {
          "name": "#%%\n"
        },
        "id": "xz9YE89UHN7G"
      },
      "outputs": [],
      "source": [
        "(autos2\n",
        "   .groupby('year')\n",
        "   [['comb08', 'speeds']]\n",
        "   #.mean()\n",
        "   #.median()\n",
        "   .quantile(.3)\n",
        "   #.std()\n",
        "   #.var()\n",
        "   .plot()\n",
        ")"
      ]
    },
    {
      "cell_type": "code",
      "execution_count": null,
      "metadata": {
        "scrolled": true,
        "pycharm": {
          "name": "#%%\n"
        },
        "id": "GBcrAYBLHN7G"
      },
      "outputs": [],
      "source": [
        "# add country\n",
        "(autos2\n",
        " .assign(country=autos2.make.apply(country))\n",
        " .groupby(['year', 'country'])\n",
        " .mean()\n",
        ")"
      ]
    },
    {
      "cell_type": "code",
      "execution_count": null,
      "metadata": {
        "scrolled": false,
        "pycharm": {
          "name": "#%%\n"
        },
        "id": "p4mIBi_THN7G"
      },
      "outputs": [],
      "source": [
        "# can go deeper and apply multiple aggregates\n",
        "def second_to_last(ser):\n",
        "    return ser.iloc[-2]\n",
        "\n",
        "(autos2\n",
        " .assign(country=autos2.make.apply(country))\n",
        " .groupby(['year', 'country'])\n",
        " .agg(['min', 'mean', second_to_last])\n",
        ")"
      ]
    },
    {
      "cell_type": "code",
      "execution_count": null,
      "metadata": {
        "pycharm": {
          "name": "#%%\n"
        },
        "id": "_Q6GA1PfHN7H"
      },
      "outputs": [],
      "source": [
        "# back to simpler example, adding plots\n",
        "(autos2\n",
        " .assign(country=autos2.make.apply(country))\n",
        " .groupby(['year', 'country'])\n",
        " .mean()\n",
        " .plot()\n",
        ")"
      ]
    },
    {
      "cell_type": "code",
      "execution_count": null,
      "metadata": {
        "scrolled": true,
        "pycharm": {
          "name": "#%%\n"
        },
        "id": "hTyXE4q-HN7H"
      },
      "outputs": [],
      "source": [
        "(autos2\n",
        " .assign(country=autos2.make.apply(country))\n",
        " .groupby(['year', 'country'])\n",
        " .mean()\n",
        " .unstack()\n",
        ")"
      ]
    },
    {
      "cell_type": "code",
      "execution_count": null,
      "metadata": {
        "scrolled": true,
        "pycharm": {
          "name": "#%%\n"
        },
        "id": "pptfoS3UHN7H"
      },
      "outputs": [],
      "source": [
        "(autos2\n",
        " .assign(country=autos2.make.apply(country))\n",
        " .groupby(['year', 'country'])\n",
        " .mean()\n",
        " #.std()\n",
        " .unstack()\n",
        " .city08\n",
        " .plot()\n",
        " .legend(bbox_to_anchor=(1,1))\n",
        ")"
      ]
    },
    {
      "cell_type": "code",
      "execution_count": null,
      "metadata": {
        "scrolled": true,
        "pycharm": {
          "name": "#%%\n"
        },
        "id": "GEpl9qLVHN7I"
      },
      "outputs": [],
      "source": [
        "# smoothe it out a bit w/ rolling\n",
        "(autos2\n",
        " .assign(country=autos2.make.apply(country))\n",
        " .groupby(['year', 'country'])\n",
        " .mean()\n",
        " .unstack()\n",
        " .city08\n",
        " .rolling(3)\n",
        " .mean()\n",
        " .plot()\n",
        " .legend(bbox_to_anchor=(1,1))\n",
        ")"
      ]
    },
    {
      "cell_type": "code",
      "execution_count": null,
      "metadata": {
        "lines_to_next_cell": 2,
        "pycharm": {
          "name": "#%%\n"
        },
        "id": "NzM4N-T-HN7I"
      },
      "outputs": [],
      "source": []
    },
    {
      "cell_type": "code",
      "execution_count": null,
      "metadata": {
        "pycharm": {
          "name": "#%%\n"
        },
        "id": "2nm1mmAhHN7J"
      },
      "outputs": [],
      "source": []
    },
    {
      "cell_type": "code",
      "execution_count": null,
      "metadata": {
        "pycharm": {
          "name": "#%%\n"
        },
        "id": "T110vy7THN7J"
      },
      "outputs": [],
      "source": []
    },
    {
      "cell_type": "code",
      "execution_count": null,
      "metadata": {
        "pycharm": {
          "name": "#%%\n"
        },
        "id": "6sDLEL8cHN7J"
      },
      "outputs": [],
      "source": []
    },
    {
      "cell_type": "code",
      "execution_count": null,
      "metadata": {
        "pycharm": {
          "name": "#%%\n"
        },
        "id": "-sWf8ILfHN7J"
      },
      "outputs": [],
      "source": []
    },
    {
      "cell_type": "code",
      "execution_count": null,
      "metadata": {
        "pycharm": {
          "name": "#%%\n"
        },
        "id": "sN8dbIFnHN7K"
      },
      "outputs": [],
      "source": []
    },
    {
      "cell_type": "code",
      "execution_count": null,
      "metadata": {
        "pycharm": {
          "name": "#%%\n"
        },
        "id": "bh8lgKZFHN7K"
      },
      "outputs": [],
      "source": []
    },
    {
      "cell_type": "code",
      "execution_count": null,
      "metadata": {
        "pycharm": {
          "name": "#%%\n"
        },
        "id": "PFMUOeoHHN7K"
      },
      "outputs": [],
      "source": []
    },
    {
      "cell_type": "code",
      "execution_count": null,
      "metadata": {
        "pycharm": {
          "name": "#%%\n"
        },
        "id": "khiYbA6tHN7K"
      },
      "outputs": [],
      "source": []
    },
    {
      "cell_type": "code",
      "execution_count": null,
      "metadata": {
        "pycharm": {
          "name": "#%%\n"
        },
        "id": "yiQeolawHN7K"
      },
      "outputs": [],
      "source": []
    },
    {
      "cell_type": "markdown",
      "metadata": {
        "pycharm": {
          "name": "#%% md\n"
        },
        "id": "wFqkYj5-HN7K"
      },
      "source": [
        "## Summary\n",
        "\n",
        "* Correct types save space and enable convenient math, string, and date functionality\n",
        "* Chaining operations will:\n",
        "   * Make code readable\n",
        "   * Remove bugs\n",
        "   * Easier to debug\n",
        "* Don't mutate (there's no point). Embrace chaining.\n",
        "* ``.apply`` is slow for math\n",
        "* Aggregations are powerful. Play with them until they make sense\n",
        "* Upcoming course https://maven.com/matt-harrison/data-analysis-using-pandas\n",
        "\n",
        "Follow me on Twitter ``@__mharrison__``\n",
        "\n",
        "Book giveaway!\n"
      ]
    },
    {
      "cell_type": "code",
      "execution_count": null,
      "metadata": {
        "pycharm": {
          "name": "#%%\n"
        },
        "id": "_x_aynQXHN7L"
      },
      "outputs": [],
      "source": [
        "import random\n",
        "random.randrange(1,13)"
      ]
    },
    {
      "cell_type": "code",
      "execution_count": null,
      "metadata": {
        "pycharm": {
          "name": "#%%\n"
        },
        "id": "vVGAOm9YHN7L"
      },
      "outputs": [],
      "source": []
    },
    {
      "cell_type": "code",
      "execution_count": null,
      "metadata": {
        "pycharm": {
          "name": "#%%\n"
        },
        "id": "O-JAJOjOHN7L"
      },
      "outputs": [],
      "source": []
    },
    {
      "cell_type": "code",
      "execution_count": null,
      "metadata": {
        "pycharm": {
          "name": "#%%\n"
        },
        "id": "o-YGZC1bHN7L"
      },
      "outputs": [],
      "source": []
    },
    {
      "cell_type": "code",
      "execution_count": null,
      "metadata": {
        "pycharm": {
          "name": "#%%\n"
        },
        "id": "B1iYxRBgHN7M"
      },
      "outputs": [],
      "source": []
    }
  ],
  "metadata": {
    "jupytext": {
      "encoding": "# -*- coding: utf-8 -*-",
      "formats": "ipynb,py:light"
    },
    "kernelspec": {
      "display_name": "Python 3",
      "language": "python",
      "name": "python3"
    },
    "language_info": {
      "codemirror_mode": {
        "name": "ipython",
        "version": 3
      },
      "file_extension": ".py",
      "mimetype": "text/x-python",
      "name": "python",
      "nbconvert_exporter": "python",
      "pygments_lexer": "ipython3",
      "version": "3.8.5"
    },
    "colab": {
      "provenance": [],
      "include_colab_link": true
    }
  },
  "nbformat": 4,
  "nbformat_minor": 0
}