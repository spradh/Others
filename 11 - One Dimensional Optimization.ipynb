{
 "cells": [
  {
   "cell_type": "code",
   "execution_count": 4,
   "metadata": {},
   "outputs": [],
   "source": [
    "import numpy as np\n",
    "from cmath import sqrt"
   ]
  },
  {
   "cell_type": "markdown",
   "metadata": {},
   "source": [
    "# Problem 1 - Golden Section"
   ]
  },
  {
   "cell_type": "code",
   "execution_count": 5,
   "metadata": {},
   "outputs": [],
   "source": [
    "def golden_section(f,a,b,tol,maxiters):\n",
    "    x_0=(a+b)*1.0/2\n",
    "    psi=(1+sqrt(5))/2\n",
    "    for i in range(maxiters):\n",
    "        a_tilde=b-(b-a)*1.0/psi\n",
    "        b_tilde=a+(b-a)*1.0/psi\n",
    "        if f(a_tilde)<=f(b_tilde):\n",
    "            b=b_tilde\n",
    "        else:\n",
    "            a=a_tilde\n",
    "        x_1=(a+b)/2\n",
    "        if abs(x_0-x_1)<tol:\n",
    "            break\n",
    "        x_0=x_1\n",
    "    return x_0"
   ]
  },
  {
   "cell_type": "code",
   "execution_count": 6,
   "metadata": {},
   "outputs": [],
   "source": [
    "f = lambda x : np.exp(x) - 4*x\n",
    "a=0\n",
    "b=3\n",
    "tol=1e-25\n",
    "maxiter=10000000"
   ]
  },
  {
   "cell_type": "code",
   "execution_count": 9,
   "metadata": {},
   "outputs": [
    {
     "name": "stdout",
     "output_type": "stream",
     "text": [
      "(1.3862943469048337+0j)\n"
     ]
    }
   ],
   "source": [
    "print(golden_section(f,a,b,tol,maxiter))"
   ]
  },
  {
   "cell_type": "markdown",
   "metadata": {},
   "source": [
    "Inbuilt funtion"
   ]
  },
  {
   "cell_type": "code",
   "execution_count": 8,
   "metadata": {},
   "outputs": [
    {
     "name": "stdout",
     "output_type": "stream",
     "text": [
      "1.3862943788626767\n"
     ]
    }
   ],
   "source": [
    "from scipy import optimize as opt\n",
    "import numpy as np\n",
    "result = opt.golden(f, brack=(0,3), tol=1e-25)\n",
    "print(result)"
   ]
  },
  {
   "cell_type": "markdown",
   "metadata": {},
   "source": [
    "# Problem 2 - Newton's Method"
   ]
  },
  {
   "cell_type": "code",
   "execution_count": 78,
   "metadata": {},
   "outputs": [],
   "source": [
    "def newtons_method(x,f,df,d2f,tol,maxiter):\n",
    "    for i in range(maxiter):\n",
    "        x_1=x-df(x)/d2f(x)\n",
    "        if abs(x-x_1)<tol:\n",
    "            break\n",
    "        x=x_1\n",
    "    return x"
   ]
  },
  {
   "cell_type": "code",
   "execution_count": 81,
   "metadata": {},
   "outputs": [],
   "source": [
    "f= lambda x : x**2 + np.sin(5*x) \n",
    "df = lambda x : 2*x + 5*np.cos(5*x)\n",
    "d2f = lambda x : 2 - 25*np.sin(5*x)\n",
    "x=0\n",
    "tol=1e-10\n",
    "maxiter=500"
   ]
  },
  {
   "cell_type": "code",
   "execution_count": 82,
   "metadata": {},
   "outputs": [
    {
     "name": "stdout",
     "output_type": "stream",
     "text": [
      "-1.4473142236328096\n"
     ]
    }
   ],
   "source": [
    "print(newtons_method(x,f,df,d2f,tol,maxiter))"
   ]
  },
  {
   "cell_type": "markdown",
   "metadata": {},
   "source": [
    "Inbuilt function"
   ]
  },
  {
   "cell_type": "code",
   "execution_count": 83,
   "metadata": {},
   "outputs": [
    {
     "name": "stdout",
     "output_type": "stream",
     "text": [
      "-1.4473142236328096\n"
     ]
    }
   ],
   "source": [
    "result = opt.newton(df, x0 = 0, fprime = d2f, tol = 1e-10, maxiter = 500)\n",
    "print(result)"
   ]
  },
  {
   "cell_type": "markdown",
   "metadata": {},
   "source": [
    "# Problem 3 - Secant Method"
   ]
  },
  {
   "cell_type": "code",
   "execution_count": 95,
   "metadata": {},
   "outputs": [],
   "source": [
    "def secant_method(x_0,x_1,f,df,tol,maxiter):\n",
    "    for i in range(maxiter):\n",
    "        x_2=x_1-(x_1-x_0)/(df(x_1)-df(x_0))*df(x_1)\n",
    "        if abs(x_2-x_1)<tol:\n",
    "            break\n",
    "        x_0,x_1=x_1,x_2\n",
    "    return x_1"
   ]
  },
  {
   "cell_type": "code",
   "execution_count": 96,
   "metadata": {},
   "outputs": [],
   "source": [
    "f = lambda x : x**2 + np.sin(x) + np.sin(10*x)\n",
    "df = lambda x : 2*x + np.cos(x) + 10*np.cos(10*x)\n",
    "x_0 = 0\n",
    "x_1 = -1\n",
    "tol=1e-10\n",
    "maxiter=500"
   ]
  },
  {
   "cell_type": "code",
   "execution_count": 97,
   "metadata": {},
   "outputs": [
    {
     "name": "stdout",
     "output_type": "stream",
     "text": [
      "-0.16367722118191103\n"
     ]
    }
   ],
   "source": [
    "print(secant_method(x_0,x_1,f,df,tol,maxiter))"
   ]
  },
  {
   "cell_type": "code",
   "execution_count": 117,
   "metadata": {},
   "outputs": [
    {
     "data": {
      "image/png": "[encoded data removed]",
      "text/plain": [
       "<matplotlib.figure.Figure at 0x151d401f98>"
      ]
     },
     "metadata": {},
     "output_type": "display_data"
    }
   ],
   "source": [
    "import matplotlib.pyplot as plt\n",
    "\n",
    "scatter_pts = np.array([0,-1,-0.16367722118191103])\n",
    "dom = np.arange(-2,2,.01)\n",
    "plt.plot(dom, f(dom))\n",
    "plt.scatter(scatter_pts,f(scatter_pts),color='orange')\n",
    "plt.show()\n"
   ]
  },
  {
   "cell_type": "markdown",
   "metadata": {},
   "source": [
    "Inbuilt funtion"
   ]
  },
  {
   "cell_type": "code",
   "execution_count": 98,
   "metadata": {},
   "outputs": [
    {
     "name": "stdout",
     "output_type": "stream",
     "text": [
      "-3.2149595174761636\n"
     ]
    }
   ],
   "source": [
    "result = opt.newton(df, x0 = x_0, tol = tol, maxiter = maxiter)\n",
    "print(result)"
   ]
  },
  {
   "cell_type": "markdown",
   "metadata": {},
   "source": [
    "# Problem 4 - Backtracking"
   ]
  },
  {
   "cell_type": "code",
   "execution_count": 236,
   "metadata": {},
   "outputs": [],
   "source": [
    "f = lambda x: x[0]**2 + x[1]**2 + x[2]**2\n",
    "df = lambda x: np.array([2*x[0],2*x[1],2*x[2]])\n",
    "x = np.array([150., .03, 40.])\n",
    "p = np.array([-.5, -100., -4.5])\n",
    "c = .5\n",
    "rho = .95\n",
    "alpha = 1"
   ]
  },
  {
   "cell_type": "code",
   "execution_count": 241,
   "metadata": {},
   "outputs": [],
   "source": [
    "def backtracking(f,df,x,p,alpha,rho,c):\n",
    "    dfp = np.matmul(np.transpose(df(x)), p)\n",
    "    while( f(x + alpha*p) > (f(x)+c*alpha*dfp)):\n",
    "        alpha = rho * alpha\n",
    "    return alpha"
   ]
  },
  {
   "cell_type": "code",
   "execution_count": 242,
   "metadata": {},
   "outputs": [
    {
     "name": "stdout",
     "output_type": "stream",
     "text": [
      "0.0248942806191894\n"
     ]
    }
   ],
   "source": [
    "print(backtracking(f,df,x,p,alpha,rho,c))"
   ]
  },
  {
   "cell_type": "markdown",
   "metadata": {},
   "source": [
    "Inbuilt function"
   ]
  },
  {
   "cell_type": "code",
   "execution_count": 244,
   "metadata": {},
   "outputs": [
    {
     "name": "stdout",
     "output_type": "stream",
     "text": [
      "0.025747218202684496\n"
     ]
    }
   ],
   "source": [
    "from autograd import grad\n",
    "phi = lambda alpha: f(x + alpha*p)\n",
    "derphi = grad(phi)\n",
    "alpha, _ = opt.linesearch.scalar_search_armijo(phi, phi(0.), derphi(0.))\n",
    "print(alpha)"
   ]
  }
 ],
 "metadata": {
  "kernelspec": {
   "display_name": "Python 3",
   "language": "python",
   "name": "python3"
  },
  "language_info": {
   "codemirror_mode": {
    "name": "ipython",
    "version": 3
   },
   "file_extension": ".py",
   "mimetype": "text/x-python",
   "name": "python",
   "nbconvert_exporter": "python",
   "pygments_lexer": "ipython3",
   "version": "3.6.4"
  }
 },
 "nbformat": 4,
 "nbformat_minor": 2
}
