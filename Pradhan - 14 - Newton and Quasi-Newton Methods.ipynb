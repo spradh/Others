{
 "cells": [
  {
   "cell_type": "code",
   "execution_count": 36,
   "metadata": {},
   "outputs": [],
   "source": [
    "from autograd import numpy as np\n",
    "from autograd import hessian, jacobian\n",
    "import scipy.optimize as opt\n",
    "from matplotlib import pyplot as plt\n",
    "import time"
   ]
  },
  {
   "cell_type": "markdown",
   "metadata": {},
   "source": [
    "# Problem 1 - Newton Method"
   ]
  },
  {
   "cell_type": "code",
   "execution_count": 487,
   "metadata": {},
   "outputs": [],
   "source": [
    "def newton_method(x_0,f,df,d2f,tol,maxiter):\n",
    "    for i in range(maxiter):\n",
    "        x_1 = x_0 - np.matmul( np.linalg.inv(d2f(x_0)), df(x_0).T)\n",
    "        if np.linalg.norm(x_1 - x_0) < tol:\n",
    "            break\n",
    "        x_0 = x_1\n",
    "    return x_1"
   ]
  },
  {
   "cell_type": "code",
   "execution_count": 488,
   "metadata": {},
   "outputs": [],
   "source": [
    "tol = 1e-10\n",
    "maxiter = 10**5\n",
    "f = opt.rosen\n",
    "df = opt.rosen_der\n",
    "d2f = opt.rosen_hess\n",
    "x_01 = np.array([-2,2])\n",
    "x_02 = np.array([10, -10])"
   ]
  },
  {
   "cell_type": "code",
   "execution_count": 489,
   "metadata": {},
   "outputs": [
    {
     "name": "stdout",
     "output_type": "stream",
     "text": [
      "[1. 1.]\n"
     ]
    }
   ],
   "source": [
    "print(newton_method(x_01,f,df,d2f,tol,maxiter))"
   ]
  },
  {
   "cell_type": "code",
   "execution_count": 490,
   "metadata": {},
   "outputs": [
    {
     "name": "stdout",
     "output_type": "stream",
     "text": [
      "[1. 1.]\n"
     ]
    }
   ],
   "source": [
    "print(newton_method(x_02,f,df,d2f,tol,maxiter))"
   ]
  },
  {
   "cell_type": "markdown",
   "metadata": {},
   "source": [
    "Inbuilt function"
   ]
  },
  {
   "cell_type": "code",
   "execution_count": 491,
   "metadata": {},
   "outputs": [
    {
     "name": "stdout",
     "output_type": "stream",
     "text": [
      "Optimization terminated successfully.\n",
      "         Current function value: 0.000000\n",
      "         Iterations: 38\n",
      "         Function evaluations: 45\n",
      "         Gradient evaluations: 45\n",
      "=========\n",
      " [1. 1.]\n"
     ]
    }
   ],
   "source": [
    "minx1 = opt.fmin_bfgs(f=f,x0=np.array([-2,2]),fprime=df,maxiter=10**5,gtol=10**-10)\n",
    "print(\"=========\\n\", minx1)"
   ]
  },
  {
   "cell_type": "code",
   "execution_count": 105,
   "metadata": {},
   "outputs": [
    {
     "name": "stdout",
     "output_type": "stream",
     "text": [
      "Optimization terminated successfully.\n",
      "         Current function value: 0.000000\n",
      "         Iterations: 83\n",
      "         Function evaluations: 109\n",
      "         Gradient evaluations: 109\n",
      "=========\n",
      " [1. 1.]\n"
     ]
    }
   ],
   "source": [
    "minx2 = opt.fmin_bfgs(f=f,x0=np.array([10,-10]),fprime=df,maxiter=10**5,gtol=10**-10)\n",
    "print(\"=========\\n\",minx2)"
   ]
  },
  {
   "cell_type": "markdown",
   "metadata": {},
   "source": [
    "# Problem 2 - BFGS "
   ]
  },
  {
   "cell_type": "code",
   "execution_count": 652,
   "metadata": {},
   "outputs": [],
   "source": [
    "def bfgs(x_0, f, df, tol, maxiter):\n",
    "    A_ = np.identity(2)\n",
    "    for i in range(maxiter):\n",
    "        x_1 = x_0 - A_ @ df(x_0)\n",
    "        \n",
    "        if np.linalg.norm(x_1[None] - x_0[None]) < tol:\n",
    "            break\n",
    "        \n",
    "        s = (x_1 - x_0).T\n",
    "        y = (df(x_1) - df(x_0))[None].T\n",
    "\n",
    "        A_ = (((s.T@y + y.T@A_@y) * (s@s.T))/(s.T@y)**2) - ((A_@y@s.T+(s@y.T)*A_)/(s.T@y))\n",
    "        \n",
    "        x_0 = x_1\n",
    "    return x_1"
   ]
  },
  {
   "cell_type": "code",
   "execution_count": 653,
   "metadata": {},
   "outputs": [],
   "source": [
    "f = lambda x : np.exp(x[0]-1) + np.exp(1 - x[1]) + (x[0] - x[0][1])**2\n",
    "df = lambda x : np.array([np.exp(x[0][0]-1) + 2*(x[0][0]-x[0][1]), -1*np.exp(1-x[0][1]) - 2*(x[0][0]-x[0][1])])\n",
    "tol = 1e-3\n",
    "maxiter = 10**6\n",
    "x_0=np.array([2.,3.])[None]"
   ]
  },
  {
   "cell_type": "code",
   "execution_count": 654,
   "metadata": {},
   "outputs": [
    {
     "name": "stdout",
     "output_type": "stream",
     "text": [
      "[[0.78705095 1.21213717]]\n"
     ]
    }
   ],
   "source": [
    "print(bfgs(x_0, f, df, tol, maxiter))"
   ]
  },
  {
   "cell_type": "code",
   "execution_count": 655,
   "metadata": {},
   "outputs": [
    {
     "name": "stdout",
     "output_type": "stream",
     "text": [
      "Optimization terminated successfully.\n",
      "         Current function value: 1.797394\n",
      "         Iterations: 5\n",
      "         Function evaluations: 7\n",
      "         Gradient evaluations: 7\n",
      "=========\n",
      " [0.79864113 1.20624613]\n"
     ]
    }
   ],
   "source": [
    "f = lambda x : np.exp(x[0]-1) + np.exp(1 - x[1]) + (x[0] - x[1])**2\n",
    "df = lambda x : np.array([np.exp(x[0]-1) + 2*(x[0]-x[1]), -1*np.exp(1-x[1]) - 2*(x[0]-x[1])])\n",
    "minx = opt.fmin_bfgs(f=f,fprime=df,x0=[2,3],gtol=10**-2,maxiter=10**3)\n",
    "print(\"=========\\n\",minx)"
   ]
  },
  {
   "cell_type": "markdown",
   "metadata": {},
   "source": [
    "# Problem 3 - Comparing performance"
   ]
  },
  {
   "cell_type": "code",
   "execution_count": 568,
   "metadata": {},
   "outputs": [],
   "source": [
    "f1 = lambda x : 0.26 * (x[0]**2 + x[1]**2) -0.48 * x[0] * x[1] \n",
    "df1 = lambda x : np.array([.52*x[0] - .48*x[1], .52*x[1]-.48*x[0]])\n",
    "d2f1 = hessian(f1)\n",
    "\n",
    "f2 = lambda x : np.sin(x[0] + x[1]) + (x[0] - x[1])**2 -1.5 * x[0] + 2.5 * x[1] + 1\n",
    "df2 = lambda x : np.array([np.cos(x[0]+x[1])+2*(x[0]-x[1])-1.5, np.cos(x[0]+x[1])-2*(x[0]-x[1])+2.5])\n",
    "d2f2 = hessian(f2)\n",
    "\n",
    "tol = 1e-10\n",
    "maxiter = 10**5\n",
    "x_0 = np.array([3.,3.])"
   ]
  },
  {
   "cell_type": "code",
   "execution_count": 577,
   "metadata": {},
   "outputs": [
    {
     "name": "stdout",
     "output_type": "stream",
     "text": [
      "Optimization terminated successfully.\n",
      "         Current function value: 0.000000\n",
      "         Iterations: 3\n",
      "         Function evaluations: 5\n",
      "         Gradient evaluations: 5\n",
      "=========\n",
      "Time elasped 0.0011148452758789062\n"
     ]
    }
   ],
   "source": [
    "t0=time.time()\n",
    "minx = opt.fmin_bfgs(f=f1, x0=np.array([3.,3.]),fprime=df1,maxiter=10**5,gtol=10**-10);\n",
    "t1=time.time()\n",
    "print(\"=========\\nTime elasped\",t1-t0)"
   ]
  },
  {
   "cell_type": "code",
   "execution_count": 578,
   "metadata": {},
   "outputs": [
    {
     "name": "stdout",
     "output_type": "stream",
     "text": [
      "Warning: Desired error not necessarily achieved due to precision loss.\n",
      "         Current function value: 1.228370\n",
      "         Iterations: 6\n",
      "         Function evaluations: 9\n",
      "         Gradient evaluations: 8\n",
      "=========\n",
      "Time elasped 0.0016181468963623047\n"
     ]
    }
   ],
   "source": [
    "t0=time.time()\n",
    "minx = opt.fmin_bfgs(f=f2,x0=np.array([3.,3.]),fprime=df2,maxiter=10**9,gtol=10**-19)\n",
    "t1=time.time()\n",
    "print(\"=========\\nTime elasped\",t1-t0)"
   ]
  },
  {
   "cell_type": "markdown",
   "metadata": {},
   "source": [
    "Newton's Method"
   ]
  },
  {
   "cell_type": "code",
   "execution_count": 579,
   "metadata": {},
   "outputs": [
    {
     "name": "stdout",
     "output_type": "stream",
     "text": [
      "=========\n",
      "Time elasped 0.005695819854736328\n"
     ]
    }
   ],
   "source": [
    "t0=time.time()\n",
    "newton_method(x_0, f1, df1, d2f1, tol, maxiter)\n",
    "t1=time.time()\n",
    "print(\"=========\\nTime elasped\",t1-t0)"
   ]
  },
  {
   "cell_type": "code",
   "execution_count": 580,
   "metadata": {},
   "outputs": [
    {
     "name": "stdout",
     "output_type": "stream",
     "text": [
      "=========\n",
      "Time elasped 0.01701188087463379\n"
     ]
    }
   ],
   "source": [
    "t0=time.time()\n",
    "newton_method(x_0, f2, df2, d2f2, tol, maxiter)\n",
    "t1=time.time()\n",
    "print(\"=========\\nTime elasped\",t1-t0)"
   ]
  },
  {
   "cell_type": "markdown",
   "metadata": {},
   "source": [
    "BFGS "
   ]
  },
  {
   "cell_type": "code",
   "execution_count": 581,
   "metadata": {},
   "outputs": [],
   "source": [
    "f1 = lambda x : 0.26 * (x[0][0]**2 + x[0][1]**2) - 0.48 * x[0][0] * x[0][1] \n",
    "df1 = lambda x : np.array([.52*x[0][0] - .48*x[0][1],\n",
    "                           .52*x[0][1] - .48*x[0][0]])\n",
    "\n",
    "f2 = lambda x : np.sin(x[0][0] + x[0][1]) + (x[0][0] - x[0][1])**2 -1.5 * x[0][0] + 2.5 * x[0][1] + 1\n",
    "df2 = lambda x : np.array([np.cos(x[0][0]+x[0][1])+2*(x [0][0]-x[0][1])-1.5,\n",
    "                           np.cos(x[0][0]+x[0][1])-2*(x[0][0]-x[0][1])+2.5])\n",
    "\n",
    "tol = 1e-15\n",
    "maxiter = 10**5\n",
    "x_0 = np.array([3.,3.])[None]"
   ]
  },
  {
   "cell_type": "code",
   "execution_count": 582,
   "metadata": {},
   "outputs": [
    {
     "name": "stdout",
     "output_type": "stream",
     "text": [
      "=========\n",
      "Time elasped 0.00528407096862793\n"
     ]
    }
   ],
   "source": [
    "t0=time.time()\n",
    "bfgs(x_0, f1, df1, tol, maxiter)\n",
    "t1=time.time()\n",
    "print(\"=========\\nTime elasped\",t1-t0)"
   ]
  },
  {
   "cell_type": "code",
   "execution_count": 584,
   "metadata": {},
   "outputs": [
    {
     "name": "stdout",
     "output_type": "stream",
     "text": [
      "=========\n",
      "Time elasped 0.0021321773529052734\n"
     ]
    }
   ],
   "source": [
    "t0=time.time()\n",
    "bfgs(x_0, f2, df2, .4, maxiter)\n",
    "t1=time.time()\n",
    "print(\"=========\\nTime elasped\",t1-t0)"
   ]
  },
  {
   "cell_type": "markdown",
   "metadata": {},
   "source": [
    "# Problem 4 - Gauss-Newton Method"
   ]
  },
  {
   "cell_type": "code",
   "execution_count": 37,
   "metadata": {},
   "outputs": [],
   "source": [
    "np.random.seed(1)\n",
    "n=10\n",
    "t = np.arange(n)\n",
    "y = 3*np.sin(0.5*t)+ 0.5*np.random.randn(n)"
   ]
  },
  {
   "cell_type": "code",
   "execution_count": 38,
   "metadata": {},
   "outputs": [],
   "source": [
    "m = lambda x : x[0]*np.sin(x[1]*t)\n",
    "r = lambda x : m(x)-y\n",
    "J = lambda x : np.concatenate(((np.sin(x[1]*t))[None].T,(x[0]*t*np.cos(x[1]*t))[None].T),axis=1)\n",
    "tol = 1e-10\n",
    "maxiter = 1000\n",
    "x_0 = np.array([5, 3])"
   ]
  },
  {
   "cell_type": "code",
   "execution_count": 39,
   "metadata": {},
   "outputs": [
    {
     "name": "stdout",
     "output_type": "stream",
     "text": [
      "[-68.08122504   3.13984697]\n"
     ]
    }
   ],
   "source": [
    "minx = opt.leastsq(func=r, x0=x_0, Dfun=J,xtol=tol,maxfev=maxiter)\n",
    "print(minx[0])"
   ]
  },
  {
   "cell_type": "code",
   "execution_count": 40,
   "metadata": {},
   "outputs": [],
   "source": [
    "def gauss_newton_method(x_0, r, J, tol, maxiter):\n",
    "    conv = False\n",
    "    for i in range(maxiter):\n",
    "        x_1 = x_0 - np.linalg.inv(J(x_0).T @ J(x_0)) @ J(x_0).T @ r(x_0)\n",
    "        #print(i)\n",
    "        if np.linalg.norm(x_1 - x_0) < tol:\n",
    "            conv = True\n",
    "            break\n",
    "        x_0=x_1\n",
    "        #print(x_1)\n",
    "    return x_1,i+1,conv"
   ]
  },
  {
   "cell_type": "code",
   "execution_count": 41,
   "metadata": {},
   "outputs": [
    {
     "name": "stdout",
     "output_type": "stream",
     "text": [
      "(array([ -2.7967951 , -13.06878025]), 23, True)\n"
     ]
    }
   ],
   "source": [
    "print(gauss_newton_method(x_0, r, J, tol, maxiter))\n",
    "x,iter,conv=gauss_newton_method(x_0, r, J, tol, maxiter)"
   ]
  },
  {
   "cell_type": "code",
   "execution_count": 42,
   "metadata": {},
   "outputs": [
    {
     "data": {
      "text/plain": [
       "[<matplotlib.lines.Line2D at 0x151e4d6cf8>]"
      ]
     },
     "execution_count": 42,
     "metadata": {},
     "output_type": "execute_result"
    },
    {
     "data": {
      "image/png": "[encoded data removed]",
      "text/plain": [
       "<matplotlib.figure.Figure at 0x151e4d6da0>"
      ]
     },
     "metadata": {},
     "output_type": "display_data"
    }
   ],
   "source": [
    "plt.plot(t,y)\n",
    "plt.plot(t,m(x),color=\"orange\")\n",
    "#plt.plot(t,m(minx[0]),color=\"yellow\")"
   ]
  },
  {
   "cell_type": "code",
   "execution_count": 31,
   "metadata": {},
   "outputs": [
    {
     "data": {
      "text/plain": [
       "4.793652244287216"
      ]
     },
     "execution_count": 31,
     "metadata": {},
     "output_type": "execute_result"
    }
   ],
   "source": [
    "abs(r([ -2.7967951 , -13.06878025])).sum()"
   ]
  },
  {
   "cell_type": "markdown",
   "metadata": {},
   "source": [
    "# Problem 5 - Non Linear Least Square"
   ]
  },
  {
   "cell_type": "code",
   "execution_count": 32,
   "metadata": {},
   "outputs": [],
   "source": [
    "pop_sample=np.array([[0., 1., 2., 3., 4., 5., 6., 7.],\n",
    "                     [ 3.929, 5.308, 7.24, 9.638, 12.866, 17.069, 23.192, 31.443]])"
   ]
  },
  {
   "cell_type": "code",
   "execution_count": 33,
   "metadata": {},
   "outputs": [],
   "source": [
    "t=pop_sample[0]\n",
    "y=pop_sample[1]\n",
    "\n",
    "psi = lambda x : x[0] * np.exp( x[1] * (t + x[2]))\n",
    "x_0 =np.array([150., .4, 2.5])\n",
    "r = lambda x : psi(x)-y\n",
    "J = lambda x : np.concatenate(((np.exp( x[1] * (t + x[2])))[None].T,\n",
    "                         (x[0]*np.multiply((t+x[2]),np.exp(x[1]*(t+x[2]))))[None].T,\n",
    "                         (x[0]*x[1]*np.exp(x[1]*(t+x[2])))[None].T),axis=1)\n",
    "tol = 1e-10\n",
    "maxiter = 1000"
   ]
  },
  {
   "cell_type": "code",
   "execution_count": 34,
   "metadata": {},
   "outputs": [
    {
     "name": "stdout",
     "output_type": "stream",
     "text": [
      "[138.53919862   0.29686346 -12.00846177]\n"
     ]
    }
   ],
   "source": [
    "minx = opt.leastsq(func=r, x0=x_0, Dfun=J,xtol=tol,maxfev=maxiter)\n",
    "print(minx[0])"
   ]
  },
  {
   "cell_type": "code",
   "execution_count": 35,
   "metadata": {},
   "outputs": [
    {
     "data": {
      "text/plain": [
       "[<matplotlib.lines.Line2D at 0x151e2fb438>]"
      ]
     },
     "execution_count": 35,
     "metadata": {},
     "output_type": "execute_result"
    },
    {
     "data": {
      "image/png": "[encoded data removed]",
      "text/plain": [
       "<matplotlib.figure.Figure at 0x151e2fb828>"
      ]
     },
     "metadata": {},
     "output_type": "display_data"
    }
   ],
   "source": [
    "plt.plot(t,y,color=\"yellow\") # original data\n",
    "plt.plot(t,psi(minx[0]),color='red',linestyle=':') #model line"
   ]
  }
 ],
 "metadata": {
  "kernelspec": {
   "display_name": "Python 3",
   "language": "python",
   "name": "python3"
  },
  "language_info": {
   "codemirror_mode": {
    "name": "ipython",
    "version": 3
   },
   "file_extension": ".py",
   "mimetype": "text/x-python",
   "name": "python",
   "nbconvert_exporter": "python",
   "pygments_lexer": "ipython3",
   "version": "3.6.4"
  }
 },
 "nbformat": 4,
 "nbformat_minor": 2
}
