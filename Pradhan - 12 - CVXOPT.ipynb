{
 "cells": [
  {
   "cell_type": "code",
   "execution_count": 4,
   "metadata": {},
   "outputs": [],
   "source": [
    "import cvxopt as co\n",
    "import numpy as np\n",
    "#co.solvers.options['show_progress'] = False"
   ]
  },
  {
   "cell_type": "markdown",
   "metadata": {},
   "source": [
    "# Problem 1"
   ]
  },
  {
   "cell_type": "code",
   "execution_count": 2,
   "metadata": {},
   "outputs": [],
   "source": [
    "G = np.array([[-1.,-2.,0.],[-2.,-10.,-3.],[-1.,0.,0.],[0.,-1.,0.],[0.,0.,-1.]])\n",
    "h = np.array([-3.,-10.,0.,0.,0.])\n",
    "c = np.array([2.,1.,3.])"
   ]
  },
  {
   "cell_type": "code",
   "execution_count": 3,
   "metadata": {},
   "outputs": [
    {
     "data": {
      "text/plain": [
       "array([[ -1.,  -2.,   0.],\n",
       "       [ -2., -10.,  -3.],\n",
       "       [ -1.,   0.,   0.],\n",
       "       [  0.,  -1.,   0.],\n",
       "       [  0.,   0.,  -1.]])"
      ]
     },
     "execution_count": 3,
     "metadata": {},
     "output_type": "execute_result"
    }
   ],
   "source": [
    "G"
   ]
  },
  {
   "cell_type": "code",
   "execution_count": 4,
   "metadata": {},
   "outputs": [
    {
     "data": {
      "text/plain": [
       "array([ -3., -10.,   0.,   0.,   0.])"
      ]
     },
     "execution_count": 4,
     "metadata": {},
     "output_type": "execute_result"
    }
   ],
   "source": [
    "h"
   ]
  },
  {
   "cell_type": "code",
   "execution_count": 5,
   "metadata": {},
   "outputs": [
    {
     "data": {
      "text/plain": [
       "array([2., 1., 3.])"
      ]
     },
     "execution_count": 5,
     "metadata": {},
     "output_type": "execute_result"
    }
   ],
   "source": [
    "c"
   ]
  },
  {
   "cell_type": "code",
   "execution_count": 6,
   "metadata": {},
   "outputs": [],
   "source": [
    "#converting to cvxopt matrix data type\n",
    "G = co.matrix(G)\n",
    "h = co.matrix(h)\n",
    "c = co.matrix(c)"
   ]
  },
  {
   "cell_type": "code",
   "execution_count": 7,
   "metadata": {},
   "outputs": [
    {
     "name": "stdout",
     "output_type": "stream",
     "text": [
      "     pcost       dcost       gap    pres   dres   k/t\n",
      " 0:  1.7500e+00  2.7750e+01  2e+01  3e-01  8e+00  1e+00\n",
      " 1:  2.3244e+00  7.3350e+00  3e+00  6e-02  1e+00  3e-01\n",
      " 2:  1.5194e+00  3.0005e+00  1e+00  2e-02  4e-01  2e-01\n",
      " 3:  1.4996e+00  1.5212e+00  2e-02  3e-04  6e-03  2e-03\n",
      " 4:  1.5000e+00  1.5002e+00  2e-04  3e-06  6e-05  2e-05\n",
      " 5:  1.5000e+00  1.5000e+00  2e-06  3e-08  6e-07  2e-07\n",
      " 6:  1.5000e+00  1.5000e+00  2e-08  3e-10  6e-09  2e-09\n",
      "Optimal solution found.\n"
     ]
    }
   ],
   "source": [
    "#using built-in solver\n",
    "sol = co.solvers.lp(c, G, h)"
   ]
  },
  {
   "cell_type": "code",
   "execution_count": 8,
   "metadata": {},
   "outputs": [
    {
     "name": "stdout",
     "output_type": "stream",
     "text": [
      "[-1.15e-09]\n",
      "[ 1.50e+00]\n",
      "[ 6.95e-11]\n",
      "\n"
     ]
    }
   ],
   "source": [
    "#printing optimal solution to minimization problem\n",
    "print (sol['x'])"
   ]
  },
  {
   "cell_type": "code",
   "execution_count": 9,
   "metadata": {},
   "outputs": [
    {
     "name": "stdout",
     "output_type": "stream",
     "text": [
      "1.4999999996249473\n"
     ]
    }
   ],
   "source": [
    "#printing optimum value\n",
    "print (sol['primal objective'])"
   ]
  },
  {
   "cell_type": "markdown",
   "metadata": {},
   "source": [
    "# Problem 2"
   ]
  },
  {
   "cell_type": "code",
   "execution_count": 10,
   "metadata": {},
   "outputs": [],
   "source": [
    "def l1Min(A,b):\n",
    "    n = A.shape[1]\n",
    "    c = co.matrix(np.concatenate((np.ones(n), np.zeros(n))))\n",
    "    G = np.concatenate((\n",
    "            np.concatenate((-np.identity(n), np.identity(n)), axis=1),\n",
    "            np.concatenate((-np.identity(n),-np.identity(n)), axis=1),\n",
    "            np.concatenate((np.zeros(A.shape), A),axis=1),\n",
    "            np.concatenate((np.zeros(A.shape), -A),axis=1)), \n",
    "        axis=0)\n",
    "    h = np.concatenate((np.zeros(2*n),b, -b))\n",
    "    \n",
    "    #converting to cvxopt matrix data type\n",
    "    G = co.matrix(G)\n",
    "    h = co.matrix(h)\n",
    "    c = co.matrix(c)\n",
    "    \n",
    "    #using built-in solver\n",
    "    sol = co.solvers.lp(c, G, h)\n",
    "    \n",
    "    #printing optimal solution to minimization problem\n",
    "    soln = (np.array(sol['x'][n:]), sol['primal objective'])\n",
    "    print (\"\\nOptimum value of x:\")\n",
    "    print (sol['x'][n:])\n",
    "    \n",
    "    #printing optimum value\n",
    "    print (\"\\nOptimum value of objective function:\")\n",
    "    print (sol['primal objective'])\n",
    "    \n",
    "    \n",
    "    return soln"
   ]
  },
  {
   "cell_type": "code",
   "execution_count": 11,
   "metadata": {},
   "outputs": [],
   "source": [
    "#Test Values\n",
    "A = np.array([[1.,1.,0.,0.,0.,0.],\n",
    "             [0.,0.,1.,1.,0.,0.],\n",
    "             [0.,0.,0.,0.,1.,1.],\n",
    "             [1.,0.,1.,0.,1.,0.],\n",
    "             [0.,1.,0.,1.,0.,1.]])\n",
    "b = np.array([7., 2., 4., 5., 8.])"
   ]
  },
  {
   "cell_type": "code",
   "execution_count": 12,
   "metadata": {},
   "outputs": [
    {
     "name": "stdout",
     "output_type": "stream",
     "text": [
      "     pcost       dcost       gap    pres   dres   k/t\n",
      " 0:  0.0000e+00 -0.0000e+00  1e+02  1e+00  2e+00  1e+00\n",
      " 1:  1.2425e+01  1.2886e+01  2e+01  2e-01  4e-01  7e-01\n",
      " 2:  1.2841e+01  1.2920e+01  2e+00  2e-02  4e-02  1e-01\n",
      " 3:  1.2998e+01  1.2999e+01  2e-02  2e-04  4e-04  1e-03\n",
      " 4:  1.3000e+01  1.3000e+01  2e-04  2e-06  4e-06  1e-05\n",
      " 5:  1.3000e+01  1.3000e+01  2e-06  2e-08  4e-08  1e-07\n",
      "Optimal solution found.\n",
      "\n",
      "Optimum value of x:\n",
      "[ 2.59e+00]\n",
      "[ 4.41e+00]\n",
      "[ 8.29e-01]\n",
      "[ 1.17e+00]\n",
      "[ 1.58e+00]\n",
      "[ 2.42e+00]\n",
      "\n",
      "\n",
      "Optimum value of objective function:\n",
      "12.999999848361481\n"
     ]
    }
   ],
   "source": [
    "optimum = l1Min(A,b)"
   ]
  },
  {
   "cell_type": "markdown",
   "metadata": {},
   "source": [
    "# Problem 3"
   ]
  },
  {
   "cell_type": "code",
   "execution_count": 13,
   "metadata": {},
   "outputs": [],
   "source": [
    "c = co.matrix([4., 7., 6., 8., 8., 9.])\n",
    "G = co.matrix(np.concatenate((-np.eye(6), \n",
    "                              -np.array([0.,1.,0.,1.,0.,1.])[None], \n",
    "                              np.array([0.,1.,0.,1.,0.,1.])[None]), axis=0))\n",
    "h = co.matrix(np.concatenate((np.zeros(6),[-8],[8])))\n",
    "A = co.matrix(np.array([[1.,1.,0.,0.,0.,0.],\n",
    "                     [0.,0.,1.,1.,0.,0.],\n",
    "                     [0.,0.,0.,0.,1.,1.],\n",
    "                     [1.,0.,1.,0.,1.,0.]]))\n",
    "b = co.matrix([7., 2., 4., 5.])\n"
   ]
  },
  {
   "cell_type": "code",
   "execution_count": 14,
   "metadata": {},
   "outputs": [
    {
     "name": "stdout",
     "output_type": "stream",
     "text": [
      "     pcost       dcost       gap    pres   dres   k/t\n",
      " 0:  8.9500e+01  8.9500e+01  3e+01  3e-01  2e-01  1e+00\n",
      " 1:  8.6253e+01  8.6372e+01  2e+00  2e-02  2e-02  2e-01\n",
      " 2:  8.5980e+01  8.6000e+01  3e-01  3e-03  3e-03  3e-02\n",
      " 3:  8.6000e+01  8.6000e+01  3e-03  3e-05  3e-05  3e-04\n",
      " 4:  8.6000e+01  8.6000e+01  3e-05  3e-07  3e-07  3e-06\n",
      " 5:  8.6000e+01  8.6000e+01  3e-07  3e-09  3e-09  3e-08\n",
      "Optimal solution found.\n",
      "[ 5.00e+00]\n",
      "[ 2.00e+00]\n",
      "[-7.03e-09]\n",
      "[ 2.00e+00]\n",
      "[-5.45e-09]\n",
      "[ 4.00e+00]\n",
      "\n",
      "85.99999998207521\n"
     ]
    }
   ],
   "source": [
    "sol = co.solvers.lp(c, G, h, A, b)\n",
    "print (sol['x'])\n",
    "print (sol['primal objective'])"
   ]
  },
  {
   "cell_type": "markdown",
   "metadata": {},
   "source": [
    "# Problem 4"
   ]
  },
  {
   "cell_type": "code",
   "execution_count": 21,
   "metadata": {},
   "outputs": [],
   "source": [
    "P = co.matrix(np.array([[1.,2./3,1./3],[2./3,4./3,2./3],[1./3,2./3,1]]))\n",
    "q = co.matrix(np.array([3.,0.,1.]))"
   ]
  },
  {
   "cell_type": "code",
   "execution_count": 29,
   "metadata": {},
   "outputs": [
    {
     "name": "stdout",
     "output_type": "stream",
     "text": [
      "Optimum X value:\n",
      "\n",
      "[-4.50e+00]\n",
      "[ 3.00e+00]\n",
      "[-1.50e+00]\n",
      "\n",
      "Optimum Objective value:  -7.5\n"
     ]
    }
   ],
   "source": [
    "sol = co.solvers.qp(P,q)\n",
    "print (\"Optimum X value:\\n\")\n",
    "print (sol['x'])\n",
    "print (\"Optimum Objective value: \",sol['primal objective'])"
   ]
  },
  {
   "cell_type": "markdown",
   "metadata": {},
   "source": [
    "# Problem 5"
   ]
  },
  {
   "cell_type": "code",
   "execution_count": 30,
   "metadata": {},
   "outputs": [],
   "source": [
    "def l2Min(A,b):\n",
    "    n = A.shape[1]\n",
    "    G = np.concatenate((\n",
    "            np.concatenate((-np.identity(n), np.identity(n)), axis=1),\n",
    "            np.concatenate((-np.identity(n),-np.identity(n)), axis=1),\n",
    "            np.concatenate((np.zeros(A.shape), A),axis=1),\n",
    "            np.concatenate((np.zeros(A.shape), -A),axis=1)), \n",
    "        axis=0)\n",
    "    h = np.concatenate((np.zeros(2*n),b, -b))\n",
    "    P = np.eye(n)\n",
    "    q = np.zeros(n)\n",
    "    \n",
    "    G = co.matrix(G)\n",
    "    h = co.matrix(h)\n",
    "    P = co.matrix(P)\n",
    "    q = co.matrix(q)\n",
    "    \n",
    "    \n",
    "    \n",
    "    #using built-in solver\n",
    "    sol = co.solvers.qp(P, q, G, h)\n",
    "    \n",
    "    #printing optimal solution to minimization problem\n",
    "    soln = (np.array(sol['x'][n:]), sol['primal objective'])\n",
    "    print (\"\\nOptimum value of x:\")\n",
    "    print (sol['x'][n:])\n",
    "    \n",
    "    #printing optimum value\n",
    "    print (\"\\nOptimum value of objective function:\")\n",
    "    print (sol['primal objective'])\n",
    "    \n",
    "    \n",
    "    return soln"
   ]
  },
  {
   "cell_type": "code",
   "execution_count": 16,
   "metadata": {},
   "outputs": [],
   "source": [
    "def l2Min(A,b):\n",
    "    n = A.shape[1]\n",
    "    P = np.eye(n)\n",
    "    q = np.zeros(n)\n",
    "\n",
    "    G = np.concatenate((\n",
    "            -np.identity(n),\n",
    "            A,\n",
    "            -A), \n",
    "        axis=0)\n",
    "    h = np.concatenate((np.zeros(n),b,-b))\n",
    "    \n",
    "    \n",
    "    P = co.matrix(P)\n",
    "    q = co.matrix(q) \n",
    "    G = co.matrix(G)\n",
    "    h = co.matrix(h)\n",
    "    \n",
    "    #using built-in solver\n",
    "    sol = co.solvers.qp(P, q, G, h)\n",
    "    \n",
    "    #printing optimal solution to minimization problem\n",
    "    soln = (np.array(sol['x']), sol['primal objective'])\n",
    "    print (\"\\nOptimum value of x:\")\n",
    "    print (sol['x'])\n",
    "    \n",
    "    #printing optimum value\n",
    "    print (\"\\nOptimum value of objective function:\")\n",
    "    print (sol['primal objective'])\n",
    "    \n",
    "    \n",
    "    return soln"
   ]
  },
  {
   "cell_type": "code",
   "execution_count": 17,
   "metadata": {},
   "outputs": [],
   "source": [
    "A = np.array([[1., 1.]])\n",
    "b = np.array([2.])"
   ]
  },
  {
   "cell_type": "code",
   "execution_count": 18,
   "metadata": {},
   "outputs": [
    {
     "name": "stdout",
     "output_type": "stream",
     "text": [
      "     pcost       dcost       gap    pres   dres\n",
      " 0:  4.4444e-01  0.0000e+00  9e+00  1e+00  2e+00\n",
      " 1:  1.0145e+00  3.1847e-01  8e-01  3e-02  5e-02\n",
      " 2:  9.9985e-01  9.8717e-01  1e-02  5e-04  1e-03\n",
      " 3:  1.0000e+00  9.9987e-01  1e-04  5e-06  1e-05\n",
      " 4:  1.0000e+00  1.0000e+00  1e-06  5e-08  1e-07\n",
      " 5:  1.0000e+00  1.0000e+00  1e-08  5e-10  1e-09\n",
      "Optimal solution found.\n",
      "\n",
      "Optimum value of x:\n",
      "[ 1.00e+00]\n",
      "[ 1.00e+00]\n",
      "\n",
      "\n",
      "Optimum value of objective function:\n",
      "0.9999999998482699\n"
     ]
    },
    {
     "data": {
      "text/plain": [
       "(array([[1.],\n",
       "        [1.]]), 0.9999999998482699)"
      ]
     },
     "execution_count": 18,
     "metadata": {},
     "output_type": "execute_result"
    }
   ],
   "source": [
    "l2Min(A, b)"
   ]
  },
  {
   "cell_type": "markdown",
   "metadata": {},
   "source": [
    "# Problem 6"
   ]
  },
  {
   "cell_type": "code",
   "execution_count": 180,
   "metadata": {},
   "outputs": [],
   "source": [
    "forest_data = np.load(\"/Users/spradhan/Downloads/Data-master/CVXOPT_Intro/ForestData.npy\")\n"
   ]
  },
  {
   "cell_type": "code",
   "execution_count": 184,
   "metadata": {},
   "outputs": [],
   "source": [
    "import pandas as pd\n",
    "df=pd.DataFrame(forest_data)\n",
    "df.columns = ['i', 's_i','j','p_ij','t_ij','g_ij','w_ij']\n",
    "df[\"i\"] = np.array([1,1,1,2,2,2,3,3,3,4,4,4,5,5,5,6,6,6,7,7,7])\n",
    "df[\"s_i\"] = np.array([75,75,57,90,90,90,140,140,140,60,60,60,212,212,212,98,98,98,113,113,113])"
   ]
  },
  {
   "cell_type": "code",
   "execution_count": 185,
   "metadata": {},
   "outputs": [
    {
     "data": {
      "text/html": [
       "<div>\n",
       "<style scoped>\n",
       "    .dataframe tbody tr th:only-of-type {\n",
       "        vertical-align: middle;\n",
       "    }\n",
       "\n",
       "    .dataframe tbody tr th {\n",
       "        vertical-align: top;\n",
       "    }\n",
       "\n",
       "    .dataframe thead th {\n",
       "        text-align: right;\n",
       "    }\n",
       "</style>\n",
       "<table border=\"1\" class=\"dataframe\">\n",
       "  <thead>\n",
       "    <tr style=\"text-align: right;\">\n",
       "      <th></th>\n",
       "      <th>i</th>\n",
       "      <th>s_i</th>\n",
       "      <th>j</th>\n",
       "      <th>p_ij</th>\n",
       "      <th>t_ij</th>\n",
       "      <th>g_ij</th>\n",
       "      <th>w_ij</th>\n",
       "    </tr>\n",
       "  </thead>\n",
       "  <tbody>\n",
       "    <tr>\n",
       "      <th>0</th>\n",
       "      <td>1</td>\n",
       "      <td>75</td>\n",
       "      <td>1.0</td>\n",
       "      <td>503.0</td>\n",
       "      <td>310.0</td>\n",
       "      <td>0.01</td>\n",
       "      <td>40.0</td>\n",
       "    </tr>\n",
       "    <tr>\n",
       "      <th>1</th>\n",
       "      <td>1</td>\n",
       "      <td>75</td>\n",
       "      <td>2.0</td>\n",
       "      <td>140.0</td>\n",
       "      <td>50.0</td>\n",
       "      <td>0.04</td>\n",
       "      <td>80.0</td>\n",
       "    </tr>\n",
       "    <tr>\n",
       "      <th>2</th>\n",
       "      <td>1</td>\n",
       "      <td>57</td>\n",
       "      <td>3.0</td>\n",
       "      <td>203.0</td>\n",
       "      <td>0.0</td>\n",
       "      <td>0.00</td>\n",
       "      <td>95.0</td>\n",
       "    </tr>\n",
       "    <tr>\n",
       "      <th>3</th>\n",
       "      <td>2</td>\n",
       "      <td>90</td>\n",
       "      <td>1.0</td>\n",
       "      <td>675.0</td>\n",
       "      <td>198.0</td>\n",
       "      <td>0.03</td>\n",
       "      <td>55.0</td>\n",
       "    </tr>\n",
       "    <tr>\n",
       "      <th>4</th>\n",
       "      <td>2</td>\n",
       "      <td>90</td>\n",
       "      <td>2.0</td>\n",
       "      <td>100.0</td>\n",
       "      <td>46.0</td>\n",
       "      <td>0.06</td>\n",
       "      <td>60.0</td>\n",
       "    </tr>\n",
       "    <tr>\n",
       "      <th>5</th>\n",
       "      <td>2</td>\n",
       "      <td>90</td>\n",
       "      <td>3.0</td>\n",
       "      <td>45.0</td>\n",
       "      <td>0.0</td>\n",
       "      <td>0.00</td>\n",
       "      <td>65.0</td>\n",
       "    </tr>\n",
       "    <tr>\n",
       "      <th>6</th>\n",
       "      <td>3</td>\n",
       "      <td>140</td>\n",
       "      <td>1.0</td>\n",
       "      <td>630.0</td>\n",
       "      <td>210.0</td>\n",
       "      <td>0.04</td>\n",
       "      <td>45.0</td>\n",
       "    </tr>\n",
       "    <tr>\n",
       "      <th>7</th>\n",
       "      <td>3</td>\n",
       "      <td>140</td>\n",
       "      <td>2.0</td>\n",
       "      <td>105.0</td>\n",
       "      <td>57.0</td>\n",
       "      <td>0.07</td>\n",
       "      <td>55.0</td>\n",
       "    </tr>\n",
       "    <tr>\n",
       "      <th>8</th>\n",
       "      <td>3</td>\n",
       "      <td>140</td>\n",
       "      <td>3.0</td>\n",
       "      <td>40.0</td>\n",
       "      <td>0.0</td>\n",
       "      <td>0.00</td>\n",
       "      <td>60.0</td>\n",
       "    </tr>\n",
       "    <tr>\n",
       "      <th>9</th>\n",
       "      <td>4</td>\n",
       "      <td>60</td>\n",
       "      <td>1.0</td>\n",
       "      <td>330.0</td>\n",
       "      <td>112.0</td>\n",
       "      <td>0.01</td>\n",
       "      <td>30.0</td>\n",
       "    </tr>\n",
       "    <tr>\n",
       "      <th>10</th>\n",
       "      <td>4</td>\n",
       "      <td>60</td>\n",
       "      <td>2.0</td>\n",
       "      <td>40.0</td>\n",
       "      <td>30.0</td>\n",
       "      <td>0.02</td>\n",
       "      <td>35.0</td>\n",
       "    </tr>\n",
       "    <tr>\n",
       "      <th>11</th>\n",
       "      <td>4</td>\n",
       "      <td>60</td>\n",
       "      <td>3.0</td>\n",
       "      <td>295.0</td>\n",
       "      <td>0.0</td>\n",
       "      <td>0.00</td>\n",
       "      <td>90.0</td>\n",
       "    </tr>\n",
       "    <tr>\n",
       "      <th>12</th>\n",
       "      <td>5</td>\n",
       "      <td>212</td>\n",
       "      <td>1.0</td>\n",
       "      <td>105.0</td>\n",
       "      <td>40.0</td>\n",
       "      <td>0.05</td>\n",
       "      <td>60.0</td>\n",
       "    </tr>\n",
       "    <tr>\n",
       "      <th>13</th>\n",
       "      <td>5</td>\n",
       "      <td>212</td>\n",
       "      <td>2.0</td>\n",
       "      <td>460.0</td>\n",
       "      <td>32.0</td>\n",
       "      <td>0.08</td>\n",
       "      <td>60.0</td>\n",
       "    </tr>\n",
       "    <tr>\n",
       "      <th>14</th>\n",
       "      <td>5</td>\n",
       "      <td>212</td>\n",
       "      <td>3.0</td>\n",
       "      <td>120.0</td>\n",
       "      <td>0.0</td>\n",
       "      <td>0.00</td>\n",
       "      <td>70.0</td>\n",
       "    </tr>\n",
       "    <tr>\n",
       "      <th>15</th>\n",
       "      <td>6</td>\n",
       "      <td>98</td>\n",
       "      <td>1.0</td>\n",
       "      <td>490.0</td>\n",
       "      <td>105.0</td>\n",
       "      <td>0.02</td>\n",
       "      <td>35.0</td>\n",
       "    </tr>\n",
       "    <tr>\n",
       "      <th>16</th>\n",
       "      <td>6</td>\n",
       "      <td>98</td>\n",
       "      <td>2.0</td>\n",
       "      <td>55.0</td>\n",
       "      <td>25.0</td>\n",
       "      <td>0.03</td>\n",
       "      <td>50.0</td>\n",
       "    </tr>\n",
       "    <tr>\n",
       "      <th>17</th>\n",
       "      <td>6</td>\n",
       "      <td>98</td>\n",
       "      <td>3.0</td>\n",
       "      <td>180.0</td>\n",
       "      <td>0.0</td>\n",
       "      <td>0.00</td>\n",
       "      <td>75.0</td>\n",
       "    </tr>\n",
       "    <tr>\n",
       "      <th>18</th>\n",
       "      <td>7</td>\n",
       "      <td>113</td>\n",
       "      <td>1.0</td>\n",
       "      <td>705.0</td>\n",
       "      <td>213.0</td>\n",
       "      <td>0.02</td>\n",
       "      <td>40.0</td>\n",
       "    </tr>\n",
       "    <tr>\n",
       "      <th>19</th>\n",
       "      <td>7</td>\n",
       "      <td>113</td>\n",
       "      <td>2.0</td>\n",
       "      <td>60.0</td>\n",
       "      <td>40.0</td>\n",
       "      <td>0.04</td>\n",
       "      <td>45.0</td>\n",
       "    </tr>\n",
       "    <tr>\n",
       "      <th>20</th>\n",
       "      <td>7</td>\n",
       "      <td>113</td>\n",
       "      <td>3.0</td>\n",
       "      <td>400.0</td>\n",
       "      <td>0.0</td>\n",
       "      <td>0.00</td>\n",
       "      <td>95.0</td>\n",
       "    </tr>\n",
       "  </tbody>\n",
       "</table>\n",
       "</div>"
      ],
      "text/plain": [
       "    i  s_i    j   p_ij   t_ij  g_ij  w_ij\n",
       "0   1   75  1.0  503.0  310.0  0.01  40.0\n",
       "1   1   75  2.0  140.0   50.0  0.04  80.0\n",
       "2   1   57  3.0  203.0    0.0  0.00  95.0\n",
       "3   2   90  1.0  675.0  198.0  0.03  55.0\n",
       "4   2   90  2.0  100.0   46.0  0.06  60.0\n",
       "5   2   90  3.0   45.0    0.0  0.00  65.0\n",
       "6   3  140  1.0  630.0  210.0  0.04  45.0\n",
       "7   3  140  2.0  105.0   57.0  0.07  55.0\n",
       "8   3  140  3.0   40.0    0.0  0.00  60.0\n",
       "9   4   60  1.0  330.0  112.0  0.01  30.0\n",
       "10  4   60  2.0   40.0   30.0  0.02  35.0\n",
       "11  4   60  3.0  295.0    0.0  0.00  90.0\n",
       "12  5  212  1.0  105.0   40.0  0.05  60.0\n",
       "13  5  212  2.0  460.0   32.0  0.08  60.0\n",
       "14  5  212  3.0  120.0    0.0  0.00  70.0\n",
       "15  6   98  1.0  490.0  105.0  0.02  35.0\n",
       "16  6   98  2.0   55.0   25.0  0.03  50.0\n",
       "17  6   98  3.0  180.0    0.0  0.00  75.0\n",
       "18  7  113  1.0  705.0  213.0  0.02  40.0\n",
       "19  7  113  2.0   60.0   40.0  0.04  45.0\n",
       "20  7  113  3.0  400.0    0.0  0.00  95.0"
      ]
     },
     "execution_count": 185,
     "metadata": {},
     "output_type": "execute_result"
    }
   ],
   "source": [
    "df"
   ]
  },
  {
   "cell_type": "code",
   "execution_count": 186,
   "metadata": {},
   "outputs": [
    {
     "data": {
      "text/html": [
       "<div>\n",
       "<style scoped>\n",
       "    .dataframe tbody tr th:only-of-type {\n",
       "        vertical-align: middle;\n",
       "    }\n",
       "\n",
       "    .dataframe tbody tr th {\n",
       "        vertical-align: top;\n",
       "    }\n",
       "\n",
       "    .dataframe thead th {\n",
       "        text-align: right;\n",
       "    }\n",
       "</style>\n",
       "<table border=\"1\" class=\"dataframe\">\n",
       "  <thead>\n",
       "    <tr style=\"text-align: right;\">\n",
       "      <th></th>\n",
       "      <th>i</th>\n",
       "      <th>s_i</th>\n",
       "      <th>j</th>\n",
       "      <th>p_ij</th>\n",
       "      <th>t_ij</th>\n",
       "      <th>g_ij</th>\n",
       "      <th>w_ij</th>\n",
       "    </tr>\n",
       "  </thead>\n",
       "  <tbody>\n",
       "    <tr>\n",
       "      <th>0</th>\n",
       "      <td>1</td>\n",
       "      <td>75</td>\n",
       "      <td>1.0</td>\n",
       "      <td>503.0</td>\n",
       "      <td>310.0</td>\n",
       "      <td>0.01</td>\n",
       "      <td>40.0</td>\n",
       "    </tr>\n",
       "    <tr>\n",
       "      <th>1</th>\n",
       "      <td>1</td>\n",
       "      <td>75</td>\n",
       "      <td>2.0</td>\n",
       "      <td>140.0</td>\n",
       "      <td>50.0</td>\n",
       "      <td>0.04</td>\n",
       "      <td>80.0</td>\n",
       "    </tr>\n",
       "    <tr>\n",
       "      <th>2</th>\n",
       "      <td>1</td>\n",
       "      <td>57</td>\n",
       "      <td>3.0</td>\n",
       "      <td>203.0</td>\n",
       "      <td>0.0</td>\n",
       "      <td>0.00</td>\n",
       "      <td>95.0</td>\n",
       "    </tr>\n",
       "    <tr>\n",
       "      <th>3</th>\n",
       "      <td>2</td>\n",
       "      <td>90</td>\n",
       "      <td>1.0</td>\n",
       "      <td>675.0</td>\n",
       "      <td>198.0</td>\n",
       "      <td>0.03</td>\n",
       "      <td>55.0</td>\n",
       "    </tr>\n",
       "    <tr>\n",
       "      <th>4</th>\n",
       "      <td>2</td>\n",
       "      <td>90</td>\n",
       "      <td>2.0</td>\n",
       "      <td>100.0</td>\n",
       "      <td>46.0</td>\n",
       "      <td>0.06</td>\n",
       "      <td>60.0</td>\n",
       "    </tr>\n",
       "    <tr>\n",
       "      <th>5</th>\n",
       "      <td>2</td>\n",
       "      <td>90</td>\n",
       "      <td>3.0</td>\n",
       "      <td>45.0</td>\n",
       "      <td>0.0</td>\n",
       "      <td>0.00</td>\n",
       "      <td>65.0</td>\n",
       "    </tr>\n",
       "    <tr>\n",
       "      <th>6</th>\n",
       "      <td>3</td>\n",
       "      <td>140</td>\n",
       "      <td>1.0</td>\n",
       "      <td>630.0</td>\n",
       "      <td>210.0</td>\n",
       "      <td>0.04</td>\n",
       "      <td>45.0</td>\n",
       "    </tr>\n",
       "    <tr>\n",
       "      <th>7</th>\n",
       "      <td>3</td>\n",
       "      <td>140</td>\n",
       "      <td>2.0</td>\n",
       "      <td>105.0</td>\n",
       "      <td>57.0</td>\n",
       "      <td>0.07</td>\n",
       "      <td>55.0</td>\n",
       "    </tr>\n",
       "    <tr>\n",
       "      <th>8</th>\n",
       "      <td>3</td>\n",
       "      <td>140</td>\n",
       "      <td>3.0</td>\n",
       "      <td>40.0</td>\n",
       "      <td>0.0</td>\n",
       "      <td>0.00</td>\n",
       "      <td>60.0</td>\n",
       "    </tr>\n",
       "    <tr>\n",
       "      <th>9</th>\n",
       "      <td>4</td>\n",
       "      <td>60</td>\n",
       "      <td>1.0</td>\n",
       "      <td>330.0</td>\n",
       "      <td>112.0</td>\n",
       "      <td>0.01</td>\n",
       "      <td>30.0</td>\n",
       "    </tr>\n",
       "    <tr>\n",
       "      <th>10</th>\n",
       "      <td>4</td>\n",
       "      <td>60</td>\n",
       "      <td>2.0</td>\n",
       "      <td>40.0</td>\n",
       "      <td>30.0</td>\n",
       "      <td>0.02</td>\n",
       "      <td>35.0</td>\n",
       "    </tr>\n",
       "    <tr>\n",
       "      <th>11</th>\n",
       "      <td>4</td>\n",
       "      <td>60</td>\n",
       "      <td>3.0</td>\n",
       "      <td>295.0</td>\n",
       "      <td>0.0</td>\n",
       "      <td>0.00</td>\n",
       "      <td>90.0</td>\n",
       "    </tr>\n",
       "    <tr>\n",
       "      <th>12</th>\n",
       "      <td>5</td>\n",
       "      <td>212</td>\n",
       "      <td>1.0</td>\n",
       "      <td>105.0</td>\n",
       "      <td>40.0</td>\n",
       "      <td>0.05</td>\n",
       "      <td>60.0</td>\n",
       "    </tr>\n",
       "    <tr>\n",
       "      <th>13</th>\n",
       "      <td>5</td>\n",
       "      <td>212</td>\n",
       "      <td>2.0</td>\n",
       "      <td>460.0</td>\n",
       "      <td>32.0</td>\n",
       "      <td>0.08</td>\n",
       "      <td>60.0</td>\n",
       "    </tr>\n",
       "    <tr>\n",
       "      <th>14</th>\n",
       "      <td>5</td>\n",
       "      <td>212</td>\n",
       "      <td>3.0</td>\n",
       "      <td>120.0</td>\n",
       "      <td>0.0</td>\n",
       "      <td>0.00</td>\n",
       "      <td>70.0</td>\n",
       "    </tr>\n",
       "    <tr>\n",
       "      <th>15</th>\n",
       "      <td>6</td>\n",
       "      <td>98</td>\n",
       "      <td>1.0</td>\n",
       "      <td>490.0</td>\n",
       "      <td>105.0</td>\n",
       "      <td>0.02</td>\n",
       "      <td>35.0</td>\n",
       "    </tr>\n",
       "    <tr>\n",
       "      <th>16</th>\n",
       "      <td>6</td>\n",
       "      <td>98</td>\n",
       "      <td>2.0</td>\n",
       "      <td>55.0</td>\n",
       "      <td>25.0</td>\n",
       "      <td>0.03</td>\n",
       "      <td>50.0</td>\n",
       "    </tr>\n",
       "    <tr>\n",
       "      <th>17</th>\n",
       "      <td>6</td>\n",
       "      <td>98</td>\n",
       "      <td>3.0</td>\n",
       "      <td>180.0</td>\n",
       "      <td>0.0</td>\n",
       "      <td>0.00</td>\n",
       "      <td>75.0</td>\n",
       "    </tr>\n",
       "    <tr>\n",
       "      <th>18</th>\n",
       "      <td>7</td>\n",
       "      <td>113</td>\n",
       "      <td>1.0</td>\n",
       "      <td>705.0</td>\n",
       "      <td>213.0</td>\n",
       "      <td>0.02</td>\n",
       "      <td>40.0</td>\n",
       "    </tr>\n",
       "    <tr>\n",
       "      <th>19</th>\n",
       "      <td>7</td>\n",
       "      <td>113</td>\n",
       "      <td>2.0</td>\n",
       "      <td>60.0</td>\n",
       "      <td>40.0</td>\n",
       "      <td>0.04</td>\n",
       "      <td>45.0</td>\n",
       "    </tr>\n",
       "    <tr>\n",
       "      <th>20</th>\n",
       "      <td>7</td>\n",
       "      <td>113</td>\n",
       "      <td>3.0</td>\n",
       "      <td>400.0</td>\n",
       "      <td>0.0</td>\n",
       "      <td>0.00</td>\n",
       "      <td>95.0</td>\n",
       "    </tr>\n",
       "  </tbody>\n",
       "</table>\n",
       "</div>"
      ],
      "text/plain": [
       "    i  s_i    j   p_ij   t_ij  g_ij  w_ij\n",
       "0   1   75  1.0  503.0  310.0  0.01  40.0\n",
       "1   1   75  2.0  140.0   50.0  0.04  80.0\n",
       "2   1   57  3.0  203.0    0.0  0.00  95.0\n",
       "3   2   90  1.0  675.0  198.0  0.03  55.0\n",
       "4   2   90  2.0  100.0   46.0  0.06  60.0\n",
       "5   2   90  3.0   45.0    0.0  0.00  65.0\n",
       "6   3  140  1.0  630.0  210.0  0.04  45.0\n",
       "7   3  140  2.0  105.0   57.0  0.07  55.0\n",
       "8   3  140  3.0   40.0    0.0  0.00  60.0\n",
       "9   4   60  1.0  330.0  112.0  0.01  30.0\n",
       "10  4   60  2.0   40.0   30.0  0.02  35.0\n",
       "11  4   60  3.0  295.0    0.0  0.00  90.0\n",
       "12  5  212  1.0  105.0   40.0  0.05  60.0\n",
       "13  5  212  2.0  460.0   32.0  0.08  60.0\n",
       "14  5  212  3.0  120.0    0.0  0.00  70.0\n",
       "15  6   98  1.0  490.0  105.0  0.02  35.0\n",
       "16  6   98  2.0   55.0   25.0  0.03  50.0\n",
       "17  6   98  3.0  180.0    0.0  0.00  75.0\n",
       "18  7  113  1.0  705.0  213.0  0.02  40.0\n",
       "19  7  113  2.0   60.0   40.0  0.04  45.0\n",
       "20  7  113  3.0  400.0    0.0  0.00  95.0"
      ]
     },
     "execution_count": 186,
     "metadata": {},
     "output_type": "execute_result"
    }
   ],
   "source": [
    "df=df.sort_values(by=['i','j'])\n",
    "df"
   ]
  },
  {
   "cell_type": "code",
   "execution_count": 224,
   "metadata": {},
   "outputs": [],
   "source": [
    "c = -df['p_ij'].values\n",
    "G = np.concatenate((\n",
    "        -df['t_ij'].values[None],\n",
    "        -df['g_ij'].values[None],\n",
    "        -1/788.0*df['w_ij'].values[None],\n",
    "        -np.eye(21)), axis=0)\n",
    "h = np.concatenate((np.array([-40000.,-5.,-70.]), np.zeros(21)))\n",
    "b = np.array([\n",
    "            df.loc[df[\"i\"]==1, \"s_i\"].sum()*1.0,\n",
    "            df.loc[df[\"i\"]==2, \"s_i\"].sum()*1.0,\n",
    "            df.loc[df[\"i\"]==3, \"s_i\"].sum()*1.0,\n",
    "            df.loc[df[\"i\"]==4, \"s_i\"].sum()*1.0,\n",
    "            df.loc[df[\"i\"]==5, \"s_i\"].sum()*1.0,\n",
    "            df.loc[df[\"i\"]==6, \"s_i\"].sum()*1.0,\n",
    "            df.loc[df[\"i\"]==7, \"s_i\"].sum()*1.0])\n",
    "A = np.concatenate((\n",
    "           ((df[\"i\"]==1).values+0.0)[None],\n",
    "           ((df[\"i\"]==2).values+0.0)[None],\n",
    "           ((df[\"i\"]==3).values+0.0)[None],\n",
    "           ((df[\"i\"]==4).values+0.0)[None],\n",
    "           ((df[\"i\"]==5).values+0.0)[None],\n",
    "           ((df[\"i\"]==6).values+0.0)[None],\n",
    "           ((df[\"i\"]==7).values+0.0)[None],\n",
    "          ),axis=0)              "
   ]
  },
  {
   "cell_type": "code",
   "execution_count": 225,
   "metadata": {},
   "outputs": [],
   "source": [
    "c = co.matrix(c)\n",
    "G = co.matrix(G)\n",
    "h = co.matrix(h)\n",
    "A = co.matrix(A)\n",
    "b = co.matrix(b)"
   ]
  },
  {
   "cell_type": "code",
   "execution_count": 226,
   "metadata": {},
   "outputs": [
    {
     "name": "stdout",
     "output_type": "stream",
     "text": [
      "     pcost       dcost       gap    pres   dres   k/t\n",
      " 0: -4.0054e+05  8.2796e+06  1e+06  1e-02  7e+01  1e+00\n",
      " 1: -6.1852e+05  2.2554e+06  3e+05  3e-03  2e+01  9e+03\n",
      " 2: -6.5846e+05 -2.1513e+05  4e+04  5e-04  4e+00  2e+03\n",
      " 3: -6.6537e+05 -5.3422e+05  1e+04  1e-04  1e+00  5e+02\n",
      " 4: -6.9656e+05  5.4374e+05  1e+06  1e-03  1e+01  9e+03\n",
      " 5: -7.9607e+05 -6.4544e+05  3e+05  2e-04  1e+00  1e+04\n",
      " 6: -9.7097e+05 -8.5436e+05  4e+05  1e-04  8e-01  1e+04\n",
      " 7: -1.0732e+06 -1.0167e+06  2e+05  5e-05  4e-01  8e+03\n",
      " 8: -1.1617e+06 -1.1329e+06  1e+05  3e-05  2e-01  4e+03\n",
      " 9: -1.2595e+06 -1.2524e+06  4e+04  7e-06  5e-02  1e+03\n",
      "10: -1.2814e+06 -1.2799e+06  8e+03  1e-06  9e-03  3e+02\n",
      "11: -1.2859e+06 -1.2859e+06  1e+02  2e-08  1e-04  4e+00\n",
      "12: -1.2860e+06 -1.2860e+06  1e+00  2e-10  1e-06  4e-02\n",
      "13: -1.2860e+06 -1.2860e+06  1e-02  2e-12  1e-08  4e-04\n",
      "Optimal solution found.\n"
     ]
    }
   ],
   "source": [
    "sol = co.solvers.lp(c,G,h,A,b)"
   ]
  },
  {
   "cell_type": "code",
   "execution_count": 230,
   "metadata": {},
   "outputs": [
    {
     "name": "stdout",
     "output_type": "stream",
     "text": [
      "Optimum X values:\n",
      "[[2.06999997e+05]\n",
      " [1.27080437e-03]\n",
      " [1.59274557e-03]\n",
      " [2.69999999e+05]\n",
      " [7.71034417e-04]\n",
      " [6.83078644e-04]\n",
      " [4.19999998e+05]\n",
      " [8.49624544e-04]\n",
      " [7.68649064e-04]\n",
      " [1.79999980e+05]\n",
      " [1.22354473e-03]\n",
      " [1.85568808e-02]\n",
      " [1.20585892e-03]\n",
      " [6.35999998e+05]\n",
      " [1.28254260e-03]\n",
      " [2.93999998e+05]\n",
      " [1.01489241e-03]\n",
      " [1.44125276e-03]\n",
      " [3.38999998e+05]\n",
      " [6.98182274e-04]\n",
      " [1.59490437e-03]]\n"
     ]
    }
   ],
   "source": [
    "print (\"Optimum value of X:\")\n",
    "print(np.array(1000*sol['x']))"
   ]
  },
  {
   "cell_type": "code",
   "execution_count": 231,
   "metadata": {},
   "outputs": [
    {
     "name": "stdout",
     "output_type": "stream",
     "text": [
      "Optimum value of Objective function:\n",
      "-1285985.9935941312\n"
     ]
    }
   ],
   "source": [
    "print (\"Optimum value of Objective function:\")\n",
    "print(sol['primal objective'])"
   ]
  }
 ],
 "metadata": {
  "kernelspec": {
   "display_name": "Python 3",
   "language": "python",
   "name": "python3"
  },
  "language_info": {
   "codemirror_mode": {
    "name": "ipython",
    "version": 3
   },
   "file_extension": ".py",
   "mimetype": "text/x-python",
   "name": "python",
   "nbconvert_exporter": "python",
   "pygments_lexer": "ipython3",
   "version": "3.6.4"
  }
 },
 "nbformat": 4,
 "nbformat_minor": 2
}
